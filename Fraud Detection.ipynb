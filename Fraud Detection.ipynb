{
  "nbformat": 4,
  "nbformat_minor": 0,
  "metadata": {
    "colab": {
      "name": "Part2.ipynb",
      "provenance": []
    },
    "kernelspec": {
      "name": "python3",
      "display_name": "Python 3"
    },
    "language_info": {
      "name": "python"
    }
  },
  "cells": [
    {
      "cell_type": "markdown",
      "metadata": {
        "id": "grLkOLwTr90z"
      },
      "source": [
        "**1. Data Collection and Pre-processing**"
      ]
    },
    {
      "cell_type": "markdown",
      "metadata": {
        "id": "YZeRnxsNsL0j"
      },
      "source": [
        "**a. Overview**\n",
        "\n",
        "The dataset was collected from IEEE-CIS Fraud Detection Contest, which was hosted on the Kaggle competition. There are 394 factors related to online tracked transactions and 41 factors associated with the identity of the transactions. Since the dataset was significant, we decided to use Python notebooks to pre-process the dataset, involving partitioning the data by its relationship with the response variable and figuring out a way of filtering N/A variables by its definition and collection process."
      ]
    },
    {
      "cell_type": "markdown",
      "metadata": {
        "id": "HDF5evrvs1n4"
      },
      "source": [
        "Mount and load the data set."
      ]
    },
    {
      "cell_type": "code",
      "metadata": {
        "id": "Ok0dy7vnvjkd",
        "colab": {
          "base_uri": "https://localhost:8080/"
        },
        "outputId": "c406cce0-3e3d-44f8-a2fb-66028c14f213"
      },
      "source": [
        "from google.colab import drive\n",
        "drive.mount(\"/content/drive\")"
      ],
      "execution_count": 1,
      "outputs": [
        {
          "output_type": "stream",
          "name": "stdout",
          "text": [
            "Mounted at /content/drive\n"
          ]
        }
      ]
    },
    {
      "cell_type": "code",
      "metadata": {
        "colab": {
          "base_uri": "https://localhost:8080/"
        },
        "id": "-AUYmOWwwJzp",
        "outputId": "880d0a5d-7576-40b2-d05a-e4b6e269e26e"
      },
      "source": [
        "cd /content/drive/MyDrive/D325_FinalPro/ieee-fraud-detection/"
      ],
      "execution_count": 2,
      "outputs": [
        {
          "output_type": "stream",
          "name": "stdout",
          "text": [
            "/content/drive/.shortcut-targets-by-id/1DjRvvcy3LDabuYpOjI8Z2WCk5FiSW3ZX/D325_FinalPro/ieee-fraud-detection\n"
          ]
        }
      ]
    },
    {
      "cell_type": "code",
      "metadata": {
        "colab": {
          "base_uri": "https://localhost:8080/"
        },
        "id": "rktF-H04wcEC",
        "outputId": "17ce70c7-6091-46bd-d4ff-98a9a84be2c2"
      },
      "source": [
        "ls"
      ],
      "execution_count": 3,
      "outputs": [
        {
          "output_type": "stream",
          "name": "stdout",
          "text": [
            "data_final.csv  sample_submission.csv  train_identity.csv\n",
            "dat.zip         test_identity.csv      train_transaction.csv\n",
            "fraud_net.h5    test_transaction.csv\n"
          ]
        }
      ]
    },
    {
      "cell_type": "code",
      "metadata": {
        "id": "_p6R7KyPwctC"
      },
      "source": [
        "data = \"./\"\n",
        "train_iden = data + \"train_identity.csv\"\n",
        "test_iden = data + \"test_identity.csv\"\n",
        "train_trans = data + \"train_transaction.csv\"\n",
        "test_trans = data + \"test_transaction.csv\"\n",
        "sample_sub = data + \"sample_submission.csv\""
      ],
      "execution_count": 4,
      "outputs": []
    },
    {
      "cell_type": "markdown",
      "metadata": {
        "id": "cn2J6aLttXv0"
      },
      "source": [
        "Install the necessary libraries."
      ]
    },
    {
      "cell_type": "code",
      "metadata": {
        "id": "xIWc6EJGwoqS"
      },
      "source": [
        "import pandas as pd\n",
        "import numpy as np\n",
        "import matplotlib.pyplot as plt\n",
        "import seaborn as sns\n",
        "\n",
        "from sklearn.linear_model import LogisticRegression\n",
        "\n",
        "import os\n",
        "import tempfile\n",
        "\n",
        "import tensorflow as tf\n",
        "from tensorflow import keras\n",
        "\n",
        "import sklearn\n",
        "from sklearn.metrics import confusion_matrix\n",
        "from sklearn.model_selection import train_test_split\n",
        "from sklearn.preprocessing import StandardScaler\n",
        "\n",
        "#from sklearn.datasets import make_classification\n",
        "#from sklearn.model_selection import cross_val_score\n",
        "#from sklearn.model_selection import RepeatedStratifiedKFold\n",
        "#from sklearn import svm\n",
        "\n",
        "from numpy import mean\n",
        "from sklearn.datasets import make_classification\n",
        "from sklearn.model_selection import cross_val_score\n",
        "#from sklearn.model_selection import RepeatedStratifiedKFold\n",
        "#from imblearn.ensemble import BalancedBaggingClassifier\n",
        "#from imblearn.ensemble import BalancedRandomForestClassifier\n",
        "\n",
        "## Neural Network\n",
        "from keras.models import Sequential\n",
        "from keras.layers import Dense\n",
        "from keras.wrappers.scikit_learn import KerasClassifier\n",
        "from keras.utils import np_utils\n",
        "from sklearn.model_selection import cross_val_score\n",
        "from sklearn.model_selection import KFold\n",
        "from sklearn.preprocessing import LabelEncoder\n",
        "from sklearn.pipeline import Pipeline\n",
        "\n",
        "## Using K-means Clustering\n",
        "from sklearn.cluster import KMeans\n",
        "from sklearn.metrics import classification_report,confusion_matrix\n",
        "from sklearn.metrics import precision_recall_fscore_support\n",
        "\n",
        "# decision tree for feature importance on a regression problem\n",
        "from sklearn.datasets import make_regression\n",
        "from sklearn.tree import DecisionTreeRegressor\n",
        "from matplotlib import pyplot\n",
        "from sklearn.inspection import permutation_importance"
      ],
      "execution_count": 22,
      "outputs": []
    },
    {
      "cell_type": "markdown",
      "metadata": {
        "id": "SnHCoyrvtfjF"
      },
      "source": [
        "Read the datasets and check the dimensions of the training dataset."
      ]
    },
    {
      "cell_type": "code",
      "metadata": {
        "id": "yMAWULb-xtzF"
      },
      "source": [
        "train_identity = pd.read_csv(train_iden)\n",
        "test_identity = pd.read_csv(test_iden)\n",
        "train_transaction = pd.read_csv(train_trans)\n",
        "test_transaction = pd.read_csv(test_trans)"
      ],
      "execution_count": 6,
      "outputs": []
    },
    {
      "cell_type": "markdown",
      "metadata": {
        "id": "EzZl_DJ5sfIO"
      },
      "source": [
        "**b. Data Pre-processing**"
      ]
    },
    {
      "cell_type": "code",
      "metadata": {
        "id": "NVkPLTWlymBV",
        "colab": {
          "base_uri": "https://localhost:8080/"
        },
        "outputId": "eda08f8a-d925-433f-a7f3-74f9614cfdc9"
      },
      "source": [
        "print(train_identity.shape[1])\n",
        "print(train_transaction.shape)"
      ],
      "execution_count": 7,
      "outputs": [
        {
          "output_type": "stream",
          "name": "stdout",
          "text": [
            "41\n",
            "(590540, 394)\n"
          ]
        }
      ]
    },
    {
      "cell_type": "code",
      "metadata": {
        "id": "pvQal21wyvD1",
        "colab": {
          "base_uri": "https://localhost:8080/"
        },
        "outputId": "99a39934-0ebe-4ca7-d1d9-3fb6b88df340"
      },
      "source": [
        "train_transaction.dtypes"
      ],
      "execution_count": null,
      "outputs": [
        {
          "output_type": "execute_result",
          "data": {
            "text/plain": [
              "TransactionID       int64\n",
              "isFraud             int64\n",
              "TransactionDT       int64\n",
              "TransactionAmt    float64\n",
              "ProductCD          object\n",
              "                   ...   \n",
              "V335              float64\n",
              "V336              float64\n",
              "V337              float64\n",
              "V338              float64\n",
              "V339              float64\n",
              "Length: 394, dtype: object"
            ]
          },
          "metadata": {
            "tags": []
          },
          "execution_count": 7
        }
      ]
    },
    {
      "cell_type": "markdown",
      "metadata": {
        "id": "A0MNyP9QtxHv"
      },
      "source": [
        "I print the first few lines to see what content is contained in each attributes. The variables' meanings are described below."
      ]
    },
    {
      "cell_type": "markdown",
      "metadata": {
        "id": "dKvql4mTvtuO"
      },
      "source": [
        "\n",
        "*   TransactionDT: timedelta from a given reference datetime (not an actual timestamp)\n",
        "*   TransactionAMT: transaction payment amount in USD\n",
        "* ProductCD: product code, the product for each transaction\n",
        "* card1 - card6: payment card information, such as card type, card category, issue bank, country, etc.\n",
        "* addr: address\n",
        "* dist: distance\n",
        "* P_ and (R__) emaildomain: purchaser and recipient email domain\n",
        "* C1-C14: counting, such as how many addresses are found to be associated with the payment card, etc. The actual meaning is masked.\n",
        "* D1-D15: timedelta, such as days between previous transaction, etc.\n",
        "M1-M9: match, such as names on card and address, etc.\n",
        "* Vxxx: Vesta engineered rich features, including ranking, counting, and other entity relations.\n",
        "\n",
        "\n",
        "\n",
        "\n",
        "\n",
        "\n"
      ]
    },
    {
      "cell_type": "code",
      "metadata": {
        "colab": {
          "base_uri": "https://localhost:8080/",
          "height": 123
        },
        "id": "1CldzoovzFjd",
        "outputId": "f61d69bd-2e73-43ea-935f-0bfcd25b9fb3"
      },
      "source": [
        "train_transaction.head(n = 5)"
      ],
      "execution_count": null,
      "outputs": [
        {
          "output_type": "execute_result",
          "data": {
            "text/html": [
              "<div>\n",
              "<style scoped>\n",
              "    .dataframe tbody tr th:only-of-type {\n",
              "        vertical-align: middle;\n",
              "    }\n",
              "\n",
              "    .dataframe tbody tr th {\n",
              "        vertical-align: top;\n",
              "    }\n",
              "\n",
              "    .dataframe thead th {\n",
              "        text-align: right;\n",
              "    }\n",
              "</style>\n",
              "<table border=\"1\" class=\"dataframe\">\n",
              "  <thead>\n",
              "    <tr style=\"text-align: right;\">\n",
              "      <th></th>\n",
              "      <th>TransactionID</th>\n",
              "      <th>isFraud</th>\n",
              "      <th>TransactionDT</th>\n",
              "      <th>TransactionAmt</th>\n",
              "      <th>ProductCD</th>\n",
              "      <th>card1</th>\n",
              "      <th>card2</th>\n",
              "      <th>card3</th>\n",
              "      <th>card4</th>\n",
              "      <th>card5</th>\n",
              "      <th>card6</th>\n",
              "      <th>addr1</th>\n",
              "      <th>addr2</th>\n",
              "      <th>dist1</th>\n",
              "      <th>dist2</th>\n",
              "      <th>P_emaildomain</th>\n",
              "      <th>R_emaildomain</th>\n",
              "      <th>C1</th>\n",
              "      <th>C2</th>\n",
              "      <th>C3</th>\n",
              "      <th>C4</th>\n",
              "      <th>C5</th>\n",
              "      <th>C6</th>\n",
              "      <th>C7</th>\n",
              "      <th>C8</th>\n",
              "      <th>C9</th>\n",
              "      <th>C10</th>\n",
              "      <th>C11</th>\n",
              "      <th>C12</th>\n",
              "      <th>C13</th>\n",
              "      <th>C14</th>\n",
              "      <th>D1</th>\n",
              "      <th>D2</th>\n",
              "      <th>D3</th>\n",
              "      <th>D4</th>\n",
              "      <th>D5</th>\n",
              "      <th>D6</th>\n",
              "      <th>D7</th>\n",
              "      <th>D8</th>\n",
              "      <th>D9</th>\n",
              "      <th>...</th>\n",
              "      <th>V300</th>\n",
              "      <th>V301</th>\n",
              "      <th>V302</th>\n",
              "      <th>V303</th>\n",
              "      <th>V304</th>\n",
              "      <th>V305</th>\n",
              "      <th>V306</th>\n",
              "      <th>V307</th>\n",
              "      <th>V308</th>\n",
              "      <th>V309</th>\n",
              "      <th>V310</th>\n",
              "      <th>V311</th>\n",
              "      <th>V312</th>\n",
              "      <th>V313</th>\n",
              "      <th>V314</th>\n",
              "      <th>V315</th>\n",
              "      <th>V316</th>\n",
              "      <th>V317</th>\n",
              "      <th>V318</th>\n",
              "      <th>V319</th>\n",
              "      <th>V320</th>\n",
              "      <th>V321</th>\n",
              "      <th>V322</th>\n",
              "      <th>V323</th>\n",
              "      <th>V324</th>\n",
              "      <th>V325</th>\n",
              "      <th>V326</th>\n",
              "      <th>V327</th>\n",
              "      <th>V328</th>\n",
              "      <th>V329</th>\n",
              "      <th>V330</th>\n",
              "      <th>V331</th>\n",
              "      <th>V332</th>\n",
              "      <th>V333</th>\n",
              "      <th>V334</th>\n",
              "      <th>V335</th>\n",
              "      <th>V336</th>\n",
              "      <th>V337</th>\n",
              "      <th>V338</th>\n",
              "      <th>V339</th>\n",
              "    </tr>\n",
              "  </thead>\n",
              "  <tbody>\n",
              "    <tr>\n",
              "      <th>0</th>\n",
              "      <td>2987000</td>\n",
              "      <td>0</td>\n",
              "      <td>86400</td>\n",
              "      <td>68.5</td>\n",
              "      <td>W</td>\n",
              "      <td>13926</td>\n",
              "      <td>NaN</td>\n",
              "      <td>150.0</td>\n",
              "      <td>discover</td>\n",
              "      <td>142.0</td>\n",
              "      <td>credit</td>\n",
              "      <td>315.0</td>\n",
              "      <td>87.0</td>\n",
              "      <td>19.0</td>\n",
              "      <td>NaN</td>\n",
              "      <td>NaN</td>\n",
              "      <td>NaN</td>\n",
              "      <td>1.0</td>\n",
              "      <td>1.0</td>\n",
              "      <td>0.0</td>\n",
              "      <td>0.0</td>\n",
              "      <td>0.0</td>\n",
              "      <td>1.0</td>\n",
              "      <td>0.0</td>\n",
              "      <td>0.0</td>\n",
              "      <td>1.0</td>\n",
              "      <td>0.0</td>\n",
              "      <td>2.0</td>\n",
              "      <td>0.0</td>\n",
              "      <td>1.0</td>\n",
              "      <td>1.0</td>\n",
              "      <td>14.0</td>\n",
              "      <td>NaN</td>\n",
              "      <td>13.0</td>\n",
              "      <td>NaN</td>\n",
              "      <td>NaN</td>\n",
              "      <td>NaN</td>\n",
              "      <td>NaN</td>\n",
              "      <td>NaN</td>\n",
              "      <td>NaN</td>\n",
              "      <td>...</td>\n",
              "      <td>0.0</td>\n",
              "      <td>0.0</td>\n",
              "      <td>0.0</td>\n",
              "      <td>0.0</td>\n",
              "      <td>0.0</td>\n",
              "      <td>1.0</td>\n",
              "      <td>0.0</td>\n",
              "      <td>117.0</td>\n",
              "      <td>0.0</td>\n",
              "      <td>0.0</td>\n",
              "      <td>0.0</td>\n",
              "      <td>0.0</td>\n",
              "      <td>0.0</td>\n",
              "      <td>0.0</td>\n",
              "      <td>0.0</td>\n",
              "      <td>0.0</td>\n",
              "      <td>0.0</td>\n",
              "      <td>117.0</td>\n",
              "      <td>0.0</td>\n",
              "      <td>0.0</td>\n",
              "      <td>0.0</td>\n",
              "      <td>0.0</td>\n",
              "      <td>NaN</td>\n",
              "      <td>NaN</td>\n",
              "      <td>NaN</td>\n",
              "      <td>NaN</td>\n",
              "      <td>NaN</td>\n",
              "      <td>NaN</td>\n",
              "      <td>NaN</td>\n",
              "      <td>NaN</td>\n",
              "      <td>NaN</td>\n",
              "      <td>NaN</td>\n",
              "      <td>NaN</td>\n",
              "      <td>NaN</td>\n",
              "      <td>NaN</td>\n",
              "      <td>NaN</td>\n",
              "      <td>NaN</td>\n",
              "      <td>NaN</td>\n",
              "      <td>NaN</td>\n",
              "      <td>NaN</td>\n",
              "    </tr>\n",
              "  </tbody>\n",
              "</table>\n",
              "<p>1 rows × 394 columns</p>\n",
              "</div>"
            ],
            "text/plain": [
              "   TransactionID  isFraud  TransactionDT  ...  V337 V338  V339\n",
              "0        2987000        0          86400  ...   NaN  NaN   NaN\n",
              "\n",
              "[1 rows x 394 columns]"
            ]
          },
          "metadata": {
            "tags": []
          },
          "execution_count": 10
        }
      ]
    },
    {
      "cell_type": "code",
      "metadata": {
        "colab": {
          "base_uri": "https://localhost:8080/"
        },
        "id": "8mg5EzUJ4p-S",
        "outputId": "ce46e7c1-24de-4a7e-afc3-0ec3d7eae7df"
      },
      "source": [
        "np.sum(\n",
        "        train_transaction[\"TransactionID\"].isin(\n",
        "            train_identity[\"TransactionID\"].unique()\n",
        "        )\n",
        "    )/train_transaction.shape[0]"
      ],
      "execution_count": null,
      "outputs": [
        {
          "output_type": "execute_result",
          "data": {
            "text/plain": [
              "0.2442391709283029"
            ]
          },
          "metadata": {
            "tags": []
          },
          "execution_count": 17
        }
      ]
    },
    {
      "cell_type": "markdown",
      "metadata": {
        "id": "PkvPuXDbtEwY"
      },
      "source": [
        "Prior to the process of analyzing and fitting data to the models by its assumption, we found that there were only 24.42% observations in the Identity data that matched the key (TransactionID) with the transactions in the Transactions main data, which contains the factors that represent the status of the Fraudulent transactions or not. Since this was a small number regarding all observations, we decided not to use the factors in the Identity data regarding a transaction to build a statistical model due to the imbalance of data, which might create a large bias for the model. Variables C1-C14 are the counts of how many addresses are found to be associated with the payment card, phone number, email, device, billing, etc. The actual meaning is masked due to confidentiality.\n",
        "\n",
        "The N/A values would be removed when making aggregated calculations or statistical summary on those factors since they are specific to each transaction, making them individually independent of each other. Thus, we cannot replace those values with the nearest non-N/A value or regarding them as 0, which makes the analysis seem to be vague.\n"
      ]
    },
    {
      "cell_type": "markdown",
      "metadata": {
        "id": "uynqe6uDnvEH"
      },
      "source": [
        "Since the Vxx attributes contain mostly of null values and the meaning of Cxx columns are not clearly described since the actual meaning is masked, I decide to drop those columns.\n",
        "The rest of the attributes seem fine to me, but assume that fraud can only be committed by the the purchaser, I also filter out the \"R_emaildomain.\" "
      ]
    },
    {
      "cell_type": "markdown",
      "metadata": {
        "id": "ypnZ_C0iIJQB"
      },
      "source": [
        "Here are the assumption that I came up with:\n",
        "\n",
        "* The distance from the site’s location where items were sold (location of the seller) to the purchaser’s location is positively correlated with the probability of a fraudulent transaction.\n",
        "* Some unpopular email domains used by the purchasers might be suspicious of a fraudulent transaction.\n",
        "* The number of decimal places in the transaction amount can provide suspicious information for determining a fraudulent transaction.\n",
        "* There should not be any difference among different cards used for transactions in determining the probability of a fraudulent transaction.\n",
        "\n",
        "\n"
      ]
    },
    {
      "cell_type": "code",
      "metadata": {
        "colab": {
          "base_uri": "https://localhost:8080/",
          "height": 226
        },
        "id": "UgpbyrsC_WUb",
        "outputId": "15deb21c-1ebf-4569-bee7-ff4c7861a5c1"
      },
      "source": [
        "\n",
        "chosen_factor = ['isFraud', 'TransactionAmt', 'ProductCD', 'card1', 'card2','card3','card4','card5','card6','dist1','P_emaildomain']\n",
        "neural_factor = ['C1', 'C2', 'C3', 'C4', 'C5', 'C6', 'C7', 'C8', 'C9', 'C10', 'C11', 'C12', 'C13', 'C14']\n",
        "train_new = train_transaction[chosen_factor+neural_factor]\n",
        "train_new.head(n= 5)"
      ],
      "execution_count": 8,
      "outputs": [
        {
          "output_type": "execute_result",
          "data": {
            "text/html": [
              "<div>\n",
              "<style scoped>\n",
              "    .dataframe tbody tr th:only-of-type {\n",
              "        vertical-align: middle;\n",
              "    }\n",
              "\n",
              "    .dataframe tbody tr th {\n",
              "        vertical-align: top;\n",
              "    }\n",
              "\n",
              "    .dataframe thead th {\n",
              "        text-align: right;\n",
              "    }\n",
              "</style>\n",
              "<table border=\"1\" class=\"dataframe\">\n",
              "  <thead>\n",
              "    <tr style=\"text-align: right;\">\n",
              "      <th></th>\n",
              "      <th>isFraud</th>\n",
              "      <th>TransactionAmt</th>\n",
              "      <th>ProductCD</th>\n",
              "      <th>card1</th>\n",
              "      <th>card2</th>\n",
              "      <th>card3</th>\n",
              "      <th>card4</th>\n",
              "      <th>card5</th>\n",
              "      <th>card6</th>\n",
              "      <th>dist1</th>\n",
              "      <th>P_emaildomain</th>\n",
              "      <th>C1</th>\n",
              "      <th>C2</th>\n",
              "      <th>C3</th>\n",
              "      <th>C4</th>\n",
              "      <th>C5</th>\n",
              "      <th>C6</th>\n",
              "      <th>C7</th>\n",
              "      <th>C8</th>\n",
              "      <th>C9</th>\n",
              "      <th>C10</th>\n",
              "      <th>C11</th>\n",
              "      <th>C12</th>\n",
              "      <th>C13</th>\n",
              "      <th>C14</th>\n",
              "    </tr>\n",
              "  </thead>\n",
              "  <tbody>\n",
              "    <tr>\n",
              "      <th>0</th>\n",
              "      <td>0</td>\n",
              "      <td>68.5</td>\n",
              "      <td>W</td>\n",
              "      <td>13926</td>\n",
              "      <td>NaN</td>\n",
              "      <td>150.0</td>\n",
              "      <td>discover</td>\n",
              "      <td>142.0</td>\n",
              "      <td>credit</td>\n",
              "      <td>19.0</td>\n",
              "      <td>NaN</td>\n",
              "      <td>1.0</td>\n",
              "      <td>1.0</td>\n",
              "      <td>0.0</td>\n",
              "      <td>0.0</td>\n",
              "      <td>0.0</td>\n",
              "      <td>1.0</td>\n",
              "      <td>0.0</td>\n",
              "      <td>0.0</td>\n",
              "      <td>1.0</td>\n",
              "      <td>0.0</td>\n",
              "      <td>2.0</td>\n",
              "      <td>0.0</td>\n",
              "      <td>1.0</td>\n",
              "      <td>1.0</td>\n",
              "    </tr>\n",
              "    <tr>\n",
              "      <th>1</th>\n",
              "      <td>0</td>\n",
              "      <td>29.0</td>\n",
              "      <td>W</td>\n",
              "      <td>2755</td>\n",
              "      <td>404.0</td>\n",
              "      <td>150.0</td>\n",
              "      <td>mastercard</td>\n",
              "      <td>102.0</td>\n",
              "      <td>credit</td>\n",
              "      <td>NaN</td>\n",
              "      <td>gmail.com</td>\n",
              "      <td>1.0</td>\n",
              "      <td>1.0</td>\n",
              "      <td>0.0</td>\n",
              "      <td>0.0</td>\n",
              "      <td>0.0</td>\n",
              "      <td>1.0</td>\n",
              "      <td>0.0</td>\n",
              "      <td>0.0</td>\n",
              "      <td>0.0</td>\n",
              "      <td>0.0</td>\n",
              "      <td>1.0</td>\n",
              "      <td>0.0</td>\n",
              "      <td>1.0</td>\n",
              "      <td>1.0</td>\n",
              "    </tr>\n",
              "    <tr>\n",
              "      <th>2</th>\n",
              "      <td>0</td>\n",
              "      <td>59.0</td>\n",
              "      <td>W</td>\n",
              "      <td>4663</td>\n",
              "      <td>490.0</td>\n",
              "      <td>150.0</td>\n",
              "      <td>visa</td>\n",
              "      <td>166.0</td>\n",
              "      <td>debit</td>\n",
              "      <td>287.0</td>\n",
              "      <td>outlook.com</td>\n",
              "      <td>1.0</td>\n",
              "      <td>1.0</td>\n",
              "      <td>0.0</td>\n",
              "      <td>0.0</td>\n",
              "      <td>0.0</td>\n",
              "      <td>1.0</td>\n",
              "      <td>0.0</td>\n",
              "      <td>0.0</td>\n",
              "      <td>1.0</td>\n",
              "      <td>0.0</td>\n",
              "      <td>1.0</td>\n",
              "      <td>0.0</td>\n",
              "      <td>1.0</td>\n",
              "      <td>1.0</td>\n",
              "    </tr>\n",
              "    <tr>\n",
              "      <th>3</th>\n",
              "      <td>0</td>\n",
              "      <td>50.0</td>\n",
              "      <td>W</td>\n",
              "      <td>18132</td>\n",
              "      <td>567.0</td>\n",
              "      <td>150.0</td>\n",
              "      <td>mastercard</td>\n",
              "      <td>117.0</td>\n",
              "      <td>debit</td>\n",
              "      <td>NaN</td>\n",
              "      <td>yahoo.com</td>\n",
              "      <td>2.0</td>\n",
              "      <td>5.0</td>\n",
              "      <td>0.0</td>\n",
              "      <td>0.0</td>\n",
              "      <td>0.0</td>\n",
              "      <td>4.0</td>\n",
              "      <td>0.0</td>\n",
              "      <td>0.0</td>\n",
              "      <td>1.0</td>\n",
              "      <td>0.0</td>\n",
              "      <td>1.0</td>\n",
              "      <td>0.0</td>\n",
              "      <td>25.0</td>\n",
              "      <td>1.0</td>\n",
              "    </tr>\n",
              "    <tr>\n",
              "      <th>4</th>\n",
              "      <td>0</td>\n",
              "      <td>50.0</td>\n",
              "      <td>H</td>\n",
              "      <td>4497</td>\n",
              "      <td>514.0</td>\n",
              "      <td>150.0</td>\n",
              "      <td>mastercard</td>\n",
              "      <td>102.0</td>\n",
              "      <td>credit</td>\n",
              "      <td>NaN</td>\n",
              "      <td>gmail.com</td>\n",
              "      <td>1.0</td>\n",
              "      <td>1.0</td>\n",
              "      <td>0.0</td>\n",
              "      <td>0.0</td>\n",
              "      <td>0.0</td>\n",
              "      <td>1.0</td>\n",
              "      <td>0.0</td>\n",
              "      <td>1.0</td>\n",
              "      <td>0.0</td>\n",
              "      <td>1.0</td>\n",
              "      <td>1.0</td>\n",
              "      <td>0.0</td>\n",
              "      <td>1.0</td>\n",
              "      <td>1.0</td>\n",
              "    </tr>\n",
              "  </tbody>\n",
              "</table>\n",
              "</div>"
            ],
            "text/plain": [
              "   isFraud  TransactionAmt ProductCD  card1  card2  ...  C10  C11  C12   C13  C14\n",
              "0        0            68.5         W  13926    NaN  ...  0.0  2.0  0.0   1.0  1.0\n",
              "1        0            29.0         W   2755  404.0  ...  0.0  1.0  0.0   1.0  1.0\n",
              "2        0            59.0         W   4663  490.0  ...  0.0  1.0  0.0   1.0  1.0\n",
              "3        0            50.0         W  18132  567.0  ...  0.0  1.0  0.0  25.0  1.0\n",
              "4        0            50.0         H   4497  514.0  ...  1.0  1.0  0.0   1.0  1.0\n",
              "\n",
              "[5 rows x 25 columns]"
            ]
          },
          "metadata": {},
          "execution_count": 8
        }
      ]
    },
    {
      "cell_type": "markdown",
      "metadata": {
        "id": "jdDw_SipwZW1"
      },
      "source": [
        "**2. Exploratory Data Analysis**"
      ]
    },
    {
      "cell_type": "markdown",
      "metadata": {
        "id": "OHKIAO6Ap8ye"
      },
      "source": [
        "**Correlation**\n",
        "\n",
        "This is the matrix for visualizing the correlations between variables. There seems to be weak correlation between them, suggesting that linear models might not be suitable in this case."
      ]
    },
    {
      "cell_type": "code",
      "metadata": {
        "colab": {
          "base_uri": "https://localhost:8080/",
          "height": 691
        },
        "id": "o7v-MJoVCGtr",
        "outputId": "312e4350-a1b3-4d7a-c2c3-f3bb4c03d1cc"
      },
      "source": [
        "train_corr_var = train_new.drop(columns=['ProductCD','card4','card6','P_emaildomain','R_emaildomain'])\n",
        "train_corr_var.head(n= 5)\n",
        "\n",
        "train_corr = train_corr_var.corr()\n",
        "fig, ax = plt.subplots(figsize = (10,10))\n",
        "g= sns.heatmap(train_corr,ax=ax, annot= True)\n",
        "ax.set_title('Correlation between variables')"
      ],
      "execution_count": null,
      "outputs": [
        {
          "output_type": "execute_result",
          "data": {
            "text/plain": [
              "Text(0.5, 1.0, 'Correlation between variables')"
            ]
          },
          "metadata": {
            "tags": []
          },
          "execution_count": 24
        },
        {
          "output_type": "display_data",
          "data": {
            "image/png": "[encoded data removed]",
            "text/plain": [
              "<Figure size 720x720 with 2 Axes>"
            ]
          },
          "metadata": {
            "tags": [],
            "needs_background": "light"
          }
        }
      ]
    },
    {
      "cell_type": "code",
      "metadata": {
        "colab": {
          "base_uri": "https://localhost:8080/"
        },
        "id": "xpgA6SGAEPyi",
        "outputId": "aeeecf2c-4b08-40b4-e6c0-f9ba32793b6c"
      },
      "source": [
        "response_corr = train_corr_var.corr()['isFraud']\n",
        "print(response_corr)"
      ],
      "execution_count": null,
      "outputs": [
        {
          "output_type": "stream",
          "text": [
            "isFraud           1.000000\n",
            "TransactionAmt    0.011320\n",
            "card1            -0.013640\n",
            "card2             0.003388\n",
            "card3             0.154151\n",
            "card5            -0.033580\n",
            "addr1             0.005596\n",
            "addr2            -0.030387\n",
            "dist1             0.021522\n",
            "Name: isFraud, dtype: float64\n"
          ],
          "name": "stdout"
        }
      ]
    },
    {
      "cell_type": "markdown",
      "metadata": {
        "id": "Js9KE-jiqPUE"
      },
      "source": [
        "**The number of decimal places in transaction amount**\n",
        "\n",
        "Some of the transaction amounts have three decimal places to the right of the decimal point, which is quite rare in common transactions where there are usally 2 decimal places at max. This might be due to the foreign transactions in which the currency exchange rates normally contain more than 2 decimal places, or it could be a suspicious transaction that is worth checking."
      ]
    },
    {
      "cell_type": "code",
      "metadata": {
        "colab": {
          "base_uri": "https://localhost:8080/"
        },
        "id": "UBQ8g6y57fWN",
        "outputId": "f0b6efaa-c8c8-4063-cac4-844be60ad960"
      },
      "source": [
        "def change(amt):\n",
        "    num = 0\n",
        "    while((int(amt)*10 != int(amt*10)) and (num < 3)):\n",
        "        num = num + 1\n",
        "        amt = amt * 10\n",
        "    return num\n",
        "\n",
        "train_new[\"TransactionAmt_decimal\"] = train_new[\"TransactionAmt\"].map(change)\n",
        "print(train_new.head(n=20))"
      ],
      "execution_count": null,
      "outputs": [
        {
          "output_type": "stream",
          "text": [
            "    isFraud  TransactionAmt ProductCD  ...   C13  C14  TransactionAmt_decimal\n",
            "0         0          68.500         W  ...   1.0  1.0                       1\n",
            "1         0          29.000         W  ...   1.0  1.0                       0\n",
            "2         0          59.000         W  ...   1.0  1.0                       0\n",
            "3         0          50.000         W  ...  25.0  1.0                       0\n",
            "4         0          50.000         H  ...   1.0  1.0                       0\n",
            "5         0          49.000         W  ...   1.0  1.0                       0\n",
            "6         0         159.000         W  ...   1.0  1.0                       0\n",
            "7         0         422.500         W  ...   1.0  1.0                       1\n",
            "8         0          15.000         H  ...   1.0  1.0                       0\n",
            "9         0         117.000         W  ...  12.0  2.0                       0\n",
            "10        0          75.887         C  ...   2.0  1.0                       3\n",
            "11        0          16.495         C  ...   1.0  1.0                       3\n",
            "12        0          50.000         W  ...   6.0  3.0                       0\n",
            "13        0          40.000         W  ...  24.0  6.0                       0\n",
            "14        0          10.500         W  ...   1.0  1.0                       1\n",
            "15        0          57.950         W  ...  22.0  3.0                       2\n",
            "16        0          30.000         H  ...   1.0  1.0                       0\n",
            "17        0         100.000         H  ...   1.0  1.0                       0\n",
            "18        0          47.950         W  ...   1.0  1.0                       2\n",
            "19        0         186.000         W  ...  25.0  2.0                       0\n",
            "\n",
            "[20 rows x 26 columns]\n"
          ],
          "name": "stdout"
        },
        {
          "output_type": "stream",
          "text": [
            "/usr/local/lib/python3.7/dist-packages/ipykernel_launcher.py:8: SettingWithCopyWarning: \n",
            "A value is trying to be set on a copy of a slice from a DataFrame.\n",
            "Try using .loc[row_indexer,col_indexer] = value instead\n",
            "\n",
            "See the caveats in the documentation: https://pandas.pydata.org/pandas-docs/stable/user_guide/indexing.html#returning-a-view-versus-a-copy\n",
            "  \n"
          ],
          "name": "stderr"
        }
      ]
    },
    {
      "cell_type": "code",
      "metadata": {
        "colab": {
          "base_uri": "https://localhost:8080/"
        },
        "id": "T38z7ahtrn1l",
        "outputId": "1db6ec0c-a9bf-4600-da0b-d0864ed9e3d2"
      },
      "source": [
        "df1 = train_new.groupby(\"TransactionAmt_decimal\").count()[\"isFraud\"]\n",
        "df1.head()"
      ],
      "execution_count": null,
      "outputs": [
        {
          "output_type": "execute_result",
          "data": {
            "text/plain": [
              "TransactionAmt_decimal\n",
              "0    312797\n",
              "1     29051\n",
              "2    197525\n",
              "3     51167\n",
              "Name: isFraud, dtype: int64"
            ]
          },
          "metadata": {
            "tags": []
          },
          "execution_count": 15
        }
      ]
    },
    {
      "cell_type": "code",
      "metadata": {
        "colab": {
          "base_uri": "https://localhost:8080/",
          "height": 222
        },
        "id": "4hswp3_Sr6sX",
        "outputId": "fc13c621-8f5d-498f-a4f0-58ea18807aa9"
      },
      "source": [
        "df1 = train_new[train_new['isFraud'] == 1]\n",
        "df1.head()"
      ],
      "execution_count": null,
      "outputs": [
        {
          "output_type": "execute_result",
          "data": {
            "text/html": [
              "<div>\n",
              "<style scoped>\n",
              "    .dataframe tbody tr th:only-of-type {\n",
              "        vertical-align: middle;\n",
              "    }\n",
              "\n",
              "    .dataframe tbody tr th {\n",
              "        vertical-align: top;\n",
              "    }\n",
              "\n",
              "    .dataframe thead th {\n",
              "        text-align: right;\n",
              "    }\n",
              "</style>\n",
              "<table border=\"1\" class=\"dataframe\">\n",
              "  <thead>\n",
              "    <tr style=\"text-align: right;\">\n",
              "      <th></th>\n",
              "      <th>isFraud</th>\n",
              "      <th>TransactionAmt</th>\n",
              "      <th>ProductCD</th>\n",
              "      <th>card1</th>\n",
              "      <th>card2</th>\n",
              "      <th>card3</th>\n",
              "      <th>card4</th>\n",
              "      <th>card5</th>\n",
              "      <th>card6</th>\n",
              "      <th>dist1</th>\n",
              "      <th>P_emaildomain</th>\n",
              "      <th>C1</th>\n",
              "      <th>C2</th>\n",
              "      <th>C3</th>\n",
              "      <th>C4</th>\n",
              "      <th>C5</th>\n",
              "      <th>C6</th>\n",
              "      <th>C7</th>\n",
              "      <th>C8</th>\n",
              "      <th>C9</th>\n",
              "      <th>C10</th>\n",
              "      <th>C11</th>\n",
              "      <th>C12</th>\n",
              "      <th>C13</th>\n",
              "      <th>C14</th>\n",
              "      <th>TransactionAmt_decimal</th>\n",
              "    </tr>\n",
              "  </thead>\n",
              "  <tbody>\n",
              "    <tr>\n",
              "      <th>203</th>\n",
              "      <td>1</td>\n",
              "      <td>445.000</td>\n",
              "      <td>W</td>\n",
              "      <td>18268</td>\n",
              "      <td>583.0</td>\n",
              "      <td>150.0</td>\n",
              "      <td>visa</td>\n",
              "      <td>226.0</td>\n",
              "      <td>credit</td>\n",
              "      <td>NaN</td>\n",
              "      <td>aol.com</td>\n",
              "      <td>2.0</td>\n",
              "      <td>2.0</td>\n",
              "      <td>0.0</td>\n",
              "      <td>0.0</td>\n",
              "      <td>0.0</td>\n",
              "      <td>2.0</td>\n",
              "      <td>0.0</td>\n",
              "      <td>0.0</td>\n",
              "      <td>2.0</td>\n",
              "      <td>0.0</td>\n",
              "      <td>1.0</td>\n",
              "      <td>0.0</td>\n",
              "      <td>4.0</td>\n",
              "      <td>2.0</td>\n",
              "      <td>0</td>\n",
              "    </tr>\n",
              "    <tr>\n",
              "      <th>240</th>\n",
              "      <td>1</td>\n",
              "      <td>37.098</td>\n",
              "      <td>C</td>\n",
              "      <td>13413</td>\n",
              "      <td>103.0</td>\n",
              "      <td>185.0</td>\n",
              "      <td>visa</td>\n",
              "      <td>137.0</td>\n",
              "      <td>credit</td>\n",
              "      <td>NaN</td>\n",
              "      <td>hotmail.com</td>\n",
              "      <td>0.0</td>\n",
              "      <td>1.0</td>\n",
              "      <td>0.0</td>\n",
              "      <td>1.0</td>\n",
              "      <td>0.0</td>\n",
              "      <td>1.0</td>\n",
              "      <td>1.0</td>\n",
              "      <td>1.0</td>\n",
              "      <td>0.0</td>\n",
              "      <td>1.0</td>\n",
              "      <td>1.0</td>\n",
              "      <td>1.0</td>\n",
              "      <td>0.0</td>\n",
              "      <td>0.0</td>\n",
              "      <td>0</td>\n",
              "    </tr>\n",
              "    <tr>\n",
              "      <th>243</th>\n",
              "      <td>1</td>\n",
              "      <td>37.098</td>\n",
              "      <td>C</td>\n",
              "      <td>13413</td>\n",
              "      <td>103.0</td>\n",
              "      <td>185.0</td>\n",
              "      <td>visa</td>\n",
              "      <td>137.0</td>\n",
              "      <td>credit</td>\n",
              "      <td>NaN</td>\n",
              "      <td>hotmail.com</td>\n",
              "      <td>1.0</td>\n",
              "      <td>1.0</td>\n",
              "      <td>0.0</td>\n",
              "      <td>1.0</td>\n",
              "      <td>0.0</td>\n",
              "      <td>1.0</td>\n",
              "      <td>1.0</td>\n",
              "      <td>1.0</td>\n",
              "      <td>0.0</td>\n",
              "      <td>1.0</td>\n",
              "      <td>1.0</td>\n",
              "      <td>1.0</td>\n",
              "      <td>0.0</td>\n",
              "      <td>0.0</td>\n",
              "      <td>0</td>\n",
              "    </tr>\n",
              "    <tr>\n",
              "      <th>245</th>\n",
              "      <td>1</td>\n",
              "      <td>37.098</td>\n",
              "      <td>C</td>\n",
              "      <td>13413</td>\n",
              "      <td>103.0</td>\n",
              "      <td>185.0</td>\n",
              "      <td>visa</td>\n",
              "      <td>137.0</td>\n",
              "      <td>credit</td>\n",
              "      <td>NaN</td>\n",
              "      <td>hotmail.com</td>\n",
              "      <td>2.0</td>\n",
              "      <td>1.0</td>\n",
              "      <td>0.0</td>\n",
              "      <td>1.0</td>\n",
              "      <td>0.0</td>\n",
              "      <td>1.0</td>\n",
              "      <td>1.0</td>\n",
              "      <td>1.0</td>\n",
              "      <td>0.0</td>\n",
              "      <td>1.0</td>\n",
              "      <td>1.0</td>\n",
              "      <td>1.0</td>\n",
              "      <td>0.0</td>\n",
              "      <td>0.0</td>\n",
              "      <td>0</td>\n",
              "    </tr>\n",
              "    <tr>\n",
              "      <th>288</th>\n",
              "      <td>1</td>\n",
              "      <td>155.521</td>\n",
              "      <td>C</td>\n",
              "      <td>16578</td>\n",
              "      <td>545.0</td>\n",
              "      <td>185.0</td>\n",
              "      <td>visa</td>\n",
              "      <td>226.0</td>\n",
              "      <td>credit</td>\n",
              "      <td>NaN</td>\n",
              "      <td>outlook.com</td>\n",
              "      <td>1.0</td>\n",
              "      <td>1.0</td>\n",
              "      <td>0.0</td>\n",
              "      <td>1.0</td>\n",
              "      <td>0.0</td>\n",
              "      <td>1.0</td>\n",
              "      <td>1.0</td>\n",
              "      <td>1.0</td>\n",
              "      <td>0.0</td>\n",
              "      <td>1.0</td>\n",
              "      <td>1.0</td>\n",
              "      <td>1.0</td>\n",
              "      <td>0.0</td>\n",
              "      <td>0.0</td>\n",
              "      <td>3</td>\n",
              "    </tr>\n",
              "  </tbody>\n",
              "</table>\n",
              "</div>"
            ],
            "text/plain": [
              "     isFraud  TransactionAmt ProductCD  ...  C13  C14  TransactionAmt_decimal\n",
              "203        1         445.000         W  ...  4.0  2.0                       0\n",
              "240        1          37.098         C  ...  0.0  0.0                       0\n",
              "243        1          37.098         C  ...  0.0  0.0                       0\n",
              "245        1          37.098         C  ...  0.0  0.0                       0\n",
              "288        1         155.521         C  ...  0.0  0.0                       3\n",
              "\n",
              "[5 rows x 26 columns]"
            ]
          },
          "metadata": {
            "tags": []
          },
          "execution_count": 17
        }
      ]
    },
    {
      "cell_type": "code",
      "metadata": {
        "colab": {
          "base_uri": "https://localhost:8080/",
          "height": 171
        },
        "id": "k6M6-Smd0uQM",
        "outputId": "900f3880-62bc-4d2c-b134-2ef3fba2dda3"
      },
      "source": [
        "df1 = train_new[train_new['isFraud'] == 1]\n",
        "d1 = {'Decimal': ['0','1','2','3+'], 'Count': np.array(df1.groupby(\"TransactionAmt_decimal\").count()[\"isFraud\"])}\n",
        "df1 = pd.DataFrame(data=d1)\n",
        "df1"
      ],
      "execution_count": null,
      "outputs": [
        {
          "output_type": "execute_result",
          "data": {
            "text/html": [
              "<div>\n",
              "<style scoped>\n",
              "    .dataframe tbody tr th:only-of-type {\n",
              "        vertical-align: middle;\n",
              "    }\n",
              "\n",
              "    .dataframe tbody tr th {\n",
              "        vertical-align: top;\n",
              "    }\n",
              "\n",
              "    .dataframe thead th {\n",
              "        text-align: right;\n",
              "    }\n",
              "</style>\n",
              "<table border=\"1\" class=\"dataframe\">\n",
              "  <thead>\n",
              "    <tr style=\"text-align: right;\">\n",
              "      <th></th>\n",
              "      <th>Decimal</th>\n",
              "      <th>Count</th>\n",
              "    </tr>\n",
              "  </thead>\n",
              "  <tbody>\n",
              "    <tr>\n",
              "      <th>0</th>\n",
              "      <td>0</td>\n",
              "      <td>11591</td>\n",
              "    </tr>\n",
              "    <tr>\n",
              "      <th>1</th>\n",
              "      <td>1</td>\n",
              "      <td>1075</td>\n",
              "    </tr>\n",
              "    <tr>\n",
              "      <th>2</th>\n",
              "      <td>2</td>\n",
              "      <td>2063</td>\n",
              "    </tr>\n",
              "    <tr>\n",
              "      <th>3</th>\n",
              "      <td>3+</td>\n",
              "      <td>5934</td>\n",
              "    </tr>\n",
              "  </tbody>\n",
              "</table>\n",
              "</div>"
            ],
            "text/plain": [
              "  Decimal  Count\n",
              "0       0  11591\n",
              "1       1   1075\n",
              "2       2   2063\n",
              "3      3+   5934"
            ]
          },
          "metadata": {
            "tags": []
          },
          "execution_count": 54
        }
      ]
    },
    {
      "cell_type": "code",
      "metadata": {
        "colab": {
          "base_uri": "https://localhost:8080/",
          "height": 171
        },
        "id": "4ZkLY6wBxho6",
        "outputId": "33817368-e02b-4642-a08c-1b0c50967ab3"
      },
      "source": [
        "df0 = train_new[train_new['isFraud'] == 0]\n",
        "d0 = {'Decimal': ['0','1','2','3+'], 'Count': np.array(df0.groupby(\"TransactionAmt_decimal\").count()[\"isFraud\"])}\n",
        "df0 = pd.DataFrame(data=d0)\n",
        "df0"
      ],
      "execution_count": null,
      "outputs": [
        {
          "output_type": "execute_result",
          "data": {
            "text/html": [
              "<div>\n",
              "<style scoped>\n",
              "    .dataframe tbody tr th:only-of-type {\n",
              "        vertical-align: middle;\n",
              "    }\n",
              "\n",
              "    .dataframe tbody tr th {\n",
              "        vertical-align: top;\n",
              "    }\n",
              "\n",
              "    .dataframe thead th {\n",
              "        text-align: right;\n",
              "    }\n",
              "</style>\n",
              "<table border=\"1\" class=\"dataframe\">\n",
              "  <thead>\n",
              "    <tr style=\"text-align: right;\">\n",
              "      <th></th>\n",
              "      <th>Decimal</th>\n",
              "      <th>Count</th>\n",
              "    </tr>\n",
              "  </thead>\n",
              "  <tbody>\n",
              "    <tr>\n",
              "      <th>0</th>\n",
              "      <td>0</td>\n",
              "      <td>301206</td>\n",
              "    </tr>\n",
              "    <tr>\n",
              "      <th>1</th>\n",
              "      <td>1</td>\n",
              "      <td>27976</td>\n",
              "    </tr>\n",
              "    <tr>\n",
              "      <th>2</th>\n",
              "      <td>2</td>\n",
              "      <td>195462</td>\n",
              "    </tr>\n",
              "    <tr>\n",
              "      <th>3</th>\n",
              "      <td>3+</td>\n",
              "      <td>45233</td>\n",
              "    </tr>\n",
              "  </tbody>\n",
              "</table>\n",
              "</div>"
            ],
            "text/plain": [
              "  Decimal   Count\n",
              "0       0  301206\n",
              "1       1   27976\n",
              "2       2  195462\n",
              "3      3+   45233"
            ]
          },
          "metadata": {
            "tags": []
          },
          "execution_count": 53
        }
      ]
    },
    {
      "cell_type": "code",
      "metadata": {
        "colab": {
          "base_uri": "https://localhost:8080/",
          "height": 295
        },
        "id": "41jeOKr7012_",
        "outputId": "7a8600e5-5f11-48fe-b80a-4da49f398e92"
      },
      "source": [
        "plt.bar(df1['Decimal'], df1['Count'])\n",
        "plt.xlabel(\"Number of decimal places in Transaction Amount\")\n",
        "plt.ylabel(\"Frequency of Fraud Transactions\")\n",
        "plt.title(\"Frequency of Fraud Transactions by Number of decimal places\")\n",
        "plt.show()"
      ],
      "execution_count": null,
      "outputs": [
        {
          "output_type": "display_data",
          "data": {
            "image/png": "[encoded data removed]",
            "text/plain": [
              "<Figure size 432x288 with 1 Axes>"
            ]
          },
          "metadata": {
            "tags": [],
            "needs_background": "light"
          }
        }
      ]
    },
    {
      "cell_type": "code",
      "metadata": {
        "colab": {
          "base_uri": "https://localhost:8080/",
          "height": 171
        },
        "id": "oU0Jo63mqBS9",
        "outputId": "eff45704-3c28-4310-806f-1368677f1ef1"
      },
      "source": [
        "d = {'Decimal': ['0','1','2','3+'], 'Prob': np.array(train_new.groupby(\"TransactionAmt_decimal\").mean()[\"isFraud\"])}\n",
        "df = pd.DataFrame(data=d)\n",
        "df"
      ],
      "execution_count": null,
      "outputs": [
        {
          "output_type": "execute_result",
          "data": {
            "text/html": [
              "<div>\n",
              "<style scoped>\n",
              "    .dataframe tbody tr th:only-of-type {\n",
              "        vertical-align: middle;\n",
              "    }\n",
              "\n",
              "    .dataframe tbody tr th {\n",
              "        vertical-align: top;\n",
              "    }\n",
              "\n",
              "    .dataframe thead th {\n",
              "        text-align: right;\n",
              "    }\n",
              "</style>\n",
              "<table border=\"1\" class=\"dataframe\">\n",
              "  <thead>\n",
              "    <tr style=\"text-align: right;\">\n",
              "      <th></th>\n",
              "      <th>Decimal</th>\n",
              "      <th>Prob</th>\n",
              "    </tr>\n",
              "  </thead>\n",
              "  <tbody>\n",
              "    <tr>\n",
              "      <th>0</th>\n",
              "      <td>0</td>\n",
              "      <td>0.037056</td>\n",
              "    </tr>\n",
              "    <tr>\n",
              "      <th>1</th>\n",
              "      <td>1</td>\n",
              "      <td>0.037004</td>\n",
              "    </tr>\n",
              "    <tr>\n",
              "      <th>2</th>\n",
              "      <td>2</td>\n",
              "      <td>0.010444</td>\n",
              "    </tr>\n",
              "    <tr>\n",
              "      <th>3</th>\n",
              "      <td>3+</td>\n",
              "      <td>0.115973</td>\n",
              "    </tr>\n",
              "  </tbody>\n",
              "</table>\n",
              "</div>"
            ],
            "text/plain": [
              "  Decimal      Prob\n",
              "0       0  0.037056\n",
              "1       1  0.037004\n",
              "2       2  0.010444\n",
              "3      3+  0.115973"
            ]
          },
          "metadata": {
            "tags": []
          },
          "execution_count": 57
        }
      ]
    },
    {
      "cell_type": "code",
      "metadata": {
        "colab": {
          "base_uri": "https://localhost:8080/",
          "height": 171
        },
        "id": "hhFClXE4y-n0",
        "outputId": "e82c156e-2167-4465-8dc5-95b8fafc12da"
      },
      "source": [
        "dN = {'Decimal': ['0','1','2','3+'], 'Prob': np.array(1-train_new.groupby(\"TransactionAmt_decimal\").mean()[\"isFraud\"])}\n",
        "dfN = pd.DataFrame(data=dN)\n",
        "dfN"
      ],
      "execution_count": null,
      "outputs": [
        {
          "output_type": "execute_result",
          "data": {
            "text/html": [
              "<div>\n",
              "<style scoped>\n",
              "    .dataframe tbody tr th:only-of-type {\n",
              "        vertical-align: middle;\n",
              "    }\n",
              "\n",
              "    .dataframe tbody tr th {\n",
              "        vertical-align: top;\n",
              "    }\n",
              "\n",
              "    .dataframe thead th {\n",
              "        text-align: right;\n",
              "    }\n",
              "</style>\n",
              "<table border=\"1\" class=\"dataframe\">\n",
              "  <thead>\n",
              "    <tr style=\"text-align: right;\">\n",
              "      <th></th>\n",
              "      <th>Decimal</th>\n",
              "      <th>Prob</th>\n",
              "    </tr>\n",
              "  </thead>\n",
              "  <tbody>\n",
              "    <tr>\n",
              "      <th>0</th>\n",
              "      <td>0</td>\n",
              "      <td>0.962944</td>\n",
              "    </tr>\n",
              "    <tr>\n",
              "      <th>1</th>\n",
              "      <td>1</td>\n",
              "      <td>0.962996</td>\n",
              "    </tr>\n",
              "    <tr>\n",
              "      <th>2</th>\n",
              "      <td>2</td>\n",
              "      <td>0.989556</td>\n",
              "    </tr>\n",
              "    <tr>\n",
              "      <th>3</th>\n",
              "      <td>3+</td>\n",
              "      <td>0.884027</td>\n",
              "    </tr>\n",
              "  </tbody>\n",
              "</table>\n",
              "</div>"
            ],
            "text/plain": [
              "  Decimal      Prob\n",
              "0       0  0.962944\n",
              "1       1  0.962996\n",
              "2       2  0.989556\n",
              "3      3+  0.884027"
            ]
          },
          "metadata": {
            "tags": []
          },
          "execution_count": 58
        }
      ]
    },
    {
      "cell_type": "code",
      "metadata": {
        "colab": {
          "base_uri": "https://localhost:8080/",
          "height": 295
        },
        "id": "5TOoffqIw50a",
        "outputId": "9365ffd9-b0b2-48b8-94aa-aa6a614fa414"
      },
      "source": [
        "plt.bar(df['Decimal'], df['Prob'], color = 'maroon')\n",
        "plt.xlabel(\"Number of decimal places in Transaction Amount\")\n",
        "plt.ylabel(\"Probability of Comitting Fraud\")\n",
        "plt.title(\"Probability of Committing Fraud by Number of decimal places\")\n",
        "plt.show()"
      ],
      "execution_count": null,
      "outputs": [
        {
          "output_type": "display_data",
          "data": {
            "image/png": "[encoded data removed]",
            "text/plain": [
              "<Figure size 432x288 with 1 Axes>"
            ]
          },
          "metadata": {
            "tags": [],
            "needs_background": "light"
          }
        }
      ]
    },
    {
      "cell_type": "markdown",
      "metadata": {
        "id": "csWyZnwLveuu"
      },
      "source": [
        "A fascinating insight of this dataset is that there might be a relationship between the decimal places of the transaction amount and whether that transaction is fraudulent. In order to simplify and avoid bias, transactions with more than three decimal places will also be counted as three decimal places since they scarcely happen and might affect the overall model if it is too specific (the longest decimal is 30). According to the graphs above, those with three decimal places in transactions are three times more likely to commit fraud than those with only none and one decimal place in transactions. It is infrequent to have standard transactions and online payments to have over two decimal places in their value. Therefore, the intuition to have three or more decimal places in their transactions is suspicious, except for foreign exchange circumstances. In conclusion, the number of decimal places is also vital to include in our fraud detection model."
      ]
    },
    {
      "cell_type": "code",
      "metadata": {
        "id": "w9QVyyDxzZJP"
      },
      "source": [
        "train_transaction.iloc[:,30:39].isnull().sum(axis = 0)"
      ],
      "execution_count": null,
      "outputs": []
    },
    {
      "cell_type": "code",
      "metadata": {
        "colab": {
          "base_uri": "https://localhost:8080/"
        },
        "id": "ofS37iuZ2NFw",
        "outputId": "5e8170c3-b79d-4a09-de8d-7b25c339a757"
      },
      "source": [
        "train_transaction.card4.value_counts()"
      ],
      "execution_count": null,
      "outputs": [
        {
          "output_type": "execute_result",
          "data": {
            "text/plain": [
              "visa                384767\n",
              "mastercard          189217\n",
              "american express      8328\n",
              "discover              6651\n",
              "Name: card4, dtype: int64"
            ]
          },
          "metadata": {
            "tags": []
          },
          "execution_count": 42
        }
      ]
    },
    {
      "cell_type": "markdown",
      "metadata": {
        "id": "qHNQ-iKkv6sF"
      },
      "source": [
        "**Email domain**\n",
        "\n",
        "I investigate whether some specific email domains are correlated with committing fraud since less common email domains may have weaker online security and verification methods. The table above shows the top 5 of the purchaser email domains that have the highest probability of committing fraud, which is approximately 10%, at least. Protonmail.com purchasers perpetrate credit card fraud the most frequently, with 40.7% of them doing so. As research further, protonmail.com is a free encrypted email domain, making it much more difficult to track users’ information and thus make it easier to perform fraud. Other domains include mail.com and aim.com, both of which are relatively obscure with little ìnformation found on the internet. On the other hand, a well-known domain such as Microsoft’s Outlook also appears in the top 5 is quite surprising. Still, one of them is located in Spain, which is far away from the receiver in the U.S., which in turn is more challenging to follow than other U.S.-based domains. The rest of the investigated email domains show only below 6% probability of being a fraud transaction. Thus, the purchaser email domain is a significant predictor in this research model."
      ]
    },
    {
      "cell_type": "code",
      "metadata": {
        "id": "rc62C9PkH4aB"
      },
      "source": [
        "email_domainFraud = train_transaction[\"isFraud\"].eq(1).groupby(train_transaction[\"P_emaildomain\"]).mean().reset_index()"
      ],
      "execution_count": null,
      "outputs": []
    },
    {
      "cell_type": "code",
      "metadata": {
        "id": "iCjANtWoJOTD",
        "colab": {
          "base_uri": "https://localhost:8080/",
          "height": 355
        },
        "outputId": "3ab50d24-33cb-42db-d262-d0656d07ccf6"
      },
      "source": [
        "email_domainFraud.head(n=10)"
      ],
      "execution_count": null,
      "outputs": [
        {
          "output_type": "execute_result",
          "data": {
            "text/html": [
              "<div>\n",
              "<style scoped>\n",
              "    .dataframe tbody tr th:only-of-type {\n",
              "        vertical-align: middle;\n",
              "    }\n",
              "\n",
              "    .dataframe tbody tr th {\n",
              "        vertical-align: top;\n",
              "    }\n",
              "\n",
              "    .dataframe thead th {\n",
              "        text-align: right;\n",
              "    }\n",
              "</style>\n",
              "<table border=\"1\" class=\"dataframe\">\n",
              "  <thead>\n",
              "    <tr style=\"text-align: right;\">\n",
              "      <th></th>\n",
              "      <th>P_emaildomain</th>\n",
              "      <th>isFraud</th>\n",
              "    </tr>\n",
              "  </thead>\n",
              "  <tbody>\n",
              "    <tr>\n",
              "      <th>0</th>\n",
              "      <td>aim.com</td>\n",
              "      <td>0.126984</td>\n",
              "    </tr>\n",
              "    <tr>\n",
              "      <th>1</th>\n",
              "      <td>anonymous.com</td>\n",
              "      <td>0.023217</td>\n",
              "    </tr>\n",
              "    <tr>\n",
              "      <th>2</th>\n",
              "      <td>aol.com</td>\n",
              "      <td>0.021811</td>\n",
              "    </tr>\n",
              "    <tr>\n",
              "      <th>3</th>\n",
              "      <td>att.net</td>\n",
              "      <td>0.007439</td>\n",
              "    </tr>\n",
              "    <tr>\n",
              "      <th>4</th>\n",
              "      <td>bellsouth.net</td>\n",
              "      <td>0.027763</td>\n",
              "    </tr>\n",
              "    <tr>\n",
              "      <th>5</th>\n",
              "      <td>cableone.net</td>\n",
              "      <td>0.018868</td>\n",
              "    </tr>\n",
              "    <tr>\n",
              "      <th>6</th>\n",
              "      <td>centurylink.net</td>\n",
              "      <td>0.000000</td>\n",
              "    </tr>\n",
              "    <tr>\n",
              "      <th>7</th>\n",
              "      <td>cfl.rr.com</td>\n",
              "      <td>0.000000</td>\n",
              "    </tr>\n",
              "    <tr>\n",
              "      <th>8</th>\n",
              "      <td>charter.net</td>\n",
              "      <td>0.030637</td>\n",
              "    </tr>\n",
              "    <tr>\n",
              "      <th>9</th>\n",
              "      <td>comcast.net</td>\n",
              "      <td>0.031187</td>\n",
              "    </tr>\n",
              "  </tbody>\n",
              "</table>\n",
              "</div>"
            ],
            "text/plain": [
              "     P_emaildomain   isFraud\n",
              "0          aim.com  0.126984\n",
              "1    anonymous.com  0.023217\n",
              "2          aol.com  0.021811\n",
              "3          att.net  0.007439\n",
              "4    bellsouth.net  0.027763\n",
              "5     cableone.net  0.018868\n",
              "6  centurylink.net  0.000000\n",
              "7       cfl.rr.com  0.000000\n",
              "8      charter.net  0.030637\n",
              "9      comcast.net  0.031187"
            ]
          },
          "metadata": {
            "tags": []
          },
          "execution_count": 73
        }
      ]
    },
    {
      "cell_type": "code",
      "metadata": {
        "id": "1QxNMBl3MB89",
        "colab": {
          "base_uri": "https://localhost:8080/",
          "height": 355
        },
        "outputId": "83cd2c8b-d924-471d-9e2e-f6992fee3808"
      },
      "source": [
        "email_domainFraud.sort_values(by=\"isFraud\", ascending=False).head(n=10) #top 5, bar"
      ],
      "execution_count": null,
      "outputs": [
        {
          "output_type": "execute_result",
          "data": {
            "text/html": [
              "<div>\n",
              "<style scoped>\n",
              "    .dataframe tbody tr th:only-of-type {\n",
              "        vertical-align: middle;\n",
              "    }\n",
              "\n",
              "    .dataframe tbody tr th {\n",
              "        vertical-align: top;\n",
              "    }\n",
              "\n",
              "    .dataframe thead th {\n",
              "        text-align: right;\n",
              "    }\n",
              "</style>\n",
              "<table border=\"1\" class=\"dataframe\">\n",
              "  <thead>\n",
              "    <tr style=\"text-align: right;\">\n",
              "      <th></th>\n",
              "      <th>P_emaildomain</th>\n",
              "      <th>isFraud</th>\n",
              "    </tr>\n",
              "  </thead>\n",
              "  <tbody>\n",
              "    <tr>\n",
              "      <th>38</th>\n",
              "      <td>protonmail.com</td>\n",
              "      <td>0.407895</td>\n",
              "    </tr>\n",
              "    <tr>\n",
              "      <th>29</th>\n",
              "      <td>mail.com</td>\n",
              "      <td>0.189624</td>\n",
              "    </tr>\n",
              "    <tr>\n",
              "      <th>36</th>\n",
              "      <td>outlook.es</td>\n",
              "      <td>0.130137</td>\n",
              "    </tr>\n",
              "    <tr>\n",
              "      <th>0</th>\n",
              "      <td>aim.com</td>\n",
              "      <td>0.126984</td>\n",
              "    </tr>\n",
              "    <tr>\n",
              "      <th>35</th>\n",
              "      <td>outlook.com</td>\n",
              "      <td>0.094584</td>\n",
              "    </tr>\n",
              "    <tr>\n",
              "      <th>21</th>\n",
              "      <td>hotmail.es</td>\n",
              "      <td>0.065574</td>\n",
              "    </tr>\n",
              "    <tr>\n",
              "      <th>26</th>\n",
              "      <td>live.com.mx</td>\n",
              "      <td>0.054740</td>\n",
              "    </tr>\n",
              "    <tr>\n",
              "      <th>19</th>\n",
              "      <td>hotmail.com</td>\n",
              "      <td>0.052950</td>\n",
              "    </tr>\n",
              "    <tr>\n",
              "      <th>16</th>\n",
              "      <td>gmail.com</td>\n",
              "      <td>0.043542</td>\n",
              "    </tr>\n",
              "    <tr>\n",
              "      <th>57</th>\n",
              "      <td>yahoo.fr</td>\n",
              "      <td>0.034965</td>\n",
              "    </tr>\n",
              "  </tbody>\n",
              "</table>\n",
              "</div>"
            ],
            "text/plain": [
              "     P_emaildomain   isFraud\n",
              "38  protonmail.com  0.407895\n",
              "29        mail.com  0.189624\n",
              "36      outlook.es  0.130137\n",
              "0          aim.com  0.126984\n",
              "35     outlook.com  0.094584\n",
              "21      hotmail.es  0.065574\n",
              "26     live.com.mx  0.054740\n",
              "19     hotmail.com  0.052950\n",
              "16       gmail.com  0.043542\n",
              "57        yahoo.fr  0.034965"
            ]
          },
          "metadata": {
            "tags": []
          },
          "execution_count": 83
        }
      ]
    },
    {
      "cell_type": "code",
      "metadata": {
        "colab": {
          "base_uri": "https://localhost:8080/",
          "height": 202
        },
        "id": "Rz-QsvzJ-uOW",
        "outputId": "b34e70d8-a8a4-4c5c-d63b-beb7a8ae97c9"
      },
      "source": [
        "df_email = email_domainFraud.sort_values(by=\"isFraud\", ascending=False).head(n=5)\n",
        "df_email"
      ],
      "execution_count": null,
      "outputs": [
        {
          "output_type": "execute_result",
          "data": {
            "text/html": [
              "<div>\n",
              "<style scoped>\n",
              "    .dataframe tbody tr th:only-of-type {\n",
              "        vertical-align: middle;\n",
              "    }\n",
              "\n",
              "    .dataframe tbody tr th {\n",
              "        vertical-align: top;\n",
              "    }\n",
              "\n",
              "    .dataframe thead th {\n",
              "        text-align: right;\n",
              "    }\n",
              "</style>\n",
              "<table border=\"1\" class=\"dataframe\">\n",
              "  <thead>\n",
              "    <tr style=\"text-align: right;\">\n",
              "      <th></th>\n",
              "      <th>P_emaildomain</th>\n",
              "      <th>isFraud</th>\n",
              "    </tr>\n",
              "  </thead>\n",
              "  <tbody>\n",
              "    <tr>\n",
              "      <th>38</th>\n",
              "      <td>protonmail.com</td>\n",
              "      <td>0.407895</td>\n",
              "    </tr>\n",
              "    <tr>\n",
              "      <th>29</th>\n",
              "      <td>mail.com</td>\n",
              "      <td>0.189624</td>\n",
              "    </tr>\n",
              "    <tr>\n",
              "      <th>36</th>\n",
              "      <td>outlook.es</td>\n",
              "      <td>0.130137</td>\n",
              "    </tr>\n",
              "    <tr>\n",
              "      <th>0</th>\n",
              "      <td>aim.com</td>\n",
              "      <td>0.126984</td>\n",
              "    </tr>\n",
              "    <tr>\n",
              "      <th>35</th>\n",
              "      <td>outlook.com</td>\n",
              "      <td>0.094584</td>\n",
              "    </tr>\n",
              "  </tbody>\n",
              "</table>\n",
              "</div>"
            ],
            "text/plain": [
              "     P_emaildomain   isFraud\n",
              "38  protonmail.com  0.407895\n",
              "29        mail.com  0.189624\n",
              "36      outlook.es  0.130137\n",
              "0          aim.com  0.126984\n",
              "35     outlook.com  0.094584"
            ]
          },
          "metadata": {
            "tags": []
          },
          "execution_count": 76
        }
      ]
    },
    {
      "cell_type": "code",
      "metadata": {
        "colab": {
          "base_uri": "https://localhost:8080/",
          "height": 295
        },
        "id": "7ScjBdqn-59i",
        "outputId": "e9862705-0ea8-46e7-992e-88aea4155014"
      },
      "source": [
        "arr_email = np.array(df_email['P_emaildomain'])\n",
        "arr_fraud = np.array(df_email['isFraud'])\n",
        "\n",
        "plt.bar(arr_email, arr_fraud, color = 'peru')\n",
        "\n",
        "plt.xlabel('Email Domain')\n",
        "plt.ylabel('Probability of Fraud Transactions')\n",
        "plt.title('Top 5 Email Domains with highest Fraudulent Probability')\n",
        "\n",
        "plt.show()"
      ],
      "execution_count": null,
      "outputs": [
        {
          "output_type": "display_data",
          "data": {
            "image/png": "[encoded data removed]",
            "text/plain": [
              "<Figure size 432x288 with 1 Axes>"
            ]
          },
          "metadata": {
            "tags": [],
            "needs_background": "light"
          }
        }
      ]
    },
    {
      "cell_type": "markdown",
      "metadata": {
        "id": "QSXSlgYcHGfY"
      },
      "source": [
        "**c. Distance between sellers and buyers**\n",
        "\n",
        "Another variable that is worth investigating is the distance between the purchaser and the receiver. Note that the outliers are removed from the plot because the variable ranged widely, so that it shrinks the boxplot into thick lines. According to the boxplots, the fraudulent transactions are located much further than normal transactions, which also emphasizes the result that transactions from foreign email domains have a higher probability of committing fraud. As a result, the distance from the purchaser to the recipient is essential to the predictive model."
      ]
    },
    {
      "cell_type": "code",
      "metadata": {
        "id": "OTSqfrUWmzVn"
      },
      "source": [
        "fraud1 = train_new[train_new['isFraud'] == 1]\n",
        "fraud1 = fraud1.dropna()\n",
        "fraud0 = train_new[train_new['isFraud'] == 0]\n",
        "fraud0 = fraud0.dropna()\n",
        "distance = [fraud1['dist1'], fraud0['dist1']]\n",
        "#print(distance)"
      ],
      "execution_count": null,
      "outputs": []
    },
    {
      "cell_type": "code",
      "metadata": {
        "colab": {
          "base_uri": "https://localhost:8080/",
          "height": 141
        },
        "id": "D-pUnnivM3_w",
        "outputId": "f8f20b28-5ffa-47dc-d50b-e9b839f60d1d"
      },
      "source": [
        "train_transaction.groupby(train_transaction[\"isFraud\"]).dist1.describe() #boxplot"
      ],
      "execution_count": null,
      "outputs": [
        {
          "output_type": "execute_result",
          "data": {
            "text/html": [
              "<div>\n",
              "<style scoped>\n",
              "    .dataframe tbody tr th:only-of-type {\n",
              "        vertical-align: middle;\n",
              "    }\n",
              "\n",
              "    .dataframe tbody tr th {\n",
              "        vertical-align: top;\n",
              "    }\n",
              "\n",
              "    .dataframe thead th {\n",
              "        text-align: right;\n",
              "    }\n",
              "</style>\n",
              "<table border=\"1\" class=\"dataframe\">\n",
              "  <thead>\n",
              "    <tr style=\"text-align: right;\">\n",
              "      <th></th>\n",
              "      <th>count</th>\n",
              "      <th>mean</th>\n",
              "      <th>std</th>\n",
              "      <th>min</th>\n",
              "      <th>25%</th>\n",
              "      <th>50%</th>\n",
              "      <th>75%</th>\n",
              "      <th>max</th>\n",
              "    </tr>\n",
              "    <tr>\n",
              "      <th>isFraud</th>\n",
              "      <th></th>\n",
              "      <th></th>\n",
              "      <th></th>\n",
              "      <th></th>\n",
              "      <th></th>\n",
              "      <th></th>\n",
              "      <th></th>\n",
              "      <th></th>\n",
              "    </tr>\n",
              "  </thead>\n",
              "  <tbody>\n",
              "    <tr>\n",
              "      <th>0</th>\n",
              "      <td>233514.0</td>\n",
              "      <td>117.360098</td>\n",
              "      <td>370.641879</td>\n",
              "      <td>0.0</td>\n",
              "      <td>3.0</td>\n",
              "      <td>8.0</td>\n",
              "      <td>24.0</td>\n",
              "      <td>10286.0</td>\n",
              "    </tr>\n",
              "    <tr>\n",
              "      <th>1</th>\n",
              "      <td>4755.0</td>\n",
              "      <td>174.588854</td>\n",
              "      <td>424.232313</td>\n",
              "      <td>0.0</td>\n",
              "      <td>3.0</td>\n",
              "      <td>10.0</td>\n",
              "      <td>85.5</td>\n",
              "      <td>4942.0</td>\n",
              "    </tr>\n",
              "  </tbody>\n",
              "</table>\n",
              "</div>"
            ],
            "text/plain": [
              "            count        mean         std  min  25%   50%   75%      max\n",
              "isFraud                                                                 \n",
              "0        233514.0  117.360098  370.641879  0.0  3.0   8.0  24.0  10286.0\n",
              "1          4755.0  174.588854  424.232313  0.0  3.0  10.0  85.5   4942.0"
            ]
          },
          "metadata": {
            "tags": []
          },
          "execution_count": 44
        }
      ]
    },
    {
      "cell_type": "code",
      "metadata": {
        "colab": {
          "base_uri": "https://localhost:8080/",
          "height": 350
        },
        "id": "4RKj4lD5lJKq",
        "outputId": "7e700c8b-e7d9-43b7-bbb2-70be564e0226"
      },
      "source": [
        "box = plt.boxplot(distance, showfliers=False, vert=False, widths=0.6, labels=['Fraud', 'Non-fraud'], patch_artist=True, medianprops=dict(color='black'))\n",
        "\n",
        "colors = ['tab:orange', 'tab:blue']\n",
        " \n",
        "for patch, color in zip(box['boxes'], colors):\n",
        "    patch.set_facecolor(color)\n",
        "  \n",
        "plt.title('Boxplot of Distance between Billing Adress by Fraud Transaction')\n",
        "plt.xlabel('Distance between Billing Adress')\n",
        "# show plot\n",
        "plt.show()"
      ],
      "execution_count": null,
      "outputs": [
        {
          "output_type": "stream",
          "text": [
            "/usr/local/lib/python3.7/dist-packages/numpy/core/_asarray.py:83: VisibleDeprecationWarning: Creating an ndarray from ragged nested sequences (which is a list-or-tuple of lists-or-tuples-or ndarrays with different lengths or shapes) is deprecated. If you meant to do this, you must specify 'dtype=object' when creating the ndarray\n",
            "  return array(a, dtype, copy=False, order=order)\n"
          ],
          "name": "stderr"
        },
        {
          "output_type": "display_data",
          "data": {
            "image/png": "[encoded data removed]",
            "text/plain": [
              "<Figure size 432x288 with 1 Axes>"
            ]
          },
          "metadata": {
            "tags": [],
            "needs_background": "light"
          }
        }
      ]
    },
    {
      "cell_type": "markdown",
      "metadata": {
        "id": "RI6eY8Im5bQU"
      },
      "source": [
        "**3. Data Mining**"
      ]
    },
    {
      "cell_type": "markdown",
      "metadata": {
        "id": "59tNEDpY82L7"
      },
      "source": [
        "We decide to use the following Machine Learning and Deep Learning techniques to find the best model predicting the chance for a transaction to be fraudulent based on its factors. All of those Data Mining techniques, except for Neural networks would be evaluated using k-fold cross-validation. Afterward, the final model would be determined based on the one with the highest macro F1-score, which is the harmonic mean of average precision and average recall metrics since the data is imbalanced with the majority of non-fraud observations."
      ]
    },
    {
      "cell_type": "code",
      "metadata": {
        "colab": {
          "base_uri": "https://localhost:8080/"
        },
        "id": "i6l-aGCX3vxZ",
        "outputId": "62737f98-3bda-4d20-8b64-c528066e7922"
      },
      "source": [
        "chosen_factor = ['TransactionAmt','dist1','card1','card2','card3','card5',\n",
        "                 'C1', 'C2', 'C3', 'C4', 'C5', 'C6', 'C7', 'C8','C9', 'C10', 'C11', 'C12', 'C13', 'C14','isFraud']\n",
        "len(chosen_factor)"
      ],
      "execution_count": 9,
      "outputs": [
        {
          "output_type": "execute_result",
          "data": {
            "text/plain": [
              "21"
            ]
          },
          "metadata": {},
          "execution_count": 9
        }
      ]
    },
    {
      "cell_type": "code",
      "metadata": {
        "id": "GMBTC2bd3xAs"
      },
      "source": [
        "final_trans = train_transaction[chosen_factor]\n",
        "final_trans = final_trans.fillna(0)\n",
        "label = final_trans.pop('isFraud')\n",
        "features = np.array(final_trans).astype(np.float32)\n",
        "label = np.array(label)"
      ],
      "execution_count": 10,
      "outputs": []
    },
    {
      "cell_type": "code",
      "metadata": {
        "id": "tZmDJE9w322M"
      },
      "source": [
        " features_train, features_test, label_train, label_test = train_test_split(features, label, test_size=0.2, random_state=1)"
      ],
      "execution_count": 11,
      "outputs": []
    },
    {
      "cell_type": "code",
      "metadata": {
        "colab": {
          "base_uri": "https://localhost:8080/"
        },
        "id": "Asjj8SBo35FX",
        "outputId": "61493964-a700-42ff-e2df-17176462ce8c"
      },
      "source": [
        "np.unique(label_test)"
      ],
      "execution_count": 12,
      "outputs": [
        {
          "output_type": "execute_result",
          "data": {
            "text/plain": [
              "array([0, 1])"
            ]
          },
          "metadata": {},
          "execution_count": 12
        }
      ]
    },
    {
      "cell_type": "code",
      "metadata": {
        "id": "TF3ZUtbB4WyI"
      },
      "source": [
        "def cast_obj_to_cat(df):\n",
        "  df.loc[:, df.dtypes == 'object'] =\\\n",
        "      df.select_dtypes(['object'])\\\n",
        "      .apply(lambda x: x.astype('category'))\n",
        "  return df"
      ],
      "execution_count": 19,
      "outputs": []
    },
    {
      "cell_type": "markdown",
      "metadata": {
        "id": "3QgWyL6G9aMb"
      },
      "source": [
        "**K-means clustering**"
      ]
    },
    {
      "cell_type": "code",
      "metadata": {
        "id": "twKflKGg4aA5"
      },
      "source": [
        "k_means_factor = ['C2', 'C14', 'dist1', 'C7', 'C13', 'card2', 'card1', 'C1', 'TransactionAmt','isFraud']"
      ],
      "execution_count": 18,
      "outputs": []
    },
    {
      "cell_type": "code",
      "metadata": {
        "id": "TwLyP2Mc4az5"
      },
      "source": [
        "kmeans_trans = train_transaction[chosen_factor]\n",
        "kmeans_trans = kmeans_trans.fillna(0)\n",
        "#kmeans_trans = cast_obj_to_cat(kmeans_trans)\n",
        "\n",
        "label = kmeans_trans.pop('isFraud')\n",
        "features = np.array(kmeans_trans).astype(np.float32)\n",
        "label = np.array(label)\n",
        "\n",
        "\n",
        "f_train, f_test, l_train, l_test = train_test_split(features, label, test_size=0.2, random_state=1)"
      ],
      "execution_count": 20,
      "outputs": []
    },
    {
      "cell_type": "code",
      "metadata": {
        "colab": {
          "base_uri": "https://localhost:8080/",
          "height": 1000
        },
        "id": "KKkAYp2K4hYn",
        "outputId": "f43c0c74-d99d-46fa-fcc7-6151c24ed2f2"
      },
      "source": [
        "kf_split = KFold(n_splits=10, random_state=1, shuffle=True)\n",
        "for train_index, test_index in kf_split.split(features):\n",
        "  features_train, features_test = features[train_index], features[test_index]\n",
        "  label_train, label_test = label[train_index], label[test_index]\n",
        "  model_kmeans = KMeans(n_clusters=2, random_state=1).fit(features_train)\n",
        "  pred = model_kmeans.predict(features_test)\n",
        "  print('Centers found:')\n",
        "  print(model_kmeans.cluster_centers_)\n",
        "  #Getting the Centroids\n",
        "  centroids = model_kmeans.cluster_centers_\n",
        "  plt.scatter(features_test[:, 0], features_test[:, -1], c=pred, cmap='rainbow')\n",
        "  plt.scatter(centroids[:, 0], centroids[:, 1], c='black', marker='o')\n",
        "  plt.title('Data points and cluster centroids')\n",
        "  plt.show()\n",
        "  print(classification_report(label_test, pred))\n",
        "  print('Confusion Matrix:')\n",
        "  print(confusion_matrix(label_test, pred))"
      ],
      "execution_count": 24,
      "outputs": [
        {
          "output_type": "stream",
          "name": "stdout",
          "text": [
            "Centers found:\n",
            "[[1.34085495e+02 4.71602707e+01 5.99318164e+03 3.48734589e+02\n",
            "  1.52864914e+02 1.99841904e+02 1.34513235e+01 1.45726929e+01\n",
            "  6.14852179e-03 3.76524115e+00 5.48145294e+00 8.67906094e+00\n",
            "  2.57514977e+00 4.72027206e+00 4.44140434e+00 4.86422539e+00\n",
            "  9.77264309e+00 3.72731638e+00 3.21934280e+01 7.99359703e+00]\n",
            " [1.35926285e+02 4.82799377e+01 1.43970898e+04 3.66797180e+02\n",
            "  1.52701492e+02 1.95561600e+02 1.49441662e+01 1.61676483e+01\n",
            "  4.83841728e-03 4.55285931e+00 5.64881706e+00 9.57677555e+00\n",
            "  3.19163895e+00 5.69826221e+00 4.50427246e+00 5.77399349e+00\n",
            "  1.08726292e+01 4.51474142e+00 3.29004593e+01 8.66980648e+00]]\n"
          ]
        },
        {
          "output_type": "display_data",
          "data": {
            "image/png": "[encoded data removed]",
            "text/plain": [
              "<Figure size 432x288 with 1 Axes>"
            ]
          },
          "metadata": {
            "needs_background": "light"
          }
        },
        {
          "output_type": "stream",
          "name": "stdout",
          "text": [
            "              precision    recall  f1-score   support\n",
            "\n",
            "           0       0.96      0.54      0.69     56966\n",
            "           1       0.03      0.40      0.06      2088\n",
            "\n",
            "    accuracy                           0.53     59054\n",
            "   macro avg       0.50      0.47      0.37     59054\n",
            "weighted avg       0.93      0.53      0.67     59054\n",
            "\n",
            "Confusion Matrix:\n",
            "[[30663 26303]\n",
            " [ 1255   833]]\n",
            "Centers found:\n",
            "[[1.36152008e+02 4.79270935e+01 1.43979492e+04 3.66896759e+02\n",
            "  1.52719345e+02 1.95555130e+02 1.48033962e+01 1.60576038e+01\n",
            "  4.91154334e-03 4.47332287e+00 5.65660238e+00 9.48556900e+00\n",
            "  3.15878248e+00 5.64212990e+00 4.50082254e+00 5.68759727e+00\n",
            "  1.07544098e+01 4.47147751e+00 3.28005524e+01 8.60247707e+00]\n",
            " [1.34547668e+02 4.72713737e+01 5.99459766e+03 3.48550629e+02\n",
            "  1.52866425e+02 1.99832138e+02 1.34760065e+01 1.46062269e+01\n",
            "  6.44388516e-03 3.76640916e+00 5.48051643e+00 8.68277073e+00\n",
            "  2.59237623e+00 4.75746441e+00 4.44520092e+00 4.87655067e+00\n",
            "  9.77670288e+00 3.75385833e+00 3.22357292e+01 7.99970436e+00]]\n"
          ]
        },
        {
          "output_type": "display_data",
          "data": {
            "image/png": "[encoded data removed]",
            "text/plain": [
              "<Figure size 432x288 with 1 Axes>"
            ]
          },
          "metadata": {
            "needs_background": "light"
          }
        },
        {
          "output_type": "stream",
          "name": "stdout",
          "text": [
            "              precision    recall  f1-score   support\n",
            "\n",
            "           0       0.97      0.47      0.63     57008\n",
            "           1       0.04      0.58      0.07      2046\n",
            "\n",
            "    accuracy                           0.47     59054\n",
            "   macro avg       0.50      0.53      0.35     59054\n",
            "weighted avg       0.94      0.47      0.61     59054\n",
            "\n",
            "Confusion Matrix:\n",
            "[[26829 30179]\n",
            " [  855  1191]]\n",
            "Centers found:\n",
            "[[1.3409480e+02 4.7657345e+01 5.9963203e+03 3.4855966e+02 1.5287450e+02\n",
            "  1.9983737e+02 1.3479871e+01 1.4615317e+01 6.3740415e-03 3.7700350e+00\n",
            "  5.4964371e+00 8.7055674e+00 2.5567443e+00 4.7061691e+00 4.4537206e+00\n",
            "  4.8423839e+00 9.7841625e+00 3.7011237e+00 3.2296883e+01 8.0180387e+00]\n",
            " [1.3558517e+02 4.8213375e+01 1.4395539e+04 3.6685849e+02 1.5269272e+02\n",
            "  1.9556447e+02 1.4609402e+01 1.5796251e+01 4.8973612e-03 4.3547077e+00\n",
            "  5.6833816e+00 9.4040756e+00 3.0323162e+00 5.4317780e+00 4.5246058e+00\n",
            "  5.4997644e+00 1.0618535e+01 4.2841296e+00 3.2760075e+01 8.5690250e+00]]\n"
          ]
        },
        {
          "output_type": "display_data",
          "data": {
            "image/png": "[encoded data removed]",
            "text/plain": [
              "<Figure size 432x288 with 1 Axes>"
            ]
          },
          "metadata": {
            "needs_background": "light"
          }
        },
        {
          "output_type": "stream",
          "name": "stdout",
          "text": [
            "              precision    recall  f1-score   support\n",
            "\n",
            "           0       0.96      0.53      0.69     57041\n",
            "           1       0.03      0.44      0.06      2013\n",
            "\n",
            "    accuracy                           0.53     59054\n",
            "   macro avg       0.50      0.48      0.37     59054\n",
            "weighted avg       0.93      0.53      0.67     59054\n",
            "\n",
            "Confusion Matrix:\n",
            "[[30408 26633]\n",
            " [ 1135   878]]\n",
            "Centers found:\n",
            "[[1.3397807e+02 4.7692078e+01 5.9969272e+03 3.4855154e+02 1.5287209e+02\n",
            "  1.9985330e+02 1.3571178e+01 1.4731494e+01 6.3708052e-03 3.8479724e+00\n",
            "  5.4502192e+00 8.7528725e+00 2.6403072e+00 4.8357139e+00 4.4227195e+00\n",
            "  4.9655318e+00 9.8649302e+00 3.8186064e+00 3.2202988e+01 8.0333652e+00]\n",
            " [1.3588290e+02 4.7880634e+01 1.4398170e+04 3.6668851e+02 1.5270100e+02\n",
            "  1.9556987e+02 1.4745950e+01 1.5961486e+01 4.8963963e-03 4.4231777e+00\n",
            "  5.6615105e+00 9.4681997e+00 3.1156247e+00 5.5643730e+00 4.5096993e+00\n",
            "  5.6186843e+00 1.0721024e+01 4.4152341e+00 3.2778774e+01 8.5979376e+00]]\n"
          ]
        },
        {
          "output_type": "display_data",
          "data": {
            "image/png": "[encoded data removed]",
            "text/plain": [
              "<Figure size 432x288 with 1 Axes>"
            ]
          },
          "metadata": {
            "needs_background": "light"
          }
        },
        {
          "output_type": "stream",
          "name": "stdout",
          "text": [
            "              precision    recall  f1-score   support\n",
            "\n",
            "           0       0.96      0.53      0.69     57021\n",
            "           1       0.03      0.41      0.06      2033\n",
            "\n",
            "    accuracy                           0.53     59054\n",
            "   macro avg       0.50      0.47      0.37     59054\n",
            "weighted avg       0.93      0.53      0.66     59054\n",
            "\n",
            "Confusion Matrix:\n",
            "[[30367 26654]\n",
            " [ 1204   829]]\n",
            "Centers found:\n",
            "[[1.3581607e+02 4.8127483e+01 1.4398321e+04 3.6682843e+02 1.5269215e+02\n",
            "  1.9551276e+02 1.4944108e+01 1.6191164e+01 4.7389856e-03 4.5224047e+00\n",
            "  5.6734333e+00 9.5694122e+00 3.2008083e+00 5.6952915e+00 4.5169578e+00\n",
            "  5.7600360e+00 1.0864017e+01 4.5314145e+00 3.2939945e+01 8.6640558e+00]\n",
            " [1.3435785e+02 4.7728462e+01 6.0013018e+03 3.4861588e+02 1.5286890e+02\n",
            "  1.9981328e+02 1.3399758e+01 1.4547117e+01 6.2542404e-03 3.7311199e+00\n",
            "  5.4880385e+00 8.6651630e+00 2.5626743e+00 4.6862907e+00 4.4529705e+00\n",
            "  4.8369465e+00 9.7492151e+00 3.7079153e+00 3.2212227e+01 7.9872484e+00]]\n"
          ]
        },
        {
          "output_type": "display_data",
          "data": {
            "image/png": "[encoded data removed]",
            "text/plain": [
              "<Figure size 432x288 with 1 Axes>"
            ]
          },
          "metadata": {
            "needs_background": "light"
          }
        },
        {
          "output_type": "stream",
          "name": "stdout",
          "text": [
            "              precision    recall  f1-score   support\n",
            "\n",
            "           0       0.97      0.47      0.63     56971\n",
            "           1       0.04      0.57      0.07      2083\n",
            "\n",
            "    accuracy                           0.47     59054\n",
            "   macro avg       0.50      0.52      0.35     59054\n",
            "weighted avg       0.93      0.47      0.61     59054\n",
            "\n",
            "Confusion Matrix:\n",
            "[[26625 30346]\n",
            " [  890  1193]]\n",
            "Centers found:\n",
            "[[1.3579530e+02 4.7936348e+01 1.4400873e+04 3.6664960e+02 1.5270589e+02\n",
            "  1.9556409e+02 1.4844190e+01 1.6085052e+01 4.7530103e-03 4.4794641e+00\n",
            "  5.6875839e+00 9.5235958e+00 3.1594343e+00 5.6242480e+00 4.5276003e+00\n",
            "  5.6730309e+00 1.0785203e+01 4.4628687e+00 3.2930233e+01 8.6427536e+00]\n",
            " [1.3453084e+02 4.7463268e+01 5.9948569e+03 3.4874051e+02 1.5285573e+02\n",
            "  1.9981114e+02 1.3593907e+01 1.4755558e+01 6.5151169e-03 3.8449771e+00\n",
            "  5.5029044e+00 8.7736254e+00 2.6418898e+00 4.8312354e+00 4.4553514e+00\n",
            "  4.9598680e+00 9.8803062e+00 3.8092430e+00 3.2398506e+01 8.0610399e+00]]\n"
          ]
        },
        {
          "output_type": "display_data",
          "data": {
            "image/png": "[encoded data removed]",
            "text/plain": [
              "<Figure size 432x288 with 1 Axes>"
            ]
          },
          "metadata": {
            "needs_background": "light"
          }
        },
        {
          "output_type": "stream",
          "name": "stdout",
          "text": [
            "              precision    recall  f1-score   support\n",
            "\n",
            "           0       0.97      0.47      0.63     56927\n",
            "           1       0.04      0.57      0.07      2127\n",
            "\n",
            "    accuracy                           0.47     59054\n",
            "   macro avg       0.50      0.52      0.35     59054\n",
            "weighted avg       0.93      0.47      0.61     59054\n",
            "\n",
            "Confusion Matrix:\n",
            "[[26569 30358]\n",
            " [  917  1210]]\n",
            "Centers found:\n",
            "[[1.3442155e+02 4.7577595e+01 5.9943379e+03 3.4860904e+02 1.5286256e+02\n",
            "  1.9984354e+02 1.3600721e+01 1.4752513e+01 6.1768745e-03 3.8144226e+00\n",
            "  5.5032325e+00 8.7628059e+00 2.6637149e+00 4.8392315e+00 4.4667501e+00\n",
            "  4.9647074e+00 9.8729420e+00 3.8548489e+00 3.2448441e+01 8.0556889e+00]\n",
            " [1.3598912e+02 4.8300365e+01 1.4394514e+04 3.6665640e+02 1.5270261e+02\n",
            "  1.9555551e+02 1.4797872e+01 1.5998082e+01 4.9326732e-03 4.4551601e+00\n",
            "  5.6436534e+00 9.4718990e+00 3.1717393e+00 5.6387253e+00 4.4983797e+00\n",
            "  5.6750984e+00 1.0744511e+01 4.4973669e+00 3.2778576e+01 8.5978909e+00]]\n"
          ]
        },
        {
          "output_type": "display_data",
          "data": {
            "image/png": "[encoded data removed]",
            "text/plain": [
              "<Figure size 432x288 with 1 Axes>"
            ]
          },
          "metadata": {
            "needs_background": "light"
          }
        },
        {
          "output_type": "stream",
          "name": "stdout",
          "text": [
            "              precision    recall  f1-score   support\n",
            "\n",
            "           0       0.96      0.53      0.69     57003\n",
            "           1       0.03      0.42      0.06      2051\n",
            "\n",
            "    accuracy                           0.53     59054\n",
            "   macro avg       0.50      0.48      0.37     59054\n",
            "weighted avg       0.93      0.53      0.67     59054\n",
            "\n",
            "Confusion Matrix:\n",
            "[[30457 26546]\n",
            " [ 1180   871]]\n",
            "Centers found:\n",
            "[[1.3411479e+02 4.7579056e+01 5.9952202e+03 3.4868027e+02 1.5287341e+02\n",
            "  1.9977776e+02 1.3565681e+01 1.4715756e+01 6.3569257e-03 3.8253605e+00\n",
            "  5.4713745e+00 8.7354670e+00 2.6495855e+00 4.8279214e+00 4.4455771e+00\n",
            "  4.9524131e+00 9.8606253e+00 3.8300138e+00 3.2283131e+01 8.0318928e+00]\n",
            " [1.3566573e+02 4.8140148e+01 1.4400135e+04 3.6687958e+02 1.5272250e+02\n",
            "  1.9559186e+02 1.4631296e+01 1.5817120e+01 4.9249376e-03 4.3853340e+00\n",
            "  5.6727509e+00 9.4062500e+00 3.0669415e+00 5.4860435e+00 4.5139670e+00\n",
            "  5.5357881e+00 1.0651898e+01 4.3389006e+00 3.2742001e+01 8.5648890e+00]]\n"
          ]
        },
        {
          "output_type": "display_data",
          "data": {
            "image/png": "[encoded data removed]",
            "text/plain": [
              "<Figure size 432x288 with 1 Axes>"
            ]
          },
          "metadata": {
            "needs_background": "light"
          }
        },
        {
          "output_type": "stream",
          "name": "stdout",
          "text": [
            "              precision    recall  f1-score   support\n",
            "\n",
            "           0       0.96      0.53      0.69     57084\n",
            "           1       0.03      0.42      0.06      1970\n",
            "\n",
            "    accuracy                           0.53     59054\n",
            "   macro avg       0.50      0.48      0.37     59054\n",
            "weighted avg       0.93      0.53      0.67     59054\n",
            "\n",
            "Confusion Matrix:\n",
            "[[30515 26569]\n",
            " [ 1151   819]]\n",
            "Centers found:\n",
            "[[1.3603372e+02 4.8134415e+01 1.4399559e+04 3.6687143e+02 1.5268092e+02\n",
            "  1.9554712e+02 1.4645658e+01 1.5860391e+01 4.8761396e-03 4.3955755e+00\n",
            "  5.6589346e+00 9.4232130e+00 3.0863235e+00 5.5035696e+00 4.5103488e+00\n",
            "  5.5770702e+00 1.0644818e+01 4.3660975e+00 3.2738934e+01 8.5745716e+00]\n",
            " [1.3445055e+02 4.7428879e+01 5.9946465e+03 3.4865701e+02 1.5284782e+02\n",
            "  1.9981522e+02 1.3361202e+01 1.4494904e+01 6.4558252e-03 3.7148242e+00\n",
            "  5.5028524e+00 8.6574459e+00 2.5321853e+00 4.6459532e+00 4.4621987e+00\n",
            "  4.7928524e+00 9.7130919e+00 3.6628094e+00 3.2268745e+01 7.9903731e+00]]\n"
          ]
        },
        {
          "output_type": "display_data",
          "data": {
            "image/png": "[encoded data removed]",
            "text/plain": [
              "<Figure size 432x288 with 1 Axes>"
            ]
          },
          "metadata": {
            "needs_background": "light"
          }
        },
        {
          "output_type": "stream",
          "name": "stdout",
          "text": [
            "              precision    recall  f1-score   support\n",
            "\n",
            "           0       0.97      0.47      0.63     56915\n",
            "           1       0.04      0.58      0.07      2139\n",
            "\n",
            "    accuracy                           0.47     59054\n",
            "   macro avg       0.50      0.52      0.35     59054\n",
            "weighted avg       0.93      0.47      0.61     59054\n",
            "\n",
            "Confusion Matrix:\n",
            "[[26506 30409]\n",
            " [  907  1232]]\n",
            "Centers found:\n",
            "[[1.35893234e+02 4.82438507e+01 1.43956621e+04 3.66747528e+02\n",
            "  1.52695648e+02 1.95532120e+02 1.47302361e+01 1.59453125e+01\n",
            "  4.61253803e-03 4.41825342e+00 5.68152761e+00 9.46175575e+00\n",
            "  3.13086700e+00 5.57157850e+00 4.52634287e+00 5.61896324e+00\n",
            "  1.07099838e+01 4.42500687e+00 3.28561859e+01 8.60385704e+00]\n",
            " [1.34366364e+02 4.79231262e+01 5.99437891e+03 3.48586426e+02\n",
            "  1.52852112e+02 1.99834320e+02 1.35504513e+01 1.46768312e+01\n",
            "  6.32320996e-03 3.79673219e+00 5.51015472e+00 8.74353027e+00\n",
            "  2.59808636e+00 4.76839638e+00 4.47017574e+00 4.88085365e+00\n",
            "  9.83355808e+00 3.75873017e+00 3.23979797e+01 8.05031872e+00]]\n"
          ]
        },
        {
          "output_type": "display_data",
          "data": {
            "image/png": "[encoded data removed]",
            "text/plain": [
              "<Figure size 432x288 with 1 Axes>"
            ]
          },
          "metadata": {
            "needs_background": "light"
          }
        },
        {
          "output_type": "stream",
          "name": "stdout",
          "text": [
            "              precision    recall  f1-score   support\n",
            "\n",
            "           0       0.97      0.46      0.63     56941\n",
            "           1       0.04      0.60      0.07      2113\n",
            "\n",
            "    accuracy                           0.47     59054\n",
            "   macro avg       0.50      0.53      0.35     59054\n",
            "weighted avg       0.94      0.47      0.61     59054\n",
            "\n",
            "Confusion Matrix:\n",
            "[[26464 30477]\n",
            " [  855  1258]]\n"
          ]
        }
      ]
    },
    {
      "cell_type": "markdown",
      "metadata": {
        "id": "J0Ir7b969n4i"
      },
      "source": [
        "**Logistic Regression**\n",
        "\n",
        "In terms of Logistic regression, the set of chosen factors would be used to predict whether the transaction was fraudulent or not using the probability that those transactions would be fraudulent"
      ]
    },
    {
      "cell_type": "code",
      "metadata": {
        "id": "Olawjnhb4ltQ"
      },
      "source": [
        "new_chosen = ['TransactionAmt','dist1','card1','card2','card3','card5',\n",
        "                 'C1', 'C2', 'C3', 'C4', 'C5', 'C6', 'C7', 'C8','C9', 'C10', 'C11', 'C12', 'C13', 'C14','isFraud']\n",
        "cat_chosen = ['card4','card6','P_emaildomain']"
      ],
      "execution_count": 25,
      "outputs": []
    },
    {
      "cell_type": "code",
      "metadata": {
        "colab": {
          "base_uri": "https://localhost:8080/",
          "height": 443
        },
        "id": "XlmIJhyK4nvd",
        "outputId": "40f3c641-9cd8-4983-e753-bcc1b8e706ed"
      },
      "source": [
        "logis_trans = train_transaction[new_chosen]\n",
        "logis_trans = logis_trans.fillna(0)\n",
        "logis_trans = cast_obj_to_cat(logis_trans)\n",
        "label = logis_trans.pop('isFraud')\n",
        "features = np.array(logis_trans)\n",
        "label = np.array(label)\n",
        "\n",
        "from sklearn.preprocessing import OneHotEncoder\n",
        "# creating instance of one-hot-encoder\n",
        "enc = OneHotEncoder(handle_unknown='ignore')\n",
        "# passing bridge-types-cat column (label encoded values of bridge_types)\n",
        "enc_df = pd.DataFrame(enc.fit_transform(train_transaction[cat_chosen].fillna(\"None\")).toarray())\n",
        "enc_df\n",
        "# merge with main df bridge_df on key values\n",
        "# logis_trans = logis_trans.join(enc_df)\n",
        "# logis_trans\n",
        "#f_train, f_test, l_train, l_test = train_test_split(features, label, test_size=0.2, random_state=1)"
      ],
      "execution_count": 26,
      "outputs": [
        {
          "output_type": "execute_result",
          "data": {
            "text/html": [
              "<div>\n",
              "<style scoped>\n",
              "    .dataframe tbody tr th:only-of-type {\n",
              "        vertical-align: middle;\n",
              "    }\n",
              "\n",
              "    .dataframe tbody tr th {\n",
              "        vertical-align: top;\n",
              "    }\n",
              "\n",
              "    .dataframe thead th {\n",
              "        text-align: right;\n",
              "    }\n",
              "</style>\n",
              "<table border=\"1\" class=\"dataframe\">\n",
              "  <thead>\n",
              "    <tr style=\"text-align: right;\">\n",
              "      <th></th>\n",
              "      <th>0</th>\n",
              "      <th>1</th>\n",
              "      <th>2</th>\n",
              "      <th>3</th>\n",
              "      <th>4</th>\n",
              "      <th>5</th>\n",
              "      <th>6</th>\n",
              "      <th>7</th>\n",
              "      <th>8</th>\n",
              "      <th>9</th>\n",
              "      <th>10</th>\n",
              "      <th>11</th>\n",
              "      <th>12</th>\n",
              "      <th>13</th>\n",
              "      <th>14</th>\n",
              "      <th>15</th>\n",
              "      <th>16</th>\n",
              "      <th>17</th>\n",
              "      <th>18</th>\n",
              "      <th>19</th>\n",
              "      <th>20</th>\n",
              "      <th>21</th>\n",
              "      <th>22</th>\n",
              "      <th>23</th>\n",
              "      <th>24</th>\n",
              "      <th>25</th>\n",
              "      <th>26</th>\n",
              "      <th>27</th>\n",
              "      <th>28</th>\n",
              "      <th>29</th>\n",
              "      <th>30</th>\n",
              "      <th>31</th>\n",
              "      <th>32</th>\n",
              "      <th>33</th>\n",
              "      <th>34</th>\n",
              "      <th>35</th>\n",
              "      <th>36</th>\n",
              "      <th>37</th>\n",
              "      <th>38</th>\n",
              "      <th>39</th>\n",
              "      <th>40</th>\n",
              "      <th>41</th>\n",
              "      <th>42</th>\n",
              "      <th>43</th>\n",
              "      <th>44</th>\n",
              "      <th>45</th>\n",
              "      <th>46</th>\n",
              "      <th>47</th>\n",
              "      <th>48</th>\n",
              "      <th>49</th>\n",
              "      <th>50</th>\n",
              "      <th>51</th>\n",
              "      <th>52</th>\n",
              "      <th>53</th>\n",
              "      <th>54</th>\n",
              "      <th>55</th>\n",
              "      <th>56</th>\n",
              "      <th>57</th>\n",
              "      <th>58</th>\n",
              "      <th>59</th>\n",
              "      <th>60</th>\n",
              "      <th>61</th>\n",
              "      <th>62</th>\n",
              "      <th>63</th>\n",
              "      <th>64</th>\n",
              "      <th>65</th>\n",
              "      <th>66</th>\n",
              "      <th>67</th>\n",
              "      <th>68</th>\n",
              "      <th>69</th>\n",
              "    </tr>\n",
              "  </thead>\n",
              "  <tbody>\n",
              "    <tr>\n",
              "      <th>0</th>\n",
              "      <td>0.0</td>\n",
              "      <td>0.0</td>\n",
              "      <td>1.0</td>\n",
              "      <td>0.0</td>\n",
              "      <td>0.0</td>\n",
              "      <td>0.0</td>\n",
              "      <td>0.0</td>\n",
              "      <td>1.0</td>\n",
              "      <td>0.0</td>\n",
              "      <td>0.0</td>\n",
              "      <td>1.0</td>\n",
              "      <td>0.0</td>\n",
              "      <td>0.0</td>\n",
              "      <td>0.0</td>\n",
              "      <td>0.0</td>\n",
              "      <td>0.0</td>\n",
              "      <td>0.0</td>\n",
              "      <td>0.0</td>\n",
              "      <td>0.0</td>\n",
              "      <td>0.0</td>\n",
              "      <td>0.0</td>\n",
              "      <td>0.0</td>\n",
              "      <td>0.0</td>\n",
              "      <td>0.0</td>\n",
              "      <td>0.0</td>\n",
              "      <td>0.0</td>\n",
              "      <td>0.0</td>\n",
              "      <td>0.0</td>\n",
              "      <td>0.0</td>\n",
              "      <td>0.0</td>\n",
              "      <td>0.0</td>\n",
              "      <td>0.0</td>\n",
              "      <td>0.0</td>\n",
              "      <td>0.0</td>\n",
              "      <td>0.0</td>\n",
              "      <td>0.0</td>\n",
              "      <td>0.0</td>\n",
              "      <td>0.0</td>\n",
              "      <td>0.0</td>\n",
              "      <td>0.0</td>\n",
              "      <td>0.0</td>\n",
              "      <td>0.0</td>\n",
              "      <td>0.0</td>\n",
              "      <td>0.0</td>\n",
              "      <td>0.0</td>\n",
              "      <td>0.0</td>\n",
              "      <td>0.0</td>\n",
              "      <td>0.0</td>\n",
              "      <td>0.0</td>\n",
              "      <td>0.0</td>\n",
              "      <td>0.0</td>\n",
              "      <td>0.0</td>\n",
              "      <td>0.0</td>\n",
              "      <td>0.0</td>\n",
              "      <td>0.0</td>\n",
              "      <td>0.0</td>\n",
              "      <td>0.0</td>\n",
              "      <td>0.0</td>\n",
              "      <td>0.0</td>\n",
              "      <td>0.0</td>\n",
              "      <td>0.0</td>\n",
              "      <td>0.0</td>\n",
              "      <td>0.0</td>\n",
              "      <td>0.0</td>\n",
              "      <td>0.0</td>\n",
              "      <td>0.0</td>\n",
              "      <td>0.0</td>\n",
              "      <td>0.0</td>\n",
              "      <td>0.0</td>\n",
              "      <td>0.0</td>\n",
              "    </tr>\n",
              "    <tr>\n",
              "      <th>1</th>\n",
              "      <td>0.0</td>\n",
              "      <td>0.0</td>\n",
              "      <td>0.0</td>\n",
              "      <td>1.0</td>\n",
              "      <td>0.0</td>\n",
              "      <td>0.0</td>\n",
              "      <td>0.0</td>\n",
              "      <td>1.0</td>\n",
              "      <td>0.0</td>\n",
              "      <td>0.0</td>\n",
              "      <td>0.0</td>\n",
              "      <td>0.0</td>\n",
              "      <td>0.0</td>\n",
              "      <td>0.0</td>\n",
              "      <td>0.0</td>\n",
              "      <td>0.0</td>\n",
              "      <td>0.0</td>\n",
              "      <td>0.0</td>\n",
              "      <td>0.0</td>\n",
              "      <td>0.0</td>\n",
              "      <td>0.0</td>\n",
              "      <td>0.0</td>\n",
              "      <td>0.0</td>\n",
              "      <td>0.0</td>\n",
              "      <td>0.0</td>\n",
              "      <td>0.0</td>\n",
              "      <td>0.0</td>\n",
              "      <td>1.0</td>\n",
              "      <td>0.0</td>\n",
              "      <td>0.0</td>\n",
              "      <td>0.0</td>\n",
              "      <td>0.0</td>\n",
              "      <td>0.0</td>\n",
              "      <td>0.0</td>\n",
              "      <td>0.0</td>\n",
              "      <td>0.0</td>\n",
              "      <td>0.0</td>\n",
              "      <td>0.0</td>\n",
              "      <td>0.0</td>\n",
              "      <td>0.0</td>\n",
              "      <td>0.0</td>\n",
              "      <td>0.0</td>\n",
              "      <td>0.0</td>\n",
              "      <td>0.0</td>\n",
              "      <td>0.0</td>\n",
              "      <td>0.0</td>\n",
              "      <td>0.0</td>\n",
              "      <td>0.0</td>\n",
              "      <td>0.0</td>\n",
              "      <td>0.0</td>\n",
              "      <td>0.0</td>\n",
              "      <td>0.0</td>\n",
              "      <td>0.0</td>\n",
              "      <td>0.0</td>\n",
              "      <td>0.0</td>\n",
              "      <td>0.0</td>\n",
              "      <td>0.0</td>\n",
              "      <td>0.0</td>\n",
              "      <td>0.0</td>\n",
              "      <td>0.0</td>\n",
              "      <td>0.0</td>\n",
              "      <td>0.0</td>\n",
              "      <td>0.0</td>\n",
              "      <td>0.0</td>\n",
              "      <td>0.0</td>\n",
              "      <td>0.0</td>\n",
              "      <td>0.0</td>\n",
              "      <td>0.0</td>\n",
              "      <td>0.0</td>\n",
              "      <td>0.0</td>\n",
              "    </tr>\n",
              "    <tr>\n",
              "      <th>2</th>\n",
              "      <td>0.0</td>\n",
              "      <td>0.0</td>\n",
              "      <td>0.0</td>\n",
              "      <td>0.0</td>\n",
              "      <td>1.0</td>\n",
              "      <td>0.0</td>\n",
              "      <td>0.0</td>\n",
              "      <td>0.0</td>\n",
              "      <td>1.0</td>\n",
              "      <td>0.0</td>\n",
              "      <td>0.0</td>\n",
              "      <td>0.0</td>\n",
              "      <td>0.0</td>\n",
              "      <td>0.0</td>\n",
              "      <td>0.0</td>\n",
              "      <td>0.0</td>\n",
              "      <td>0.0</td>\n",
              "      <td>0.0</td>\n",
              "      <td>0.0</td>\n",
              "      <td>0.0</td>\n",
              "      <td>0.0</td>\n",
              "      <td>0.0</td>\n",
              "      <td>0.0</td>\n",
              "      <td>0.0</td>\n",
              "      <td>0.0</td>\n",
              "      <td>0.0</td>\n",
              "      <td>0.0</td>\n",
              "      <td>0.0</td>\n",
              "      <td>0.0</td>\n",
              "      <td>0.0</td>\n",
              "      <td>0.0</td>\n",
              "      <td>0.0</td>\n",
              "      <td>0.0</td>\n",
              "      <td>0.0</td>\n",
              "      <td>0.0</td>\n",
              "      <td>0.0</td>\n",
              "      <td>0.0</td>\n",
              "      <td>0.0</td>\n",
              "      <td>0.0</td>\n",
              "      <td>0.0</td>\n",
              "      <td>0.0</td>\n",
              "      <td>0.0</td>\n",
              "      <td>0.0</td>\n",
              "      <td>0.0</td>\n",
              "      <td>0.0</td>\n",
              "      <td>0.0</td>\n",
              "      <td>1.0</td>\n",
              "      <td>0.0</td>\n",
              "      <td>0.0</td>\n",
              "      <td>0.0</td>\n",
              "      <td>0.0</td>\n",
              "      <td>0.0</td>\n",
              "      <td>0.0</td>\n",
              "      <td>0.0</td>\n",
              "      <td>0.0</td>\n",
              "      <td>0.0</td>\n",
              "      <td>0.0</td>\n",
              "      <td>0.0</td>\n",
              "      <td>0.0</td>\n",
              "      <td>0.0</td>\n",
              "      <td>0.0</td>\n",
              "      <td>0.0</td>\n",
              "      <td>0.0</td>\n",
              "      <td>0.0</td>\n",
              "      <td>0.0</td>\n",
              "      <td>0.0</td>\n",
              "      <td>0.0</td>\n",
              "      <td>0.0</td>\n",
              "      <td>0.0</td>\n",
              "      <td>0.0</td>\n",
              "    </tr>\n",
              "    <tr>\n",
              "      <th>3</th>\n",
              "      <td>0.0</td>\n",
              "      <td>0.0</td>\n",
              "      <td>0.0</td>\n",
              "      <td>1.0</td>\n",
              "      <td>0.0</td>\n",
              "      <td>0.0</td>\n",
              "      <td>0.0</td>\n",
              "      <td>0.0</td>\n",
              "      <td>1.0</td>\n",
              "      <td>0.0</td>\n",
              "      <td>0.0</td>\n",
              "      <td>0.0</td>\n",
              "      <td>0.0</td>\n",
              "      <td>0.0</td>\n",
              "      <td>0.0</td>\n",
              "      <td>0.0</td>\n",
              "      <td>0.0</td>\n",
              "      <td>0.0</td>\n",
              "      <td>0.0</td>\n",
              "      <td>0.0</td>\n",
              "      <td>0.0</td>\n",
              "      <td>0.0</td>\n",
              "      <td>0.0</td>\n",
              "      <td>0.0</td>\n",
              "      <td>0.0</td>\n",
              "      <td>0.0</td>\n",
              "      <td>0.0</td>\n",
              "      <td>0.0</td>\n",
              "      <td>0.0</td>\n",
              "      <td>0.0</td>\n",
              "      <td>0.0</td>\n",
              "      <td>0.0</td>\n",
              "      <td>0.0</td>\n",
              "      <td>0.0</td>\n",
              "      <td>0.0</td>\n",
              "      <td>0.0</td>\n",
              "      <td>0.0</td>\n",
              "      <td>0.0</td>\n",
              "      <td>0.0</td>\n",
              "      <td>0.0</td>\n",
              "      <td>0.0</td>\n",
              "      <td>0.0</td>\n",
              "      <td>0.0</td>\n",
              "      <td>0.0</td>\n",
              "      <td>0.0</td>\n",
              "      <td>0.0</td>\n",
              "      <td>0.0</td>\n",
              "      <td>0.0</td>\n",
              "      <td>0.0</td>\n",
              "      <td>0.0</td>\n",
              "      <td>0.0</td>\n",
              "      <td>0.0</td>\n",
              "      <td>0.0</td>\n",
              "      <td>0.0</td>\n",
              "      <td>0.0</td>\n",
              "      <td>0.0</td>\n",
              "      <td>0.0</td>\n",
              "      <td>0.0</td>\n",
              "      <td>0.0</td>\n",
              "      <td>0.0</td>\n",
              "      <td>0.0</td>\n",
              "      <td>0.0</td>\n",
              "      <td>0.0</td>\n",
              "      <td>0.0</td>\n",
              "      <td>1.0</td>\n",
              "      <td>0.0</td>\n",
              "      <td>0.0</td>\n",
              "      <td>0.0</td>\n",
              "      <td>0.0</td>\n",
              "      <td>0.0</td>\n",
              "    </tr>\n",
              "    <tr>\n",
              "      <th>4</th>\n",
              "      <td>0.0</td>\n",
              "      <td>0.0</td>\n",
              "      <td>0.0</td>\n",
              "      <td>1.0</td>\n",
              "      <td>0.0</td>\n",
              "      <td>0.0</td>\n",
              "      <td>0.0</td>\n",
              "      <td>1.0</td>\n",
              "      <td>0.0</td>\n",
              "      <td>0.0</td>\n",
              "      <td>0.0</td>\n",
              "      <td>0.0</td>\n",
              "      <td>0.0</td>\n",
              "      <td>0.0</td>\n",
              "      <td>0.0</td>\n",
              "      <td>0.0</td>\n",
              "      <td>0.0</td>\n",
              "      <td>0.0</td>\n",
              "      <td>0.0</td>\n",
              "      <td>0.0</td>\n",
              "      <td>0.0</td>\n",
              "      <td>0.0</td>\n",
              "      <td>0.0</td>\n",
              "      <td>0.0</td>\n",
              "      <td>0.0</td>\n",
              "      <td>0.0</td>\n",
              "      <td>0.0</td>\n",
              "      <td>1.0</td>\n",
              "      <td>0.0</td>\n",
              "      <td>0.0</td>\n",
              "      <td>0.0</td>\n",
              "      <td>0.0</td>\n",
              "      <td>0.0</td>\n",
              "      <td>0.0</td>\n",
              "      <td>0.0</td>\n",
              "      <td>0.0</td>\n",
              "      <td>0.0</td>\n",
              "      <td>0.0</td>\n",
              "      <td>0.0</td>\n",
              "      <td>0.0</td>\n",
              "      <td>0.0</td>\n",
              "      <td>0.0</td>\n",
              "      <td>0.0</td>\n",
              "      <td>0.0</td>\n",
              "      <td>0.0</td>\n",
              "      <td>0.0</td>\n",
              "      <td>0.0</td>\n",
              "      <td>0.0</td>\n",
              "      <td>0.0</td>\n",
              "      <td>0.0</td>\n",
              "      <td>0.0</td>\n",
              "      <td>0.0</td>\n",
              "      <td>0.0</td>\n",
              "      <td>0.0</td>\n",
              "      <td>0.0</td>\n",
              "      <td>0.0</td>\n",
              "      <td>0.0</td>\n",
              "      <td>0.0</td>\n",
              "      <td>0.0</td>\n",
              "      <td>0.0</td>\n",
              "      <td>0.0</td>\n",
              "      <td>0.0</td>\n",
              "      <td>0.0</td>\n",
              "      <td>0.0</td>\n",
              "      <td>0.0</td>\n",
              "      <td>0.0</td>\n",
              "      <td>0.0</td>\n",
              "      <td>0.0</td>\n",
              "      <td>0.0</td>\n",
              "      <td>0.0</td>\n",
              "    </tr>\n",
              "    <tr>\n",
              "      <th>...</th>\n",
              "      <td>...</td>\n",
              "      <td>...</td>\n",
              "      <td>...</td>\n",
              "      <td>...</td>\n",
              "      <td>...</td>\n",
              "      <td>...</td>\n",
              "      <td>...</td>\n",
              "      <td>...</td>\n",
              "      <td>...</td>\n",
              "      <td>...</td>\n",
              "      <td>...</td>\n",
              "      <td>...</td>\n",
              "      <td>...</td>\n",
              "      <td>...</td>\n",
              "      <td>...</td>\n",
              "      <td>...</td>\n",
              "      <td>...</td>\n",
              "      <td>...</td>\n",
              "      <td>...</td>\n",
              "      <td>...</td>\n",
              "      <td>...</td>\n",
              "      <td>...</td>\n",
              "      <td>...</td>\n",
              "      <td>...</td>\n",
              "      <td>...</td>\n",
              "      <td>...</td>\n",
              "      <td>...</td>\n",
              "      <td>...</td>\n",
              "      <td>...</td>\n",
              "      <td>...</td>\n",
              "      <td>...</td>\n",
              "      <td>...</td>\n",
              "      <td>...</td>\n",
              "      <td>...</td>\n",
              "      <td>...</td>\n",
              "      <td>...</td>\n",
              "      <td>...</td>\n",
              "      <td>...</td>\n",
              "      <td>...</td>\n",
              "      <td>...</td>\n",
              "      <td>...</td>\n",
              "      <td>...</td>\n",
              "      <td>...</td>\n",
              "      <td>...</td>\n",
              "      <td>...</td>\n",
              "      <td>...</td>\n",
              "      <td>...</td>\n",
              "      <td>...</td>\n",
              "      <td>...</td>\n",
              "      <td>...</td>\n",
              "      <td>...</td>\n",
              "      <td>...</td>\n",
              "      <td>...</td>\n",
              "      <td>...</td>\n",
              "      <td>...</td>\n",
              "      <td>...</td>\n",
              "      <td>...</td>\n",
              "      <td>...</td>\n",
              "      <td>...</td>\n",
              "      <td>...</td>\n",
              "      <td>...</td>\n",
              "      <td>...</td>\n",
              "      <td>...</td>\n",
              "      <td>...</td>\n",
              "      <td>...</td>\n",
              "      <td>...</td>\n",
              "      <td>...</td>\n",
              "      <td>...</td>\n",
              "      <td>...</td>\n",
              "      <td>...</td>\n",
              "    </tr>\n",
              "    <tr>\n",
              "      <th>590535</th>\n",
              "      <td>0.0</td>\n",
              "      <td>0.0</td>\n",
              "      <td>0.0</td>\n",
              "      <td>0.0</td>\n",
              "      <td>1.0</td>\n",
              "      <td>0.0</td>\n",
              "      <td>0.0</td>\n",
              "      <td>0.0</td>\n",
              "      <td>1.0</td>\n",
              "      <td>0.0</td>\n",
              "      <td>1.0</td>\n",
              "      <td>0.0</td>\n",
              "      <td>0.0</td>\n",
              "      <td>0.0</td>\n",
              "      <td>0.0</td>\n",
              "      <td>0.0</td>\n",
              "      <td>0.0</td>\n",
              "      <td>0.0</td>\n",
              "      <td>0.0</td>\n",
              "      <td>0.0</td>\n",
              "      <td>0.0</td>\n",
              "      <td>0.0</td>\n",
              "      <td>0.0</td>\n",
              "      <td>0.0</td>\n",
              "      <td>0.0</td>\n",
              "      <td>0.0</td>\n",
              "      <td>0.0</td>\n",
              "      <td>0.0</td>\n",
              "      <td>0.0</td>\n",
              "      <td>0.0</td>\n",
              "      <td>0.0</td>\n",
              "      <td>0.0</td>\n",
              "      <td>0.0</td>\n",
              "      <td>0.0</td>\n",
              "      <td>0.0</td>\n",
              "      <td>0.0</td>\n",
              "      <td>0.0</td>\n",
              "      <td>0.0</td>\n",
              "      <td>0.0</td>\n",
              "      <td>0.0</td>\n",
              "      <td>0.0</td>\n",
              "      <td>0.0</td>\n",
              "      <td>0.0</td>\n",
              "      <td>0.0</td>\n",
              "      <td>0.0</td>\n",
              "      <td>0.0</td>\n",
              "      <td>0.0</td>\n",
              "      <td>0.0</td>\n",
              "      <td>0.0</td>\n",
              "      <td>0.0</td>\n",
              "      <td>0.0</td>\n",
              "      <td>0.0</td>\n",
              "      <td>0.0</td>\n",
              "      <td>0.0</td>\n",
              "      <td>0.0</td>\n",
              "      <td>0.0</td>\n",
              "      <td>0.0</td>\n",
              "      <td>0.0</td>\n",
              "      <td>0.0</td>\n",
              "      <td>0.0</td>\n",
              "      <td>0.0</td>\n",
              "      <td>0.0</td>\n",
              "      <td>0.0</td>\n",
              "      <td>0.0</td>\n",
              "      <td>0.0</td>\n",
              "      <td>0.0</td>\n",
              "      <td>0.0</td>\n",
              "      <td>0.0</td>\n",
              "      <td>0.0</td>\n",
              "      <td>0.0</td>\n",
              "    </tr>\n",
              "    <tr>\n",
              "      <th>590536</th>\n",
              "      <td>0.0</td>\n",
              "      <td>0.0</td>\n",
              "      <td>0.0</td>\n",
              "      <td>1.0</td>\n",
              "      <td>0.0</td>\n",
              "      <td>0.0</td>\n",
              "      <td>0.0</td>\n",
              "      <td>0.0</td>\n",
              "      <td>1.0</td>\n",
              "      <td>0.0</td>\n",
              "      <td>0.0</td>\n",
              "      <td>0.0</td>\n",
              "      <td>0.0</td>\n",
              "      <td>0.0</td>\n",
              "      <td>0.0</td>\n",
              "      <td>0.0</td>\n",
              "      <td>0.0</td>\n",
              "      <td>0.0</td>\n",
              "      <td>0.0</td>\n",
              "      <td>0.0</td>\n",
              "      <td>0.0</td>\n",
              "      <td>0.0</td>\n",
              "      <td>0.0</td>\n",
              "      <td>0.0</td>\n",
              "      <td>0.0</td>\n",
              "      <td>0.0</td>\n",
              "      <td>0.0</td>\n",
              "      <td>1.0</td>\n",
              "      <td>0.0</td>\n",
              "      <td>0.0</td>\n",
              "      <td>0.0</td>\n",
              "      <td>0.0</td>\n",
              "      <td>0.0</td>\n",
              "      <td>0.0</td>\n",
              "      <td>0.0</td>\n",
              "      <td>0.0</td>\n",
              "      <td>0.0</td>\n",
              "      <td>0.0</td>\n",
              "      <td>0.0</td>\n",
              "      <td>0.0</td>\n",
              "      <td>0.0</td>\n",
              "      <td>0.0</td>\n",
              "      <td>0.0</td>\n",
              "      <td>0.0</td>\n",
              "      <td>0.0</td>\n",
              "      <td>0.0</td>\n",
              "      <td>0.0</td>\n",
              "      <td>0.0</td>\n",
              "      <td>0.0</td>\n",
              "      <td>0.0</td>\n",
              "      <td>0.0</td>\n",
              "      <td>0.0</td>\n",
              "      <td>0.0</td>\n",
              "      <td>0.0</td>\n",
              "      <td>0.0</td>\n",
              "      <td>0.0</td>\n",
              "      <td>0.0</td>\n",
              "      <td>0.0</td>\n",
              "      <td>0.0</td>\n",
              "      <td>0.0</td>\n",
              "      <td>0.0</td>\n",
              "      <td>0.0</td>\n",
              "      <td>0.0</td>\n",
              "      <td>0.0</td>\n",
              "      <td>0.0</td>\n",
              "      <td>0.0</td>\n",
              "      <td>0.0</td>\n",
              "      <td>0.0</td>\n",
              "      <td>0.0</td>\n",
              "      <td>0.0</td>\n",
              "    </tr>\n",
              "    <tr>\n",
              "      <th>590537</th>\n",
              "      <td>0.0</td>\n",
              "      <td>0.0</td>\n",
              "      <td>0.0</td>\n",
              "      <td>1.0</td>\n",
              "      <td>0.0</td>\n",
              "      <td>0.0</td>\n",
              "      <td>0.0</td>\n",
              "      <td>0.0</td>\n",
              "      <td>1.0</td>\n",
              "      <td>0.0</td>\n",
              "      <td>0.0</td>\n",
              "      <td>0.0</td>\n",
              "      <td>0.0</td>\n",
              "      <td>0.0</td>\n",
              "      <td>0.0</td>\n",
              "      <td>0.0</td>\n",
              "      <td>0.0</td>\n",
              "      <td>0.0</td>\n",
              "      <td>0.0</td>\n",
              "      <td>0.0</td>\n",
              "      <td>0.0</td>\n",
              "      <td>0.0</td>\n",
              "      <td>0.0</td>\n",
              "      <td>0.0</td>\n",
              "      <td>0.0</td>\n",
              "      <td>0.0</td>\n",
              "      <td>0.0</td>\n",
              "      <td>1.0</td>\n",
              "      <td>0.0</td>\n",
              "      <td>0.0</td>\n",
              "      <td>0.0</td>\n",
              "      <td>0.0</td>\n",
              "      <td>0.0</td>\n",
              "      <td>0.0</td>\n",
              "      <td>0.0</td>\n",
              "      <td>0.0</td>\n",
              "      <td>0.0</td>\n",
              "      <td>0.0</td>\n",
              "      <td>0.0</td>\n",
              "      <td>0.0</td>\n",
              "      <td>0.0</td>\n",
              "      <td>0.0</td>\n",
              "      <td>0.0</td>\n",
              "      <td>0.0</td>\n",
              "      <td>0.0</td>\n",
              "      <td>0.0</td>\n",
              "      <td>0.0</td>\n",
              "      <td>0.0</td>\n",
              "      <td>0.0</td>\n",
              "      <td>0.0</td>\n",
              "      <td>0.0</td>\n",
              "      <td>0.0</td>\n",
              "      <td>0.0</td>\n",
              "      <td>0.0</td>\n",
              "      <td>0.0</td>\n",
              "      <td>0.0</td>\n",
              "      <td>0.0</td>\n",
              "      <td>0.0</td>\n",
              "      <td>0.0</td>\n",
              "      <td>0.0</td>\n",
              "      <td>0.0</td>\n",
              "      <td>0.0</td>\n",
              "      <td>0.0</td>\n",
              "      <td>0.0</td>\n",
              "      <td>0.0</td>\n",
              "      <td>0.0</td>\n",
              "      <td>0.0</td>\n",
              "      <td>0.0</td>\n",
              "      <td>0.0</td>\n",
              "      <td>0.0</td>\n",
              "    </tr>\n",
              "    <tr>\n",
              "      <th>590538</th>\n",
              "      <td>0.0</td>\n",
              "      <td>0.0</td>\n",
              "      <td>0.0</td>\n",
              "      <td>1.0</td>\n",
              "      <td>0.0</td>\n",
              "      <td>0.0</td>\n",
              "      <td>0.0</td>\n",
              "      <td>0.0</td>\n",
              "      <td>1.0</td>\n",
              "      <td>0.0</td>\n",
              "      <td>0.0</td>\n",
              "      <td>0.0</td>\n",
              "      <td>0.0</td>\n",
              "      <td>1.0</td>\n",
              "      <td>0.0</td>\n",
              "      <td>0.0</td>\n",
              "      <td>0.0</td>\n",
              "      <td>0.0</td>\n",
              "      <td>0.0</td>\n",
              "      <td>0.0</td>\n",
              "      <td>0.0</td>\n",
              "      <td>0.0</td>\n",
              "      <td>0.0</td>\n",
              "      <td>0.0</td>\n",
              "      <td>0.0</td>\n",
              "      <td>0.0</td>\n",
              "      <td>0.0</td>\n",
              "      <td>0.0</td>\n",
              "      <td>0.0</td>\n",
              "      <td>0.0</td>\n",
              "      <td>0.0</td>\n",
              "      <td>0.0</td>\n",
              "      <td>0.0</td>\n",
              "      <td>0.0</td>\n",
              "      <td>0.0</td>\n",
              "      <td>0.0</td>\n",
              "      <td>0.0</td>\n",
              "      <td>0.0</td>\n",
              "      <td>0.0</td>\n",
              "      <td>0.0</td>\n",
              "      <td>0.0</td>\n",
              "      <td>0.0</td>\n",
              "      <td>0.0</td>\n",
              "      <td>0.0</td>\n",
              "      <td>0.0</td>\n",
              "      <td>0.0</td>\n",
              "      <td>0.0</td>\n",
              "      <td>0.0</td>\n",
              "      <td>0.0</td>\n",
              "      <td>0.0</td>\n",
              "      <td>0.0</td>\n",
              "      <td>0.0</td>\n",
              "      <td>0.0</td>\n",
              "      <td>0.0</td>\n",
              "      <td>0.0</td>\n",
              "      <td>0.0</td>\n",
              "      <td>0.0</td>\n",
              "      <td>0.0</td>\n",
              "      <td>0.0</td>\n",
              "      <td>0.0</td>\n",
              "      <td>0.0</td>\n",
              "      <td>0.0</td>\n",
              "      <td>0.0</td>\n",
              "      <td>0.0</td>\n",
              "      <td>0.0</td>\n",
              "      <td>0.0</td>\n",
              "      <td>0.0</td>\n",
              "      <td>0.0</td>\n",
              "      <td>0.0</td>\n",
              "      <td>0.0</td>\n",
              "    </tr>\n",
              "    <tr>\n",
              "      <th>590539</th>\n",
              "      <td>0.0</td>\n",
              "      <td>0.0</td>\n",
              "      <td>0.0</td>\n",
              "      <td>1.0</td>\n",
              "      <td>0.0</td>\n",
              "      <td>0.0</td>\n",
              "      <td>0.0</td>\n",
              "      <td>1.0</td>\n",
              "      <td>0.0</td>\n",
              "      <td>0.0</td>\n",
              "      <td>0.0</td>\n",
              "      <td>0.0</td>\n",
              "      <td>0.0</td>\n",
              "      <td>0.0</td>\n",
              "      <td>0.0</td>\n",
              "      <td>0.0</td>\n",
              "      <td>0.0</td>\n",
              "      <td>0.0</td>\n",
              "      <td>0.0</td>\n",
              "      <td>0.0</td>\n",
              "      <td>0.0</td>\n",
              "      <td>0.0</td>\n",
              "      <td>0.0</td>\n",
              "      <td>0.0</td>\n",
              "      <td>0.0</td>\n",
              "      <td>0.0</td>\n",
              "      <td>0.0</td>\n",
              "      <td>1.0</td>\n",
              "      <td>0.0</td>\n",
              "      <td>0.0</td>\n",
              "      <td>0.0</td>\n",
              "      <td>0.0</td>\n",
              "      <td>0.0</td>\n",
              "      <td>0.0</td>\n",
              "      <td>0.0</td>\n",
              "      <td>0.0</td>\n",
              "      <td>0.0</td>\n",
              "      <td>0.0</td>\n",
              "      <td>0.0</td>\n",
              "      <td>0.0</td>\n",
              "      <td>0.0</td>\n",
              "      <td>0.0</td>\n",
              "      <td>0.0</td>\n",
              "      <td>0.0</td>\n",
              "      <td>0.0</td>\n",
              "      <td>0.0</td>\n",
              "      <td>0.0</td>\n",
              "      <td>0.0</td>\n",
              "      <td>0.0</td>\n",
              "      <td>0.0</td>\n",
              "      <td>0.0</td>\n",
              "      <td>0.0</td>\n",
              "      <td>0.0</td>\n",
              "      <td>0.0</td>\n",
              "      <td>0.0</td>\n",
              "      <td>0.0</td>\n",
              "      <td>0.0</td>\n",
              "      <td>0.0</td>\n",
              "      <td>0.0</td>\n",
              "      <td>0.0</td>\n",
              "      <td>0.0</td>\n",
              "      <td>0.0</td>\n",
              "      <td>0.0</td>\n",
              "      <td>0.0</td>\n",
              "      <td>0.0</td>\n",
              "      <td>0.0</td>\n",
              "      <td>0.0</td>\n",
              "      <td>0.0</td>\n",
              "      <td>0.0</td>\n",
              "      <td>0.0</td>\n",
              "    </tr>\n",
              "  </tbody>\n",
              "</table>\n",
              "<p>590540 rows × 70 columns</p>\n",
              "</div>"
            ],
            "text/plain": [
              "         0    1    2    3    4    5    6   ...   63   64   65   66   67   68   69\n",
              "0       0.0  0.0  1.0  0.0  0.0  0.0  0.0  ...  0.0  0.0  0.0  0.0  0.0  0.0  0.0\n",
              "1       0.0  0.0  0.0  1.0  0.0  0.0  0.0  ...  0.0  0.0  0.0  0.0  0.0  0.0  0.0\n",
              "2       0.0  0.0  0.0  0.0  1.0  0.0  0.0  ...  0.0  0.0  0.0  0.0  0.0  0.0  0.0\n",
              "3       0.0  0.0  0.0  1.0  0.0  0.0  0.0  ...  0.0  1.0  0.0  0.0  0.0  0.0  0.0\n",
              "4       0.0  0.0  0.0  1.0  0.0  0.0  0.0  ...  0.0  0.0  0.0  0.0  0.0  0.0  0.0\n",
              "...     ...  ...  ...  ...  ...  ...  ...  ...  ...  ...  ...  ...  ...  ...  ...\n",
              "590535  0.0  0.0  0.0  0.0  1.0  0.0  0.0  ...  0.0  0.0  0.0  0.0  0.0  0.0  0.0\n",
              "590536  0.0  0.0  0.0  1.0  0.0  0.0  0.0  ...  0.0  0.0  0.0  0.0  0.0  0.0  0.0\n",
              "590537  0.0  0.0  0.0  1.0  0.0  0.0  0.0  ...  0.0  0.0  0.0  0.0  0.0  0.0  0.0\n",
              "590538  0.0  0.0  0.0  1.0  0.0  0.0  0.0  ...  0.0  0.0  0.0  0.0  0.0  0.0  0.0\n",
              "590539  0.0  0.0  0.0  1.0  0.0  0.0  0.0  ...  0.0  0.0  0.0  0.0  0.0  0.0  0.0\n",
              "\n",
              "[590540 rows x 70 columns]"
            ]
          },
          "metadata": {},
          "execution_count": 26
        }
      ]
    },
    {
      "cell_type": "code",
      "metadata": {
        "colab": {
          "base_uri": "https://localhost:8080/"
        },
        "id": "CJpxtPal4rvn",
        "outputId": "9550aef1-5d19-4a55-92f9-90bd5843e905"
      },
      "source": [
        "from sklearn.linear_model import LogisticRegression\n",
        "kf_split = KFold(n_splits=10, random_state=1, shuffle=True)\n",
        "for train_index, test_index in kf_split.split(features):\n",
        "  features_train, features_test = features[train_index], features[test_index]\n",
        "  label_train, label_test = label[train_index], label[test_index]\n",
        "  logit_mod = LogisticRegression(random_state=1).fit(features_train, label_train)\n",
        "  pred = logit_mod.predict(features_test)\n",
        "  print(classification_report(label_test, pred))\n",
        "  print('Confusion Matrix:')\n",
        "  print(confusion_matrix(label_test, pred))"
      ],
      "execution_count": 27,
      "outputs": [
        {
          "output_type": "stream",
          "name": "stderr",
          "text": [
            "/usr/local/lib/python3.7/dist-packages/sklearn/linear_model/_logistic.py:940: ConvergenceWarning: lbfgs failed to converge (status=1):\n",
            "STOP: TOTAL NO. of ITERATIONS REACHED LIMIT.\n",
            "\n",
            "Increase the number of iterations (max_iter) or scale the data as shown in:\n",
            "    https://scikit-learn.org/stable/modules/preprocessing.html\n",
            "Please also refer to the documentation for alternative solver options:\n",
            "    https://scikit-learn.org/stable/modules/linear_model.html#logistic-regression\n",
            "  extra_warning_msg=_LOGISTIC_SOLVER_CONVERGENCE_MSG)\n"
          ]
        },
        {
          "output_type": "stream",
          "name": "stdout",
          "text": [
            "              precision    recall  f1-score   support\n",
            "\n",
            "           0       0.97      1.00      0.98     56966\n",
            "           1       0.82      0.02      0.04      2088\n",
            "\n",
            "    accuracy                           0.97     59054\n",
            "   macro avg       0.89      0.51      0.51     59054\n",
            "weighted avg       0.96      0.97      0.95     59054\n",
            "\n",
            "Confusion Matrix:\n",
            "[[56956    10]\n",
            " [ 2041    47]]\n"
          ]
        },
        {
          "output_type": "stream",
          "name": "stderr",
          "text": [
            "/usr/local/lib/python3.7/dist-packages/sklearn/linear_model/_logistic.py:940: ConvergenceWarning: lbfgs failed to converge (status=1):\n",
            "STOP: TOTAL NO. of ITERATIONS REACHED LIMIT.\n",
            "\n",
            "Increase the number of iterations (max_iter) or scale the data as shown in:\n",
            "    https://scikit-learn.org/stable/modules/preprocessing.html\n",
            "Please also refer to the documentation for alternative solver options:\n",
            "    https://scikit-learn.org/stable/modules/linear_model.html#logistic-regression\n",
            "  extra_warning_msg=_LOGISTIC_SOLVER_CONVERGENCE_MSG)\n"
          ]
        },
        {
          "output_type": "stream",
          "name": "stdout",
          "text": [
            "              precision    recall  f1-score   support\n",
            "\n",
            "           0       0.97      1.00      0.98     57008\n",
            "           1       0.78      0.02      0.04      2046\n",
            "\n",
            "    accuracy                           0.97     59054\n",
            "   macro avg       0.87      0.51      0.51     59054\n",
            "weighted avg       0.96      0.97      0.95     59054\n",
            "\n",
            "Confusion Matrix:\n",
            "[[56995    13]\n",
            " [ 2000    46]]\n"
          ]
        },
        {
          "output_type": "stream",
          "name": "stderr",
          "text": [
            "/usr/local/lib/python3.7/dist-packages/sklearn/linear_model/_logistic.py:940: ConvergenceWarning: lbfgs failed to converge (status=1):\n",
            "STOP: TOTAL NO. of ITERATIONS REACHED LIMIT.\n",
            "\n",
            "Increase the number of iterations (max_iter) or scale the data as shown in:\n",
            "    https://scikit-learn.org/stable/modules/preprocessing.html\n",
            "Please also refer to the documentation for alternative solver options:\n",
            "    https://scikit-learn.org/stable/modules/linear_model.html#logistic-regression\n",
            "  extra_warning_msg=_LOGISTIC_SOLVER_CONVERGENCE_MSG)\n"
          ]
        },
        {
          "output_type": "stream",
          "name": "stdout",
          "text": [
            "              precision    recall  f1-score   support\n",
            "\n",
            "           0       0.97      1.00      0.98     57041\n",
            "           1       0.65      0.02      0.03      2013\n",
            "\n",
            "    accuracy                           0.97     59054\n",
            "   macro avg       0.81      0.51      0.51     59054\n",
            "weighted avg       0.96      0.97      0.95     59054\n",
            "\n",
            "Confusion Matrix:\n",
            "[[57023    18]\n",
            " [ 1980    33]]\n"
          ]
        },
        {
          "output_type": "stream",
          "name": "stderr",
          "text": [
            "/usr/local/lib/python3.7/dist-packages/sklearn/linear_model/_logistic.py:940: ConvergenceWarning: lbfgs failed to converge (status=1):\n",
            "STOP: TOTAL NO. of ITERATIONS REACHED LIMIT.\n",
            "\n",
            "Increase the number of iterations (max_iter) or scale the data as shown in:\n",
            "    https://scikit-learn.org/stable/modules/preprocessing.html\n",
            "Please also refer to the documentation for alternative solver options:\n",
            "    https://scikit-learn.org/stable/modules/linear_model.html#logistic-regression\n",
            "  extra_warning_msg=_LOGISTIC_SOLVER_CONVERGENCE_MSG)\n"
          ]
        },
        {
          "output_type": "stream",
          "name": "stdout",
          "text": [
            "              precision    recall  f1-score   support\n",
            "\n",
            "           0       0.97      1.00      0.98     57021\n",
            "           1       0.71      0.03      0.05      2033\n",
            "\n",
            "    accuracy                           0.97     59054\n",
            "   macro avg       0.84      0.51      0.52     59054\n",
            "weighted avg       0.96      0.97      0.95     59054\n",
            "\n",
            "Confusion Matrix:\n",
            "[[57000    21]\n",
            " [ 1982    51]]\n"
          ]
        },
        {
          "output_type": "stream",
          "name": "stderr",
          "text": [
            "/usr/local/lib/python3.7/dist-packages/sklearn/linear_model/_logistic.py:940: ConvergenceWarning: lbfgs failed to converge (status=1):\n",
            "STOP: TOTAL NO. of ITERATIONS REACHED LIMIT.\n",
            "\n",
            "Increase the number of iterations (max_iter) or scale the data as shown in:\n",
            "    https://scikit-learn.org/stable/modules/preprocessing.html\n",
            "Please also refer to the documentation for alternative solver options:\n",
            "    https://scikit-learn.org/stable/modules/linear_model.html#logistic-regression\n",
            "  extra_warning_msg=_LOGISTIC_SOLVER_CONVERGENCE_MSG)\n"
          ]
        },
        {
          "output_type": "stream",
          "name": "stdout",
          "text": [
            "              precision    recall  f1-score   support\n",
            "\n",
            "           0       0.97      1.00      0.98     56971\n",
            "           1       0.85      0.02      0.05      2083\n",
            "\n",
            "    accuracy                           0.97     59054\n",
            "   macro avg       0.91      0.51      0.51     59054\n",
            "weighted avg       0.96      0.97      0.95     59054\n",
            "\n",
            "Confusion Matrix:\n",
            "[[56962     9]\n",
            " [ 2033    50]]\n"
          ]
        },
        {
          "output_type": "stream",
          "name": "stderr",
          "text": [
            "/usr/local/lib/python3.7/dist-packages/sklearn/linear_model/_logistic.py:940: ConvergenceWarning: lbfgs failed to converge (status=1):\n",
            "STOP: TOTAL NO. of ITERATIONS REACHED LIMIT.\n",
            "\n",
            "Increase the number of iterations (max_iter) or scale the data as shown in:\n",
            "    https://scikit-learn.org/stable/modules/preprocessing.html\n",
            "Please also refer to the documentation for alternative solver options:\n",
            "    https://scikit-learn.org/stable/modules/linear_model.html#logistic-regression\n",
            "  extra_warning_msg=_LOGISTIC_SOLVER_CONVERGENCE_MSG)\n"
          ]
        },
        {
          "output_type": "stream",
          "name": "stdout",
          "text": [
            "              precision    recall  f1-score   support\n",
            "\n",
            "           0       0.96      1.00      0.98     56927\n",
            "           1       0.78      0.02      0.04      2127\n",
            "\n",
            "    accuracy                           0.96     59054\n",
            "   macro avg       0.87      0.51      0.51     59054\n",
            "weighted avg       0.96      0.96      0.95     59054\n",
            "\n",
            "Confusion Matrix:\n",
            "[[56916    11]\n",
            " [ 2087    40]]\n"
          ]
        },
        {
          "output_type": "stream",
          "name": "stderr",
          "text": [
            "/usr/local/lib/python3.7/dist-packages/sklearn/linear_model/_logistic.py:940: ConvergenceWarning: lbfgs failed to converge (status=1):\n",
            "STOP: TOTAL NO. of ITERATIONS REACHED LIMIT.\n",
            "\n",
            "Increase the number of iterations (max_iter) or scale the data as shown in:\n",
            "    https://scikit-learn.org/stable/modules/preprocessing.html\n",
            "Please also refer to the documentation for alternative solver options:\n",
            "    https://scikit-learn.org/stable/modules/linear_model.html#logistic-regression\n",
            "  extra_warning_msg=_LOGISTIC_SOLVER_CONVERGENCE_MSG)\n"
          ]
        },
        {
          "output_type": "stream",
          "name": "stdout",
          "text": [
            "              precision    recall  f1-score   support\n",
            "\n",
            "           0       0.97      1.00      0.98     57003\n",
            "           1       0.82      0.02      0.04      2051\n",
            "\n",
            "    accuracy                           0.97     59054\n",
            "   macro avg       0.89      0.51      0.51     59054\n",
            "weighted avg       0.96      0.97      0.95     59054\n",
            "\n",
            "Confusion Matrix:\n",
            "[[56994     9]\n",
            " [ 2011    40]]\n"
          ]
        },
        {
          "output_type": "stream",
          "name": "stderr",
          "text": [
            "/usr/local/lib/python3.7/dist-packages/sklearn/linear_model/_logistic.py:940: ConvergenceWarning: lbfgs failed to converge (status=1):\n",
            "STOP: TOTAL NO. of ITERATIONS REACHED LIMIT.\n",
            "\n",
            "Increase the number of iterations (max_iter) or scale the data as shown in:\n",
            "    https://scikit-learn.org/stable/modules/preprocessing.html\n",
            "Please also refer to the documentation for alternative solver options:\n",
            "    https://scikit-learn.org/stable/modules/linear_model.html#logistic-regression\n",
            "  extra_warning_msg=_LOGISTIC_SOLVER_CONVERGENCE_MSG)\n"
          ]
        },
        {
          "output_type": "stream",
          "name": "stdout",
          "text": [
            "              precision    recall  f1-score   support\n",
            "\n",
            "           0       0.97      1.00      0.98     57084\n",
            "           1       0.53      0.01      0.02      1970\n",
            "\n",
            "    accuracy                           0.97     59054\n",
            "   macro avg       0.75      0.51      0.50     59054\n",
            "weighted avg       0.95      0.97      0.95     59054\n",
            "\n",
            "Confusion Matrix:\n",
            "[[57062    22]\n",
            " [ 1945    25]]\n"
          ]
        },
        {
          "output_type": "stream",
          "name": "stderr",
          "text": [
            "/usr/local/lib/python3.7/dist-packages/sklearn/linear_model/_logistic.py:940: ConvergenceWarning: lbfgs failed to converge (status=1):\n",
            "STOP: TOTAL NO. of ITERATIONS REACHED LIMIT.\n",
            "\n",
            "Increase the number of iterations (max_iter) or scale the data as shown in:\n",
            "    https://scikit-learn.org/stable/modules/preprocessing.html\n",
            "Please also refer to the documentation for alternative solver options:\n",
            "    https://scikit-learn.org/stable/modules/linear_model.html#logistic-regression\n",
            "  extra_warning_msg=_LOGISTIC_SOLVER_CONVERGENCE_MSG)\n"
          ]
        },
        {
          "output_type": "stream",
          "name": "stdout",
          "text": [
            "              precision    recall  f1-score   support\n",
            "\n",
            "           0       0.96      1.00      0.98     56915\n",
            "           1       0.72      0.02      0.05      2139\n",
            "\n",
            "    accuracy                           0.96     59054\n",
            "   macro avg       0.84      0.51      0.51     59054\n",
            "weighted avg       0.96      0.96      0.95     59054\n",
            "\n",
            "Confusion Matrix:\n",
            "[[56895    20]\n",
            " [ 2088    51]]\n",
            "              precision    recall  f1-score   support\n",
            "\n",
            "           0       0.97      1.00      0.98     56941\n",
            "           1       0.70      0.03      0.05      2113\n",
            "\n",
            "    accuracy                           0.96     59054\n",
            "   macro avg       0.83      0.51      0.52     59054\n",
            "weighted avg       0.96      0.96      0.95     59054\n",
            "\n",
            "Confusion Matrix:\n",
            "[[56918    23]\n",
            " [ 2060    53]]\n"
          ]
        },
        {
          "output_type": "stream",
          "name": "stderr",
          "text": [
            "/usr/local/lib/python3.7/dist-packages/sklearn/linear_model/_logistic.py:940: ConvergenceWarning: lbfgs failed to converge (status=1):\n",
            "STOP: TOTAL NO. of ITERATIONS REACHED LIMIT.\n",
            "\n",
            "Increase the number of iterations (max_iter) or scale the data as shown in:\n",
            "    https://scikit-learn.org/stable/modules/preprocessing.html\n",
            "Please also refer to the documentation for alternative solver options:\n",
            "    https://scikit-learn.org/stable/modules/linear_model.html#logistic-regression\n",
            "  extra_warning_msg=_LOGISTIC_SOLVER_CONVERGENCE_MSG)\n"
          ]
        }
      ]
    },
    {
      "cell_type": "markdown",
      "metadata": {
        "id": "GefnqYX59Fwp"
      },
      "source": [
        "**Neural Network**\n",
        "\n",
        "Moreover, to find a better optimal solution for the problem, we decide to use a Simple Neural Network with the first hidden layer contains the number of nodes equal the dimension of the input factor matrix in which each node process an exploration on a specific feature), then using the Sigmoid activation function to get the probability of being fraudulent of a transaction for classification process in last hidden layer. In terms of setting up the neural networks, we use ADAM optimizer, which is the combination of Momentum and RMSprop optimizer, for our optimization problem, updating the weights with a batch size of 64 for 200 epochs.\n"
      ]
    },
    {
      "cell_type": "code",
      "metadata": {
        "colab": {
          "base_uri": "https://localhost:8080/"
        },
        "id": "AZic4PGw39Dw",
        "outputId": "d5f6d582-a70c-4119-862e-289a5b35b3ba"
      },
      "source": [
        "# define baseline model\n",
        "# create model\n",
        "model = Sequential()\n",
        "model.add(Dense(20, input_dim=features_train.shape[1], activation='relu'))\n",
        "model.add(Dense(1, activation='sigmoid'))\n",
        "# Compile model\n",
        "model.compile(loss='binary_crossentropy', optimizer='adam', metrics=['accuracy'])\n",
        "\n",
        "EPOCHS = 200\n",
        "checkpoint_filepath = '/tmp/checkpoint'\n",
        "model_checkpoint_callback = tf.keras.callbacks.ModelCheckpoint(\n",
        "    filepath=checkpoint_filepath,\n",
        "    save_weights_only=True,\n",
        "    monitor='val_accuracy',\n",
        "    mode='max',\n",
        "    save_best_only=True)\n",
        "model.fit(x=features_train,y=label_train,batch_size=64,epochs=EPOCHS, callbacks=[model_checkpoint_callback])\n",
        "\n",
        "# The model weights (that are considered the best) are loaded into the model."
      ],
      "execution_count": 13,
      "outputs": [
        {
          "output_type": "stream",
          "name": "stdout",
          "text": [
            "Epoch 1/200\n",
            "7382/7382 [==============================] - 11s 1ms/step - loss: 1.2333 - accuracy: 0.9455\n",
            "WARNING:tensorflow:Can save best model only with val_accuracy available, skipping.\n",
            "Epoch 2/200\n",
            "7382/7382 [==============================] - 10s 1ms/step - loss: 0.8017 - accuracy: 0.9498\n",
            "WARNING:tensorflow:Can save best model only with val_accuracy available, skipping.\n",
            "Epoch 3/200\n",
            "7382/7382 [==============================] - 10s 1ms/step - loss: 0.7895 - accuracy: 0.9495\n",
            "WARNING:tensorflow:Can save best model only with val_accuracy available, skipping.\n",
            "Epoch 4/200\n",
            "7382/7382 [==============================] - 11s 1ms/step - loss: 0.7233 - accuracy: 0.9510\n",
            "WARNING:tensorflow:Can save best model only with val_accuracy available, skipping.\n",
            "Epoch 5/200\n",
            "7382/7382 [==============================] - 10s 1ms/step - loss: 0.7400 - accuracy: 0.9509\n",
            "WARNING:tensorflow:Can save best model only with val_accuracy available, skipping.\n",
            "Epoch 6/200\n",
            "7382/7382 [==============================] - 10s 1ms/step - loss: 0.6466 - accuracy: 0.9526\n",
            "WARNING:tensorflow:Can save best model only with val_accuracy available, skipping.\n",
            "Epoch 7/200\n",
            "7382/7382 [==============================] - 10s 1ms/step - loss: 0.6130 - accuracy: 0.9554\n",
            "WARNING:tensorflow:Can save best model only with val_accuracy available, skipping.\n",
            "Epoch 8/200\n",
            "7382/7382 [==============================] - 11s 1ms/step - loss: 0.5862 - accuracy: 0.9548\n",
            "WARNING:tensorflow:Can save best model only with val_accuracy available, skipping.\n",
            "Epoch 9/200\n",
            "7382/7382 [==============================] - 11s 1ms/step - loss: 0.5556 - accuracy: 0.9560\n",
            "WARNING:tensorflow:Can save best model only with val_accuracy available, skipping.\n",
            "Epoch 10/200\n",
            "7382/7382 [==============================] - 11s 1ms/step - loss: 0.5095 - accuracy: 0.9562\n",
            "WARNING:tensorflow:Can save best model only with val_accuracy available, skipping.\n",
            "Epoch 11/200\n",
            "7382/7382 [==============================] - 11s 1ms/step - loss: 0.4873 - accuracy: 0.9573\n",
            "WARNING:tensorflow:Can save best model only with val_accuracy available, skipping.\n",
            "Epoch 12/200\n",
            "7382/7382 [==============================] - 10s 1ms/step - loss: 0.4531 - accuracy: 0.9580\n",
            "WARNING:tensorflow:Can save best model only with val_accuracy available, skipping.\n",
            "Epoch 13/200\n",
            "7382/7382 [==============================] - 11s 1ms/step - loss: 0.4415 - accuracy: 0.9579\n",
            "WARNING:tensorflow:Can save best model only with val_accuracy available, skipping.\n",
            "Epoch 14/200\n",
            "7382/7382 [==============================] - 10s 1ms/step - loss: 0.4250 - accuracy: 0.9582\n",
            "WARNING:tensorflow:Can save best model only with val_accuracy available, skipping.\n",
            "Epoch 15/200\n",
            "7382/7382 [==============================] - 10s 1ms/step - loss: 0.4206 - accuracy: 0.9585\n",
            "WARNING:tensorflow:Can save best model only with val_accuracy available, skipping.\n",
            "Epoch 16/200\n",
            "7382/7382 [==============================] - 10s 1ms/step - loss: 0.4080 - accuracy: 0.9597\n",
            "WARNING:tensorflow:Can save best model only with val_accuracy available, skipping.\n",
            "Epoch 17/200\n",
            "7382/7382 [==============================] - 10s 1ms/step - loss: 0.3653 - accuracy: 0.9603\n",
            "WARNING:tensorflow:Can save best model only with val_accuracy available, skipping.\n",
            "Epoch 18/200\n",
            "7382/7382 [==============================] - 11s 1ms/step - loss: 0.3415 - accuracy: 0.9606\n",
            "WARNING:tensorflow:Can save best model only with val_accuracy available, skipping.\n",
            "Epoch 19/200\n",
            "7382/7382 [==============================] - 10s 1ms/step - loss: 0.3620 - accuracy: 0.9595\n",
            "WARNING:tensorflow:Can save best model only with val_accuracy available, skipping.\n",
            "Epoch 20/200\n",
            "7382/7382 [==============================] - 10s 1ms/step - loss: 0.3227 - accuracy: 0.9610\n",
            "WARNING:tensorflow:Can save best model only with val_accuracy available, skipping.\n",
            "Epoch 21/200\n",
            "7382/7382 [==============================] - 10s 1ms/step - loss: 0.3085 - accuracy: 0.9613\n",
            "WARNING:tensorflow:Can save best model only with val_accuracy available, skipping.\n",
            "Epoch 22/200\n",
            "7382/7382 [==============================] - 10s 1ms/step - loss: 0.2759 - accuracy: 0.9622\n",
            "WARNING:tensorflow:Can save best model only with val_accuracy available, skipping.\n",
            "Epoch 23/200\n",
            "7382/7382 [==============================] - 10s 1ms/step - loss: 0.2563 - accuracy: 0.9626\n",
            "WARNING:tensorflow:Can save best model only with val_accuracy available, skipping.\n",
            "Epoch 24/200\n",
            "7382/7382 [==============================] - 10s 1ms/step - loss: 0.2566 - accuracy: 0.9626\n",
            "WARNING:tensorflow:Can save best model only with val_accuracy available, skipping.\n",
            "Epoch 25/200\n",
            "7382/7382 [==============================] - 11s 1ms/step - loss: 0.2365 - accuracy: 0.9632\n",
            "WARNING:tensorflow:Can save best model only with val_accuracy available, skipping.\n",
            "Epoch 26/200\n",
            "7382/7382 [==============================] - 11s 1ms/step - loss: 0.2377 - accuracy: 0.9633\n",
            "WARNING:tensorflow:Can save best model only with val_accuracy available, skipping.\n",
            "Epoch 27/200\n",
            "7382/7382 [==============================] - 11s 1ms/step - loss: 0.2169 - accuracy: 0.9638\n",
            "WARNING:tensorflow:Can save best model only with val_accuracy available, skipping.\n",
            "Epoch 28/200\n",
            "7382/7382 [==============================] - 11s 1ms/step - loss: 0.2199 - accuracy: 0.9638\n",
            "WARNING:tensorflow:Can save best model only with val_accuracy available, skipping.\n",
            "Epoch 29/200\n",
            "7382/7382 [==============================] - 11s 1ms/step - loss: 0.2032 - accuracy: 0.9643\n",
            "WARNING:tensorflow:Can save best model only with val_accuracy available, skipping.\n",
            "Epoch 30/200\n",
            "7382/7382 [==============================] - 12s 2ms/step - loss: 0.2006 - accuracy: 0.9646\n",
            "WARNING:tensorflow:Can save best model only with val_accuracy available, skipping.\n",
            "Epoch 31/200\n",
            "7382/7382 [==============================] - 11s 1ms/step - loss: 0.1945 - accuracy: 0.9646\n",
            "WARNING:tensorflow:Can save best model only with val_accuracy available, skipping.\n",
            "Epoch 32/200\n",
            "7382/7382 [==============================] - 14s 2ms/step - loss: 0.1885 - accuracy: 0.9649\n",
            "WARNING:tensorflow:Can save best model only with val_accuracy available, skipping.\n",
            "Epoch 33/200\n",
            "7382/7382 [==============================] - 12s 2ms/step - loss: 0.1773 - accuracy: 0.9653\n",
            "WARNING:tensorflow:Can save best model only with val_accuracy available, skipping.\n",
            "Epoch 34/200\n",
            "7382/7382 [==============================] - 11s 1ms/step - loss: 0.1765 - accuracy: 0.9654\n",
            "WARNING:tensorflow:Can save best model only with val_accuracy available, skipping.\n",
            "Epoch 35/200\n",
            "7382/7382 [==============================] - 11s 1ms/step - loss: 0.1632 - accuracy: 0.9662\n",
            "WARNING:tensorflow:Can save best model only with val_accuracy available, skipping.\n",
            "Epoch 36/200\n",
            "7382/7382 [==============================] - 11s 2ms/step - loss: 0.1585 - accuracy: 0.9664\n",
            "WARNING:tensorflow:Can save best model only with val_accuracy available, skipping.\n",
            "Epoch 37/200\n",
            "7382/7382 [==============================] - 11s 2ms/step - loss: 0.1510 - accuracy: 0.9670\n",
            "WARNING:tensorflow:Can save best model only with val_accuracy available, skipping.\n",
            "Epoch 38/200\n",
            "7382/7382 [==============================] - 11s 2ms/step - loss: 0.1478 - accuracy: 0.9669\n",
            "WARNING:tensorflow:Can save best model only with val_accuracy available, skipping.\n",
            "Epoch 39/200\n",
            "7382/7382 [==============================] - 12s 2ms/step - loss: 0.1405 - accuracy: 0.9675\n",
            "WARNING:tensorflow:Can save best model only with val_accuracy available, skipping.\n",
            "Epoch 40/200\n",
            "7382/7382 [==============================] - 11s 2ms/step - loss: 0.1387 - accuracy: 0.9677\n",
            "WARNING:tensorflow:Can save best model only with val_accuracy available, skipping.\n",
            "Epoch 41/200\n",
            "7382/7382 [==============================] - 11s 1ms/step - loss: 0.1343 - accuracy: 0.9677\n",
            "WARNING:tensorflow:Can save best model only with val_accuracy available, skipping.\n",
            "Epoch 42/200\n",
            "7382/7382 [==============================] - 11s 1ms/step - loss: 0.1314 - accuracy: 0.9671\n",
            "WARNING:tensorflow:Can save best model only with val_accuracy available, skipping.\n",
            "Epoch 43/200\n",
            "7382/7382 [==============================] - 11s 2ms/step - loss: 0.1277 - accuracy: 0.9675\n",
            "WARNING:tensorflow:Can save best model only with val_accuracy available, skipping.\n",
            "Epoch 44/200\n",
            "7382/7382 [==============================] - 11s 1ms/step - loss: 0.1237 - accuracy: 0.9690\n",
            "WARNING:tensorflow:Can save best model only with val_accuracy available, skipping.\n",
            "Epoch 45/200\n",
            "7382/7382 [==============================] - 11s 1ms/step - loss: 0.1228 - accuracy: 0.9695\n",
            "WARNING:tensorflow:Can save best model only with val_accuracy available, skipping.\n",
            "Epoch 46/200\n",
            "7382/7382 [==============================] - 11s 1ms/step - loss: 0.1218 - accuracy: 0.9698\n",
            "WARNING:tensorflow:Can save best model only with val_accuracy available, skipping.\n",
            "Epoch 47/200\n",
            "7382/7382 [==============================] - 11s 1ms/step - loss: 0.1216 - accuracy: 0.9700\n",
            "WARNING:tensorflow:Can save best model only with val_accuracy available, skipping.\n",
            "Epoch 48/200\n",
            "7382/7382 [==============================] - 11s 1ms/step - loss: 0.1210 - accuracy: 0.9699\n",
            "WARNING:tensorflow:Can save best model only with val_accuracy available, skipping.\n",
            "Epoch 49/200\n",
            "7382/7382 [==============================] - 11s 1ms/step - loss: 0.1207 - accuracy: 0.9700\n",
            "WARNING:tensorflow:Can save best model only with val_accuracy available, skipping.\n",
            "Epoch 50/200\n",
            "7382/7382 [==============================] - 11s 1ms/step - loss: 0.1202 - accuracy: 0.9700\n",
            "WARNING:tensorflow:Can save best model only with val_accuracy available, skipping.\n",
            "Epoch 51/200\n",
            "7382/7382 [==============================] - 11s 1ms/step - loss: 0.1198 - accuracy: 0.9701\n",
            "WARNING:tensorflow:Can save best model only with val_accuracy available, skipping.\n",
            "Epoch 52/200\n",
            "7382/7382 [==============================] - 11s 1ms/step - loss: 0.1196 - accuracy: 0.9702\n",
            "WARNING:tensorflow:Can save best model only with val_accuracy available, skipping.\n",
            "Epoch 53/200\n",
            "7382/7382 [==============================] - 11s 1ms/step - loss: 0.1194 - accuracy: 0.9702\n",
            "WARNING:tensorflow:Can save best model only with val_accuracy available, skipping.\n",
            "Epoch 54/200\n",
            "7382/7382 [==============================] - 11s 1ms/step - loss: 0.1190 - accuracy: 0.9702\n",
            "WARNING:tensorflow:Can save best model only with val_accuracy available, skipping.\n",
            "Epoch 55/200\n",
            "7382/7382 [==============================] - 11s 1ms/step - loss: 0.1188 - accuracy: 0.9703\n",
            "WARNING:tensorflow:Can save best model only with val_accuracy available, skipping.\n",
            "Epoch 56/200\n",
            "7382/7382 [==============================] - 11s 1ms/step - loss: 0.1183 - accuracy: 0.9703\n",
            "WARNING:tensorflow:Can save best model only with val_accuracy available, skipping.\n",
            "Epoch 57/200\n",
            "7382/7382 [==============================] - 11s 1ms/step - loss: 0.1184 - accuracy: 0.9705\n",
            "WARNING:tensorflow:Can save best model only with val_accuracy available, skipping.\n",
            "Epoch 58/200\n",
            "7382/7382 [==============================] - 11s 1ms/step - loss: 0.1182 - accuracy: 0.9705\n",
            "WARNING:tensorflow:Can save best model only with val_accuracy available, skipping.\n",
            "Epoch 59/200\n",
            "7382/7382 [==============================] - 11s 1ms/step - loss: 0.1185 - accuracy: 0.9704\n",
            "WARNING:tensorflow:Can save best model only with val_accuracy available, skipping.\n",
            "Epoch 60/200\n",
            "7382/7382 [==============================] - 11s 1ms/step - loss: 0.1183 - accuracy: 0.9704\n",
            "WARNING:tensorflow:Can save best model only with val_accuracy available, skipping.\n",
            "Epoch 61/200\n",
            "7382/7382 [==============================] - 11s 1ms/step - loss: 0.1182 - accuracy: 0.9706\n",
            "WARNING:tensorflow:Can save best model only with val_accuracy available, skipping.\n",
            "Epoch 62/200\n",
            "7382/7382 [==============================] - 11s 1ms/step - loss: 0.1175 - accuracy: 0.9706\n",
            "WARNING:tensorflow:Can save best model only with val_accuracy available, skipping.\n",
            "Epoch 63/200\n",
            "7382/7382 [==============================] - 11s 1ms/step - loss: 0.1177 - accuracy: 0.9706\n",
            "WARNING:tensorflow:Can save best model only with val_accuracy available, skipping.\n",
            "Epoch 64/200\n",
            "7382/7382 [==============================] - 11s 2ms/step - loss: 0.1172 - accuracy: 0.9707\n",
            "WARNING:tensorflow:Can save best model only with val_accuracy available, skipping.\n",
            "Epoch 65/200\n",
            "7382/7382 [==============================] - 11s 1ms/step - loss: 0.1174 - accuracy: 0.9706\n",
            "WARNING:tensorflow:Can save best model only with val_accuracy available, skipping.\n",
            "Epoch 66/200\n",
            "7382/7382 [==============================] - 11s 1ms/step - loss: 0.1172 - accuracy: 0.9707\n",
            "WARNING:tensorflow:Can save best model only with val_accuracy available, skipping.\n",
            "Epoch 67/200\n",
            "7382/7382 [==============================] - 11s 2ms/step - loss: 0.1173 - accuracy: 0.9706\n",
            "WARNING:tensorflow:Can save best model only with val_accuracy available, skipping.\n",
            "Epoch 68/200\n",
            "7382/7382 [==============================] - 11s 1ms/step - loss: 0.1173 - accuracy: 0.9708\n",
            "WARNING:tensorflow:Can save best model only with val_accuracy available, skipping.\n",
            "Epoch 69/200\n",
            "7382/7382 [==============================] - 11s 1ms/step - loss: 0.1175 - accuracy: 0.9708\n",
            "WARNING:tensorflow:Can save best model only with val_accuracy available, skipping.\n",
            "Epoch 70/200\n",
            "7382/7382 [==============================] - 11s 1ms/step - loss: 0.1171 - accuracy: 0.9708\n",
            "WARNING:tensorflow:Can save best model only with val_accuracy available, skipping.\n",
            "Epoch 71/200\n",
            "7382/7382 [==============================] - 11s 1ms/step - loss: 0.1168 - accuracy: 0.9708\n",
            "WARNING:tensorflow:Can save best model only with val_accuracy available, skipping.\n",
            "Epoch 72/200\n",
            "7382/7382 [==============================] - 11s 1ms/step - loss: 0.1173 - accuracy: 0.9708\n",
            "WARNING:tensorflow:Can save best model only with val_accuracy available, skipping.\n",
            "Epoch 73/200\n",
            "7382/7382 [==============================] - 11s 1ms/step - loss: 0.1169 - accuracy: 0.9709\n",
            "WARNING:tensorflow:Can save best model only with val_accuracy available, skipping.\n",
            "Epoch 74/200\n",
            "7382/7382 [==============================] - 11s 1ms/step - loss: 0.1165 - accuracy: 0.9709\n",
            "WARNING:tensorflow:Can save best model only with val_accuracy available, skipping.\n",
            "Epoch 75/200\n",
            "7382/7382 [==============================] - 11s 1ms/step - loss: 0.1168 - accuracy: 0.9708\n",
            "WARNING:tensorflow:Can save best model only with val_accuracy available, skipping.\n",
            "Epoch 76/200\n",
            "7382/7382 [==============================] - 11s 1ms/step - loss: 0.1168 - accuracy: 0.9709\n",
            "WARNING:tensorflow:Can save best model only with val_accuracy available, skipping.\n",
            "Epoch 77/200\n",
            "7382/7382 [==============================] - 11s 1ms/step - loss: 0.1164 - accuracy: 0.9710\n",
            "WARNING:tensorflow:Can save best model only with val_accuracy available, skipping.\n",
            "Epoch 78/200\n",
            "7382/7382 [==============================] - 11s 1ms/step - loss: 0.1163 - accuracy: 0.9710\n",
            "WARNING:tensorflow:Can save best model only with val_accuracy available, skipping.\n",
            "Epoch 79/200\n",
            "7382/7382 [==============================] - 11s 1ms/step - loss: 0.1168 - accuracy: 0.9709\n",
            "WARNING:tensorflow:Can save best model only with val_accuracy available, skipping.\n",
            "Epoch 80/200\n",
            "7382/7382 [==============================] - 11s 1ms/step - loss: 0.1166 - accuracy: 0.9709\n",
            "WARNING:tensorflow:Can save best model only with val_accuracy available, skipping.\n",
            "Epoch 81/200\n",
            "7382/7382 [==============================] - 11s 1ms/step - loss: 0.1165 - accuracy: 0.9710\n",
            "WARNING:tensorflow:Can save best model only with val_accuracy available, skipping.\n",
            "Epoch 82/200\n",
            "7382/7382 [==============================] - 11s 1ms/step - loss: 0.1165 - accuracy: 0.9709\n",
            "WARNING:tensorflow:Can save best model only with val_accuracy available, skipping.\n",
            "Epoch 83/200\n",
            "7382/7382 [==============================] - 11s 1ms/step - loss: 0.1164 - accuracy: 0.9709\n",
            "WARNING:tensorflow:Can save best model only with val_accuracy available, skipping.\n",
            "Epoch 84/200\n",
            "7382/7382 [==============================] - 11s 1ms/step - loss: 0.1167 - accuracy: 0.9710\n",
            "WARNING:tensorflow:Can save best model only with val_accuracy available, skipping.\n",
            "Epoch 85/200\n",
            "7382/7382 [==============================] - 11s 1ms/step - loss: 0.1166 - accuracy: 0.9710\n",
            "WARNING:tensorflow:Can save best model only with val_accuracy available, skipping.\n",
            "Epoch 86/200\n",
            "7382/7382 [==============================] - 12s 2ms/step - loss: 0.1166 - accuracy: 0.9710\n",
            "WARNING:tensorflow:Can save best model only with val_accuracy available, skipping.\n",
            "Epoch 87/200\n",
            "7382/7382 [==============================] - 11s 2ms/step - loss: 0.1165 - accuracy: 0.9710\n",
            "WARNING:tensorflow:Can save best model only with val_accuracy available, skipping.\n",
            "Epoch 88/200\n",
            "7382/7382 [==============================] - 11s 1ms/step - loss: 0.1163 - accuracy: 0.9709\n",
            "WARNING:tensorflow:Can save best model only with val_accuracy available, skipping.\n",
            "Epoch 89/200\n",
            "7382/7382 [==============================] - 11s 1ms/step - loss: 0.1163 - accuracy: 0.9710\n",
            "WARNING:tensorflow:Can save best model only with val_accuracy available, skipping.\n",
            "Epoch 90/200\n",
            "7382/7382 [==============================] - 11s 1ms/step - loss: 0.1162 - accuracy: 0.9710\n",
            "WARNING:tensorflow:Can save best model only with val_accuracy available, skipping.\n",
            "Epoch 91/200\n",
            "7382/7382 [==============================] - 11s 1ms/step - loss: 0.1167 - accuracy: 0.9710\n",
            "WARNING:tensorflow:Can save best model only with val_accuracy available, skipping.\n",
            "Epoch 92/200\n",
            "7382/7382 [==============================] - 11s 1ms/step - loss: 0.1166 - accuracy: 0.9709\n",
            "WARNING:tensorflow:Can save best model only with val_accuracy available, skipping.\n",
            "Epoch 93/200\n",
            "7382/7382 [==============================] - 11s 1ms/step - loss: 0.1162 - accuracy: 0.9709\n",
            "WARNING:tensorflow:Can save best model only with val_accuracy available, skipping.\n",
            "Epoch 94/200\n",
            "7382/7382 [==============================] - 11s 1ms/step - loss: 0.1158 - accuracy: 0.9711\n",
            "WARNING:tensorflow:Can save best model only with val_accuracy available, skipping.\n",
            "Epoch 95/200\n",
            "7382/7382 [==============================] - 11s 1ms/step - loss: 0.1164 - accuracy: 0.9709\n",
            "WARNING:tensorflow:Can save best model only with val_accuracy available, skipping.\n",
            "Epoch 96/200\n",
            "7382/7382 [==============================] - 11s 2ms/step - loss: 0.1161 - accuracy: 0.9709\n",
            "WARNING:tensorflow:Can save best model only with val_accuracy available, skipping.\n",
            "Epoch 97/200\n",
            "7382/7382 [==============================] - 11s 2ms/step - loss: 0.1160 - accuracy: 0.9710\n",
            "WARNING:tensorflow:Can save best model only with val_accuracy available, skipping.\n",
            "Epoch 98/200\n",
            "7382/7382 [==============================] - 11s 1ms/step - loss: 0.1162 - accuracy: 0.9710\n",
            "WARNING:tensorflow:Can save best model only with val_accuracy available, skipping.\n",
            "Epoch 99/200\n",
            "7382/7382 [==============================] - 11s 1ms/step - loss: 0.1163 - accuracy: 0.9710\n",
            "WARNING:tensorflow:Can save best model only with val_accuracy available, skipping.\n",
            "Epoch 100/200\n",
            "7382/7382 [==============================] - 11s 1ms/step - loss: 0.1160 - accuracy: 0.9710\n",
            "WARNING:tensorflow:Can save best model only with val_accuracy available, skipping.\n",
            "Epoch 101/200\n",
            "7382/7382 [==============================] - 11s 1ms/step - loss: 0.1161 - accuracy: 0.9710\n",
            "WARNING:tensorflow:Can save best model only with val_accuracy available, skipping.\n",
            "Epoch 102/200\n",
            "7382/7382 [==============================] - 11s 1ms/step - loss: 0.1161 - accuracy: 0.9710\n",
            "WARNING:tensorflow:Can save best model only with val_accuracy available, skipping.\n",
            "Epoch 103/200\n",
            "7382/7382 [==============================] - 11s 1ms/step - loss: 0.1162 - accuracy: 0.9711\n",
            "WARNING:tensorflow:Can save best model only with val_accuracy available, skipping.\n",
            "Epoch 104/200\n",
            "7382/7382 [==============================] - 11s 1ms/step - loss: 0.1162 - accuracy: 0.9710\n",
            "WARNING:tensorflow:Can save best model only with val_accuracy available, skipping.\n",
            "Epoch 105/200\n",
            "7382/7382 [==============================] - 11s 1ms/step - loss: 0.1162 - accuracy: 0.9710\n",
            "WARNING:tensorflow:Can save best model only with val_accuracy available, skipping.\n",
            "Epoch 106/200\n",
            "7382/7382 [==============================] - 11s 1ms/step - loss: 0.1161 - accuracy: 0.9710\n",
            "WARNING:tensorflow:Can save best model only with val_accuracy available, skipping.\n",
            "Epoch 107/200\n",
            "7382/7382 [==============================] - 11s 1ms/step - loss: 0.1162 - accuracy: 0.9709\n",
            "WARNING:tensorflow:Can save best model only with val_accuracy available, skipping.\n",
            "Epoch 108/200\n",
            "7382/7382 [==============================] - 11s 1ms/step - loss: 0.1161 - accuracy: 0.9709\n",
            "WARNING:tensorflow:Can save best model only with val_accuracy available, skipping.\n",
            "Epoch 109/200\n",
            "7382/7382 [==============================] - 11s 1ms/step - loss: 0.1158 - accuracy: 0.9710\n",
            "WARNING:tensorflow:Can save best model only with val_accuracy available, skipping.\n",
            "Epoch 110/200\n",
            "7382/7382 [==============================] - 11s 1ms/step - loss: 0.1159 - accuracy: 0.9710\n",
            "WARNING:tensorflow:Can save best model only with val_accuracy available, skipping.\n",
            "Epoch 111/200\n",
            "7382/7382 [==============================] - 11s 1ms/step - loss: 0.1161 - accuracy: 0.9711\n",
            "WARNING:tensorflow:Can save best model only with val_accuracy available, skipping.\n",
            "Epoch 112/200\n",
            "7382/7382 [==============================] - 11s 1ms/step - loss: 0.1165 - accuracy: 0.9711\n",
            "WARNING:tensorflow:Can save best model only with val_accuracy available, skipping.\n",
            "Epoch 113/200\n",
            "7382/7382 [==============================] - 11s 1ms/step - loss: 0.1161 - accuracy: 0.9709\n",
            "WARNING:tensorflow:Can save best model only with val_accuracy available, skipping.\n",
            "Epoch 114/200\n",
            "7382/7382 [==============================] - 12s 2ms/step - loss: 0.1160 - accuracy: 0.9711\n",
            "WARNING:tensorflow:Can save best model only with val_accuracy available, skipping.\n",
            "Epoch 115/200\n",
            "7382/7382 [==============================] - 12s 2ms/step - loss: 0.1157 - accuracy: 0.9710\n",
            "WARNING:tensorflow:Can save best model only with val_accuracy available, skipping.\n",
            "Epoch 116/200\n",
            "7382/7382 [==============================] - 11s 2ms/step - loss: 0.1160 - accuracy: 0.9710\n",
            "WARNING:tensorflow:Can save best model only with val_accuracy available, skipping.\n",
            "Epoch 117/200\n",
            "7382/7382 [==============================] - 11s 2ms/step - loss: 0.1159 - accuracy: 0.9710\n",
            "WARNING:tensorflow:Can save best model only with val_accuracy available, skipping.\n",
            "Epoch 118/200\n",
            "7382/7382 [==============================] - 11s 1ms/step - loss: 0.1159 - accuracy: 0.9711\n",
            "WARNING:tensorflow:Can save best model only with val_accuracy available, skipping.\n",
            "Epoch 119/200\n",
            "7382/7382 [==============================] - 11s 2ms/step - loss: 0.1159 - accuracy: 0.9709\n",
            "WARNING:tensorflow:Can save best model only with val_accuracy available, skipping.\n",
            "Epoch 120/200\n",
            "7382/7382 [==============================] - 11s 2ms/step - loss: 0.1161 - accuracy: 0.9710\n",
            "WARNING:tensorflow:Can save best model only with val_accuracy available, skipping.\n",
            "Epoch 121/200\n",
            "7382/7382 [==============================] - 11s 1ms/step - loss: 0.1160 - accuracy: 0.9710\n",
            "WARNING:tensorflow:Can save best model only with val_accuracy available, skipping.\n",
            "Epoch 122/200\n",
            "7382/7382 [==============================] - 11s 1ms/step - loss: 0.1159 - accuracy: 0.9709\n",
            "WARNING:tensorflow:Can save best model only with val_accuracy available, skipping.\n",
            "Epoch 123/200\n",
            "7382/7382 [==============================] - 11s 1ms/step - loss: 0.1160 - accuracy: 0.9710\n",
            "WARNING:tensorflow:Can save best model only with val_accuracy available, skipping.\n",
            "Epoch 124/200\n",
            "7382/7382 [==============================] - 11s 1ms/step - loss: 0.1161 - accuracy: 0.9710\n",
            "WARNING:tensorflow:Can save best model only with val_accuracy available, skipping.\n",
            "Epoch 125/200\n",
            "7382/7382 [==============================] - 11s 2ms/step - loss: 0.1159 - accuracy: 0.9710\n",
            "WARNING:tensorflow:Can save best model only with val_accuracy available, skipping.\n",
            "Epoch 126/200\n",
            "7382/7382 [==============================] - 11s 2ms/step - loss: 0.1161 - accuracy: 0.9710\n",
            "WARNING:tensorflow:Can save best model only with val_accuracy available, skipping.\n",
            "Epoch 127/200\n",
            "7382/7382 [==============================] - 11s 1ms/step - loss: 0.1159 - accuracy: 0.9710\n",
            "WARNING:tensorflow:Can save best model only with val_accuracy available, skipping.\n",
            "Epoch 128/200\n",
            "7382/7382 [==============================] - 11s 1ms/step - loss: 0.1160 - accuracy: 0.9710\n",
            "WARNING:tensorflow:Can save best model only with val_accuracy available, skipping.\n",
            "Epoch 129/200\n",
            "7382/7382 [==============================] - 11s 2ms/step - loss: 0.1160 - accuracy: 0.9710\n",
            "WARNING:tensorflow:Can save best model only with val_accuracy available, skipping.\n",
            "Epoch 130/200\n",
            "7382/7382 [==============================] - 11s 1ms/step - loss: 0.1157 - accuracy: 0.9710\n",
            "WARNING:tensorflow:Can save best model only with val_accuracy available, skipping.\n",
            "Epoch 131/200\n",
            "7382/7382 [==============================] - 11s 2ms/step - loss: 0.1157 - accuracy: 0.9710\n",
            "WARNING:tensorflow:Can save best model only with val_accuracy available, skipping.\n",
            "Epoch 132/200\n",
            "7382/7382 [==============================] - 11s 2ms/step - loss: 0.1160 - accuracy: 0.9710\n",
            "WARNING:tensorflow:Can save best model only with val_accuracy available, skipping.\n",
            "Epoch 133/200\n",
            "7382/7382 [==============================] - 11s 1ms/step - loss: 0.1158 - accuracy: 0.9710\n",
            "WARNING:tensorflow:Can save best model only with val_accuracy available, skipping.\n",
            "Epoch 134/200\n",
            "7382/7382 [==============================] - 11s 1ms/step - loss: 0.1160 - accuracy: 0.9710\n",
            "WARNING:tensorflow:Can save best model only with val_accuracy available, skipping.\n",
            "Epoch 135/200\n",
            "7382/7382 [==============================] - 11s 2ms/step - loss: 0.1157 - accuracy: 0.9710\n",
            "WARNING:tensorflow:Can save best model only with val_accuracy available, skipping.\n",
            "Epoch 136/200\n",
            "7382/7382 [==============================] - 11s 2ms/step - loss: 0.1160 - accuracy: 0.9710\n",
            "WARNING:tensorflow:Can save best model only with val_accuracy available, skipping.\n",
            "Epoch 137/200\n",
            "7382/7382 [==============================] - 11s 1ms/step - loss: 0.1162 - accuracy: 0.9709\n",
            "WARNING:tensorflow:Can save best model only with val_accuracy available, skipping.\n",
            "Epoch 138/200\n",
            "7382/7382 [==============================] - 11s 1ms/step - loss: 0.1158 - accuracy: 0.9710\n",
            "WARNING:tensorflow:Can save best model only with val_accuracy available, skipping.\n",
            "Epoch 139/200\n",
            "7382/7382 [==============================] - 11s 1ms/step - loss: 0.1158 - accuracy: 0.9710\n",
            "WARNING:tensorflow:Can save best model only with val_accuracy available, skipping.\n",
            "Epoch 140/200\n",
            "7382/7382 [==============================] - 11s 2ms/step - loss: 0.1157 - accuracy: 0.9711\n",
            "WARNING:tensorflow:Can save best model only with val_accuracy available, skipping.\n",
            "Epoch 141/200\n",
            "7382/7382 [==============================] - 11s 2ms/step - loss: 0.1157 - accuracy: 0.9710\n",
            "WARNING:tensorflow:Can save best model only with val_accuracy available, skipping.\n",
            "Epoch 142/200\n",
            "7382/7382 [==============================] - 11s 2ms/step - loss: 0.1158 - accuracy: 0.9710\n",
            "WARNING:tensorflow:Can save best model only with val_accuracy available, skipping.\n",
            "Epoch 143/200\n",
            "7382/7382 [==============================] - 11s 2ms/step - loss: 0.1158 - accuracy: 0.9711\n",
            "WARNING:tensorflow:Can save best model only with val_accuracy available, skipping.\n",
            "Epoch 144/200\n",
            "7382/7382 [==============================] - 11s 2ms/step - loss: 0.1156 - accuracy: 0.9710\n",
            "WARNING:tensorflow:Can save best model only with val_accuracy available, skipping.\n",
            "Epoch 145/200\n",
            "7382/7382 [==============================] - 11s 2ms/step - loss: 0.1160 - accuracy: 0.9710\n",
            "WARNING:tensorflow:Can save best model only with val_accuracy available, skipping.\n",
            "Epoch 146/200\n",
            "7382/7382 [==============================] - 12s 2ms/step - loss: 0.1159 - accuracy: 0.9710\n",
            "WARNING:tensorflow:Can save best model only with val_accuracy available, skipping.\n",
            "Epoch 147/200\n",
            "7382/7382 [==============================] - 11s 2ms/step - loss: 0.1157 - accuracy: 0.9710\n",
            "WARNING:tensorflow:Can save best model only with val_accuracy available, skipping.\n",
            "Epoch 148/200\n",
            "7382/7382 [==============================] - 11s 2ms/step - loss: 0.1159 - accuracy: 0.9710\n",
            "WARNING:tensorflow:Can save best model only with val_accuracy available, skipping.\n",
            "Epoch 149/200\n",
            "7382/7382 [==============================] - 11s 2ms/step - loss: 0.1158 - accuracy: 0.9710\n",
            "WARNING:tensorflow:Can save best model only with val_accuracy available, skipping.\n",
            "Epoch 150/200\n",
            "7382/7382 [==============================] - 11s 1ms/step - loss: 0.1157 - accuracy: 0.9710\n",
            "WARNING:tensorflow:Can save best model only with val_accuracy available, skipping.\n",
            "Epoch 151/200\n",
            "7382/7382 [==============================] - 11s 2ms/step - loss: 0.1157 - accuracy: 0.9710\n",
            "WARNING:tensorflow:Can save best model only with val_accuracy available, skipping.\n",
            "Epoch 152/200\n",
            "7382/7382 [==============================] - 11s 2ms/step - loss: 0.1159 - accuracy: 0.9710\n",
            "WARNING:tensorflow:Can save best model only with val_accuracy available, skipping.\n",
            "Epoch 153/200\n",
            "7382/7382 [==============================] - 11s 1ms/step - loss: 0.1159 - accuracy: 0.9710\n",
            "WARNING:tensorflow:Can save best model only with val_accuracy available, skipping.\n",
            "Epoch 154/200\n",
            "7382/7382 [==============================] - 11s 2ms/step - loss: 0.1156 - accuracy: 0.9710\n",
            "WARNING:tensorflow:Can save best model only with val_accuracy available, skipping.\n",
            "Epoch 155/200\n",
            "7382/7382 [==============================] - 11s 2ms/step - loss: 0.1159 - accuracy: 0.9710\n",
            "WARNING:tensorflow:Can save best model only with val_accuracy available, skipping.\n",
            "Epoch 156/200\n",
            "7382/7382 [==============================] - 11s 2ms/step - loss: 0.1159 - accuracy: 0.9710\n",
            "WARNING:tensorflow:Can save best model only with val_accuracy available, skipping.\n",
            "Epoch 157/200\n",
            "7382/7382 [==============================] - 11s 2ms/step - loss: 0.1158 - accuracy: 0.9710\n",
            "WARNING:tensorflow:Can save best model only with val_accuracy available, skipping.\n",
            "Epoch 158/200\n",
            "7382/7382 [==============================] - 11s 2ms/step - loss: 0.1159 - accuracy: 0.9710\n",
            "WARNING:tensorflow:Can save best model only with val_accuracy available, skipping.\n",
            "Epoch 159/200\n",
            "7382/7382 [==============================] - 11s 2ms/step - loss: 0.1158 - accuracy: 0.9709\n",
            "WARNING:tensorflow:Can save best model only with val_accuracy available, skipping.\n",
            "Epoch 160/200\n",
            "7382/7382 [==============================] - 11s 2ms/step - loss: 0.1158 - accuracy: 0.9710\n",
            "WARNING:tensorflow:Can save best model only with val_accuracy available, skipping.\n",
            "Epoch 161/200\n",
            "7382/7382 [==============================] - 11s 2ms/step - loss: 0.1157 - accuracy: 0.9709\n",
            "WARNING:tensorflow:Can save best model only with val_accuracy available, skipping.\n",
            "Epoch 162/200\n",
            "7382/7382 [==============================] - 11s 2ms/step - loss: 0.1157 - accuracy: 0.9710\n",
            "WARNING:tensorflow:Can save best model only with val_accuracy available, skipping.\n",
            "Epoch 163/200\n",
            "7382/7382 [==============================] - 11s 2ms/step - loss: 0.1159 - accuracy: 0.9709\n",
            "WARNING:tensorflow:Can save best model only with val_accuracy available, skipping.\n",
            "Epoch 164/200\n",
            "7382/7382 [==============================] - 11s 2ms/step - loss: 0.1154 - accuracy: 0.9710\n",
            "WARNING:tensorflow:Can save best model only with val_accuracy available, skipping.\n",
            "Epoch 165/200\n",
            "7382/7382 [==============================] - 11s 2ms/step - loss: 0.1158 - accuracy: 0.9710\n",
            "WARNING:tensorflow:Can save best model only with val_accuracy available, skipping.\n",
            "Epoch 166/200\n",
            "7382/7382 [==============================] - 11s 2ms/step - loss: 0.1157 - accuracy: 0.9711\n",
            "WARNING:tensorflow:Can save best model only with val_accuracy available, skipping.\n",
            "Epoch 167/200\n",
            "7382/7382 [==============================] - 11s 2ms/step - loss: 0.1160 - accuracy: 0.9709\n",
            "WARNING:tensorflow:Can save best model only with val_accuracy available, skipping.\n",
            "Epoch 168/200\n",
            "7382/7382 [==============================] - 12s 2ms/step - loss: 0.1160 - accuracy: 0.9710\n",
            "WARNING:tensorflow:Can save best model only with val_accuracy available, skipping.\n",
            "Epoch 169/200\n",
            "7382/7382 [==============================] - 11s 2ms/step - loss: 0.1163 - accuracy: 0.9709\n",
            "WARNING:tensorflow:Can save best model only with val_accuracy available, skipping.\n",
            "Epoch 170/200\n",
            "7382/7382 [==============================] - 12s 2ms/step - loss: 0.1155 - accuracy: 0.9711\n",
            "WARNING:tensorflow:Can save best model only with val_accuracy available, skipping.\n",
            "Epoch 171/200\n",
            "7382/7382 [==============================] - 11s 2ms/step - loss: 0.1170 - accuracy: 0.9710\n",
            "WARNING:tensorflow:Can save best model only with val_accuracy available, skipping.\n",
            "Epoch 172/200\n",
            "7382/7382 [==============================] - 12s 2ms/step - loss: 0.1157 - accuracy: 0.9710\n",
            "WARNING:tensorflow:Can save best model only with val_accuracy available, skipping.\n",
            "Epoch 173/200\n",
            "7382/7382 [==============================] - 12s 2ms/step - loss: 0.1155 - accuracy: 0.9710\n",
            "WARNING:tensorflow:Can save best model only with val_accuracy available, skipping.\n",
            "Epoch 174/200\n",
            "7382/7382 [==============================] - 12s 2ms/step - loss: 0.1158 - accuracy: 0.9710\n",
            "WARNING:tensorflow:Can save best model only with val_accuracy available, skipping.\n",
            "Epoch 175/200\n",
            "7382/7382 [==============================] - 12s 2ms/step - loss: 0.1155 - accuracy: 0.9710\n",
            "WARNING:tensorflow:Can save best model only with val_accuracy available, skipping.\n",
            "Epoch 176/200\n",
            "7382/7382 [==============================] - 12s 2ms/step - loss: 0.1158 - accuracy: 0.9710\n",
            "WARNING:tensorflow:Can save best model only with val_accuracy available, skipping.\n",
            "Epoch 177/200\n",
            "7382/7382 [==============================] - 12s 2ms/step - loss: 0.1158 - accuracy: 0.9711\n",
            "WARNING:tensorflow:Can save best model only with val_accuracy available, skipping.\n",
            "Epoch 178/200\n",
            "7382/7382 [==============================] - 11s 2ms/step - loss: 0.1157 - accuracy: 0.9710\n",
            "WARNING:tensorflow:Can save best model only with val_accuracy available, skipping.\n",
            "Epoch 179/200\n",
            "7382/7382 [==============================] - 11s 2ms/step - loss: 0.1157 - accuracy: 0.9710\n",
            "WARNING:tensorflow:Can save best model only with val_accuracy available, skipping.\n",
            "Epoch 180/200\n",
            "7382/7382 [==============================] - 11s 2ms/step - loss: 0.1158 - accuracy: 0.9710\n",
            "WARNING:tensorflow:Can save best model only with val_accuracy available, skipping.\n",
            "Epoch 181/200\n",
            "7382/7382 [==============================] - 11s 2ms/step - loss: 0.1154 - accuracy: 0.9711\n",
            "WARNING:tensorflow:Can save best model only with val_accuracy available, skipping.\n",
            "Epoch 182/200\n",
            "7382/7382 [==============================] - 11s 2ms/step - loss: 0.1158 - accuracy: 0.9710\n",
            "WARNING:tensorflow:Can save best model only with val_accuracy available, skipping.\n",
            "Epoch 183/200\n",
            "7382/7382 [==============================] - 11s 2ms/step - loss: 0.1160 - accuracy: 0.9708\n",
            "WARNING:tensorflow:Can save best model only with val_accuracy available, skipping.\n",
            "Epoch 184/200\n",
            "7382/7382 [==============================] - 11s 2ms/step - loss: 0.1158 - accuracy: 0.9710\n",
            "WARNING:tensorflow:Can save best model only with val_accuracy available, skipping.\n",
            "Epoch 185/200\n",
            "7382/7382 [==============================] - 11s 2ms/step - loss: 0.1159 - accuracy: 0.9710\n",
            "WARNING:tensorflow:Can save best model only with val_accuracy available, skipping.\n",
            "Epoch 186/200\n",
            "7382/7382 [==============================] - 11s 2ms/step - loss: 0.1158 - accuracy: 0.9710\n",
            "WARNING:tensorflow:Can save best model only with val_accuracy available, skipping.\n",
            "Epoch 187/200\n",
            "7382/7382 [==============================] - 11s 2ms/step - loss: 0.1156 - accuracy: 0.9710\n",
            "WARNING:tensorflow:Can save best model only with val_accuracy available, skipping.\n",
            "Epoch 188/200\n",
            "7382/7382 [==============================] - 11s 2ms/step - loss: 0.1157 - accuracy: 0.9710\n",
            "WARNING:tensorflow:Can save best model only with val_accuracy available, skipping.\n",
            "Epoch 189/200\n",
            "7382/7382 [==============================] - 11s 2ms/step - loss: 0.1161 - accuracy: 0.9710\n",
            "WARNING:tensorflow:Can save best model only with val_accuracy available, skipping.\n",
            "Epoch 190/200\n",
            "7382/7382 [==============================] - 11s 2ms/step - loss: 0.1160 - accuracy: 0.9710\n",
            "WARNING:tensorflow:Can save best model only with val_accuracy available, skipping.\n",
            "Epoch 191/200\n",
            "7382/7382 [==============================] - 11s 2ms/step - loss: 0.1156 - accuracy: 0.9710\n",
            "WARNING:tensorflow:Can save best model only with val_accuracy available, skipping.\n",
            "Epoch 192/200\n",
            "7382/7382 [==============================] - 11s 2ms/step - loss: 0.1159 - accuracy: 0.9710\n",
            "WARNING:tensorflow:Can save best model only with val_accuracy available, skipping.\n",
            "Epoch 193/200\n",
            "7382/7382 [==============================] - 11s 2ms/step - loss: 0.1157 - accuracy: 0.9710\n",
            "WARNING:tensorflow:Can save best model only with val_accuracy available, skipping.\n",
            "Epoch 194/200\n",
            "7382/7382 [==============================] - 12s 2ms/step - loss: 0.1158 - accuracy: 0.9709\n",
            "WARNING:tensorflow:Can save best model only with val_accuracy available, skipping.\n",
            "Epoch 195/200\n",
            "7382/7382 [==============================] - 12s 2ms/step - loss: 0.1156 - accuracy: 0.9711\n",
            "WARNING:tensorflow:Can save best model only with val_accuracy available, skipping.\n",
            "Epoch 196/200\n",
            "7382/7382 [==============================] - 11s 2ms/step - loss: 0.1154 - accuracy: 0.9710\n",
            "WARNING:tensorflow:Can save best model only with val_accuracy available, skipping.\n",
            "Epoch 197/200\n",
            "7382/7382 [==============================] - 11s 2ms/step - loss: 0.1159 - accuracy: 0.9710\n",
            "WARNING:tensorflow:Can save best model only with val_accuracy available, skipping.\n",
            "Epoch 198/200\n",
            "7382/7382 [==============================] - 12s 2ms/step - loss: 0.1159 - accuracy: 0.9710\n",
            "WARNING:tensorflow:Can save best model only with val_accuracy available, skipping.\n",
            "Epoch 199/200\n",
            "7382/7382 [==============================] - 12s 2ms/step - loss: 0.1158 - accuracy: 0.9710\n",
            "WARNING:tensorflow:Can save best model only with val_accuracy available, skipping.\n",
            "Epoch 200/200\n",
            "7382/7382 [==============================] - 12s 2ms/step - loss: 0.1156 - accuracy: 0.9711\n",
            "WARNING:tensorflow:Can save best model only with val_accuracy available, skipping.\n"
          ]
        },
        {
          "output_type": "execute_result",
          "data": {
            "text/plain": [
              "<keras.callbacks.History at 0x7f38b1eb1cd0>"
            ]
          },
          "metadata": {},
          "execution_count": 13
        }
      ]
    },
    {
      "cell_type": "code",
      "metadata": {
        "id": "kGgoeYOl4MST"
      },
      "source": [
        "model.save(\"fraud_net.h5\")"
      ],
      "execution_count": 14,
      "outputs": []
    },
    {
      "cell_type": "code",
      "metadata": {
        "id": "eE7-TKn84NCS"
      },
      "source": [
        "my_model = tf.keras.models.load_model(\"fraud_net.h5\")"
      ],
      "execution_count": 15,
      "outputs": []
    },
    {
      "cell_type": "code",
      "metadata": {
        "id": "LxKrEw2_4PVI"
      },
      "source": [
        "def get_pred(pred,thres):\n",
        "  pred_new = []\n",
        "  for ele in pred:\n",
        "    if ele >= thres:\n",
        "      ele = 1\n",
        "    else:\n",
        "      ele = 0\n",
        "    pred_new.append(ele)\n",
        "  return pred_new"
      ],
      "execution_count": 16,
      "outputs": []
    },
    {
      "cell_type": "code",
      "metadata": {
        "colab": {
          "base_uri": "https://localhost:8080/"
        },
        "id": "5h0mi2oB4Tw9",
        "outputId": "28d12a0b-a09f-4122-b7c3-1bd7778e9199"
      },
      "source": [
        "pred = model.predict(features_test)\n",
        "pred = get_pred(pred,0.4)\n",
        "print(classification_report(label_test, pred))\n",
        "print('Confusion Matrix:')\n",
        "print(confusion_matrix(label_test, pred))"
      ],
      "execution_count": 23,
      "outputs": [
        {
          "output_type": "stream",
          "name": "stdout",
          "text": [
            "              precision    recall  f1-score   support\n",
            "\n",
            "           0       0.97      1.00      0.99     56966\n",
            "           1       0.86      0.24      0.37      2088\n",
            "\n",
            "    accuracy                           0.97     59054\n",
            "   macro avg       0.92      0.62      0.68     59054\n",
            "weighted avg       0.97      0.97      0.96     59054\n",
            "\n",
            "Confusion Matrix:\n",
            "[[56886    80]\n",
            " [ 1588   500]]\n"
          ]
        }
      ]
    },
    {
      "cell_type": "markdown",
      "metadata": {
        "id": "1IqplxnD-lvW"
      },
      "source": [
        "**Decision tree and Importance score**\n",
        "\n",
        "The Decision Tree splits the classification questions into sub-questions, in which the ultimate response would occur when no further gain of information could be made from a tree. We used Gini impurity to assess the training process of the model. On the other hand, the top 10 most important features to the response variables would be chosen after running the decision trees."
      ]
    },
    {
      "cell_type": "code",
      "metadata": {
        "colab": {
          "base_uri": "https://localhost:8080/"
        },
        "id": "Pus4GY9TOf6l",
        "outputId": "a7efd6ec-deca-4a35-9151-6d721c390569"
      },
      "source": [
        "final_trans.columns.values"
      ],
      "execution_count": null,
      "outputs": [
        {
          "output_type": "execute_result",
          "data": {
            "text/plain": [
              "array(['TransactionAmt', 'ProductCD', 'card1', 'card2', 'card3', 'card4',\n",
              "       'card5', 'card6', 'dist1', 'P_emaildomain', 'C1', 'C2', 'C3', 'C4',\n",
              "       'C5', 'C6', 'C7', 'C8', 'C9', 'C10', 'C11', 'C12', 'C13', 'C14'],\n",
              "      dtype=object)"
            ]
          },
          "metadata": {
            "tags": []
          },
          "execution_count": 143
        }
      ]
    },
    {
      "cell_type": "code",
      "metadata": {
        "colab": {
          "base_uri": "https://localhost:8080/"
        },
        "id": "W0IrYIwUOrvL",
        "outputId": "2cd9da2f-1bf3-4d96-ff13-f60a718cdc80"
      },
      "source": [
        "features_train.shape"
      ],
      "execution_count": null,
      "outputs": [
        {
          "output_type": "execute_result",
          "data": {
            "text/plain": [
              "(472432, 24)"
            ]
          },
          "metadata": {
            "tags": []
          },
          "execution_count": 154
        }
      ]
    },
    {
      "cell_type": "code",
      "metadata": {
        "id": "AVZunzKmOSPS"
      },
      "source": [
        "features_train, features_test, label_train, label_test = train_test_split(features, label, test_size=0.2, random_state=1)"
      ],
      "execution_count": null,
      "outputs": []
    },
    {
      "cell_type": "code",
      "metadata": {
        "colab": {
          "base_uri": "https://localhost:8080/",
          "height": 683
        },
        "id": "11kynMiIJzS4",
        "outputId": "37e791de-ba7d-4fe1-efca-4dcba8a9b6f0"
      },
      "source": [
        "# define the model\n",
        "model = DecisionTreeRegressor()\n",
        "# fit the model\n",
        "model.fit(features_train, label_train)\n",
        "# get importance\n",
        "importance = model.feature_importances_\n",
        "# summarize feature importance\n",
        "for i,v in enumerate(importance):\n",
        "\tprint('Feature: %0d, Score: %.5f' % (i,v))\n",
        "# plot feature importance\n",
        "pyplot.bar([x for x in range(len(importance))], importance)\n",
        "pyplot.show()"
      ],
      "execution_count": null,
      "outputs": [
        {
          "output_type": "stream",
          "text": [
            "Feature: 0, Score: 0.13488\n",
            "Feature: 1, Score: 0.01881\n",
            "Feature: 2, Score: 0.11510\n",
            "Feature: 3, Score: 0.08024\n",
            "Feature: 4, Score: 0.00819\n",
            "Feature: 5, Score: 0.01114\n",
            "Feature: 6, Score: 0.02690\n",
            "Feature: 7, Score: 0.01043\n",
            "Feature: 8, Score: 0.04445\n",
            "Feature: 9, Score: 0.05477\n",
            "Feature: 10, Score: 0.12592\n",
            "Feature: 11, Score: 0.03987\n",
            "Feature: 12, Score: 0.00086\n",
            "Feature: 13, Score: 0.01583\n",
            "Feature: 14, Score: 0.00671\n",
            "Feature: 15, Score: 0.02404\n",
            "Feature: 16, Score: 0.06436\n",
            "Feature: 17, Score: 0.02051\n",
            "Feature: 18, Score: 0.02852\n",
            "Feature: 19, Score: 0.01487\n",
            "Feature: 20, Score: 0.01687\n",
            "Feature: 21, Score: 0.01530\n",
            "Feature: 22, Score: 0.07952\n",
            "Feature: 23, Score: 0.04192\n"
          ],
          "name": "stdout"
        },
        {
          "output_type": "display_data",
          "data": {
            "image/png": "[encoded data removed]",
            "text/plain": [
              "<Figure size 432x288 with 1 Axes>"
            ]
          },
          "metadata": {
            "tags": [],
            "needs_background": "light"
          }
        }
      ]
    },
    {
      "cell_type": "code",
      "metadata": {
        "colab": {
          "base_uri": "https://localhost:8080/"
        },
        "id": "FldZZ39yOcnG",
        "outputId": "f12bd0bf-fbc3-4e83-f7d7-7b5a43d1536a"
      },
      "source": [
        "most_important = sorted(range(len(importance)), key=lambda i: importance[i])[-10:]\n",
        "most_important"
      ],
      "execution_count": null,
      "outputs": [
        {
          "output_type": "execute_result",
          "data": {
            "text/plain": [
              "[11, 23, 8, 9, 16, 22, 3, 2, 10, 0]"
            ]
          },
          "metadata": {
            "tags": []
          },
          "execution_count": 156
        }
      ]
    },
    {
      "cell_type": "code",
      "metadata": {
        "colab": {
          "base_uri": "https://localhost:8080/"
        },
        "id": "toKNaCnkPi6m",
        "outputId": "c1ccff1a-adc4-467f-a458-c46771faf680"
      },
      "source": [
        "train_svm.columns[most_important]"
      ],
      "execution_count": null,
      "outputs": [
        {
          "output_type": "execute_result",
          "data": {
            "text/plain": [
              "Index(['C2', 'C14', 'dist1', 'P_emaildomain', 'C7', 'C13', 'card2', 'card1',\n",
              "       'C1', 'TransactionAmt'],\n",
              "      dtype='object')"
            ]
          },
          "metadata": {
            "tags": []
          },
          "execution_count": 160
        }
      ]
    }
  ]
}